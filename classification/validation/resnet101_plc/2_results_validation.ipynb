{
 "cells": [
  {
   "cell_type": "code",
   "execution_count": 1,
   "id": "f67559e1",
   "metadata": {
    "ExecuteTime": {
     "end_time": "2022-05-24T23:45:42.263337Z",
     "start_time": "2022-05-24T23:45:35.890527Z"
    }
   },
   "outputs": [
    {
     "name": "stderr",
     "output_type": "stream",
     "text": [
      "2022-05-24 20:45:36.429429: I tensorflow/stream_executor/platform/default/dso_loader.cc:49] Successfully opened dynamic library libcudart.so.10.1\n"
     ]
    }
   ],
   "source": [
    "import numpy as np\n",
    "import tensorflow as tf\n",
    "import tensorflow.keras as keras\n",
    "from tensorflow.keras.preprocessing import image_dataset_from_directory\n",
    "from sklearn.metrics import accuracy_score\n",
    "from sklearn.metrics import confusion_matrix\n",
    "from sklearn.metrics import classification_report\n",
    "from sklearn.utils import shuffle\n",
    "from matplotlib import pyplot as plt\n",
    "import itertools\n",
    "from pathlib import Path\n",
    "import os"
   ]
  },
  {
   "cell_type": "code",
   "execution_count": 2,
   "id": "d2e7dd09",
   "metadata": {
    "ExecuteTime": {
     "end_time": "2022-05-24T23:45:42.275568Z",
     "start_time": "2022-05-24T23:45:42.268480Z"
    }
   },
   "outputs": [],
   "source": [
    "# Tamanho imagem\n",
    "img_rows, img_cols = 224, 224\n",
    "\n",
    "input_shape = (img_rows, img_cols, 3)\n",
    "\n",
    "# Batch size\n",
    "\n",
    "batch_size = 32\n",
    "\n",
    "# seed\n",
    "seed = 42\n",
    "\n",
    "path_dataset = Path('/scratch/dpfurtado/backup_home/corais/1_classificacao_train_50/dataset/1_train_50')\n",
    "path_train = path_dataset/'train'\n",
    "path_train_dev = path_dataset/'train-dev'\n",
    "\n",
    "path_modelo = './model/resnet_plc_full_transfer/'"
   ]
  },
  {
   "cell_type": "code",
   "execution_count": 3,
   "id": "93721a5b",
   "metadata": {
    "ExecuteTime": {
     "end_time": "2022-05-24T23:45:44.843128Z",
     "start_time": "2022-05-24T23:45:42.278996Z"
    }
   },
   "outputs": [
    {
     "name": "stdout",
     "output_type": "stream",
     "text": [
      "Found 106 files belonging to 7 classes.\n"
     ]
    },
    {
     "name": "stderr",
     "output_type": "stream",
     "text": [
      "2022-05-24 20:45:42.800608: I tensorflow/compiler/jit/xla_cpu_device.cc:41] Not creating XLA devices, tf_xla_enable_xla_devices not set\n",
      "2022-05-24 20:45:42.803800: I tensorflow/stream_executor/platform/default/dso_loader.cc:49] Successfully opened dynamic library libcuda.so.1\n",
      "2022-05-24 20:45:44.595608: E tensorflow/stream_executor/cuda/cuda_driver.cc:328] failed call to cuInit: CUDA_ERROR_COMPAT_NOT_SUPPORTED_ON_DEVICE: forward compatibility was attempted on non supported HW\n",
      "2022-05-24 20:45:44.595775: I tensorflow/stream_executor/cuda/cuda_diagnostics.cc:169] retrieving CUDA diagnostic information for host: pilheira\n",
      "2022-05-24 20:45:44.595792: I tensorflow/stream_executor/cuda/cuda_diagnostics.cc:176] hostname: pilheira\n",
      "2022-05-24 20:45:44.596228: I tensorflow/stream_executor/cuda/cuda_diagnostics.cc:200] libcuda reported version is: 470.129.6\n",
      "2022-05-24 20:45:44.596313: I tensorflow/stream_executor/cuda/cuda_diagnostics.cc:204] kernel reported version is: 470.103.1\n",
      "2022-05-24 20:45:44.596324: E tensorflow/stream_executor/cuda/cuda_diagnostics.cc:313] kernel version 470.103.1 does not match DSO version 470.129.6 -- cannot find working devices in this configuration\n",
      "2022-05-24 20:45:44.600277: I tensorflow/core/platform/cpu_feature_guard.cc:142] This TensorFlow binary is optimized with oneAPI Deep Neural Network Library (oneDNN) to use the following CPU instructions in performance-critical operations:  SSE4.1 SSE4.2 AVX AVX2 AVX512F FMA\n",
      "To enable them in other operations, rebuild TensorFlow with the appropriate compiler flags.\n",
      "2022-05-24 20:45:44.604683: I tensorflow/compiler/jit/xla_gpu_device.cc:99] Not creating XLA devices, tf_xla_enable_xla_devices not set\n"
     ]
    }
   ],
   "source": [
    "train_dev_dataset = image_dataset_from_directory(\n",
    "        path_train_dev,\n",
    "        image_size=(img_rows, img_cols),\n",
    "        color_mode=\"rgb\",\n",
    "        batch_size=batch_size,\n",
    "        shuffle=False)"
   ]
  },
  {
   "cell_type": "code",
   "execution_count": 4,
   "id": "83ea1fe3",
   "metadata": {
    "ExecuteTime": {
     "end_time": "2022-05-24T23:45:44.856553Z",
     "start_time": "2022-05-24T23:45:44.848501Z"
    }
   },
   "outputs": [],
   "source": [
    "AUTOTUNE = tf.data.AUTOTUNE\n",
    "#Otimização\n",
    "train_dev_dataset = train_dev_dataset.prefetch(buffer_size=AUTOTUNE)"
   ]
  },
  {
   "cell_type": "code",
   "execution_count": null,
   "id": "15163ca3",
   "metadata": {
    "ExecuteTime": {
     "start_time": "2022-05-24T23:45:35.429Z"
    }
   },
   "outputs": [
    {
     "name": "stderr",
     "output_type": "stream",
     "text": [
      "2022-05-24 20:46:44.323460: I tensorflow/compiler/mlir/mlir_graph_optimization_pass.cc:116] None of the MLIR optimization passes are enabled (registered 2)\n",
      "2022-05-24 20:46:44.347624: I tensorflow/core/platform/profile_utils/cpu_utils.cc:112] CPU Frequency: 2200000000 Hz\n"
     ]
    }
   ],
   "source": [
    "model = tf.keras.models.load_model(path_modelo)\n",
    "y_pred_proba = model.predict(train_dev_dataset)\n",
    "y_pred = np.argmax(y_pred_proba, axis=1)"
   ]
  },
  {
   "cell_type": "code",
   "execution_count": null,
   "id": "de83a3e9",
   "metadata": {
    "ExecuteTime": {
     "start_time": "2022-05-24T23:45:35.431Z"
    }
   },
   "outputs": [],
   "source": [
    "y_train_dev = np.concatenate([y for x, y in train_dev_dataset], axis=0)"
   ]
  },
  {
   "cell_type": "code",
   "execution_count": null,
   "id": "bfcb2f74",
   "metadata": {
    "ExecuteTime": {
     "start_time": "2022-05-24T23:45:35.434Z"
    }
   },
   "outputs": [],
   "source": [
    "from sklearn.metrics import log_loss\n",
    "soft_preds=tf.nn.softmax(y_pred_proba).numpy()\n",
    "log_loss(y_train_dev, soft_preds)"
   ]
  },
  {
   "cell_type": "code",
   "execution_count": null,
   "id": "699dfc0d",
   "metadata": {
    "ExecuteTime": {
     "start_time": "2022-05-24T23:45:35.436Z"
    }
   },
   "outputs": [],
   "source": [
    "np.save('./resultados/pred_proba_resnet101_plc.npy', soft_preds)"
   ]
  },
  {
   "cell_type": "code",
   "execution_count": null,
   "id": "551c80ab",
   "metadata": {
    "ExecuteTime": {
     "start_time": "2022-05-24T23:45:35.439Z"
    }
   },
   "outputs": [],
   "source": [
    "acc = accuracy_score(y_train_dev, y_pred)\n",
    "print(\"Acurácia: {:.4f}\".format(acc))"
   ]
  },
  {
   "cell_type": "code",
   "execution_count": null,
   "id": "525e8bfa",
   "metadata": {
    "ExecuteTime": {
     "start_time": "2022-05-24T23:45:35.442Z"
    }
   },
   "outputs": [],
   "source": [
    "def plot_confusion_matrix(cm, class_names):\n",
    "    \"\"\"\n",
    "    Returns a matplotlib figure containing the plotted confusion matrix.\n",
    "\n",
    "    Args:\n",
    "      cm (array, shape = [n, n]): a confusion matrix of integer classes\n",
    "      class_names (array, shape = [n]): String names of the integer classes\n",
    "    \"\"\"\n",
    "    figure = plt.figure(figsize=(8, 8))\n",
    "    plt.imshow(cm, interpolation='nearest', cmap=plt.cm.Blues)\n",
    "    plt.title(\"Confusion matrix\")\n",
    "    plt.colorbar()\n",
    "    tick_marks = np.arange(len(class_names))\n",
    "    plt.xticks(tick_marks, class_names, rotation=45)\n",
    "    plt.yticks(tick_marks, class_names)\n",
    "\n",
    "    # Compute the labels from the normalized confusion matrix.\n",
    "    labels = np.around(cm, decimals=2)\n",
    "\n",
    "    # Use white text if squares are dark; otherwise black.\n",
    "    threshold = cm.max() / 2.\n",
    "    for i, j in itertools.product(range(cm.shape[0]), range(cm.shape[1])):\n",
    "        color = \"white\" if cm[i, j] > threshold else \"black\"\n",
    "        plt.text(j, i, labels[i, j], horizontalalignment=\"center\", color=color)\n",
    "\n",
    "    plt.tight_layout()\n",
    "    plt.ylabel('True label')\n",
    "    plt.xlabel('Predicted label')\n",
    "    return figure\n",
    "\n",
    "class_names = ['agaricia spp', 'favia gravida', 'millepora alcicornis', 'montastraea cavernosa', 'palythoa caribaeorum', 'porites astreoides', 'siderastrea stellata']\n",
    "\n",
    "# Calculate the confusion matrix.\n",
    "cm = confusion_matrix(y_train_dev, y_pred, normalize='true')\n",
    "# Log the confusion matrix as an image summary.\n",
    "figure = plot_confusion_matrix(cm,class_names)\n"
   ]
  },
  {
   "cell_type": "code",
   "execution_count": null,
   "id": "1de14c25",
   "metadata": {
    "ExecuteTime": {
     "start_time": "2022-05-24T23:45:35.444Z"
    }
   },
   "outputs": [],
   "source": [
    "print(classification_report(y_train_dev, y_pred))"
   ]
  },
  {
   "cell_type": "code",
   "execution_count": null,
   "id": "2c65bd58",
   "metadata": {
    "ExecuteTime": {
     "start_time": "2022-05-24T23:45:35.446Z"
    }
   },
   "outputs": [],
   "source": [
    "from sklearn.metrics import f1_score\n",
    "from sklearn.metrics import matthews_corrcoef"
   ]
  },
  {
   "cell_type": "code",
   "execution_count": null,
   "id": "c9f70009",
   "metadata": {
    "ExecuteTime": {
     "start_time": "2022-05-24T23:45:35.450Z"
    }
   },
   "outputs": [],
   "source": [
    "print(f1_score(y_train_dev, y_pred, average='macro'))\n",
    "print(matthews_corrcoef(y_train_dev, y_pred))"
   ]
  }
 ],
 "metadata": {
  "hide_input": false,
  "kernelspec": {
   "display_name": "Python 3 (ipykernel)",
   "language": "python",
   "name": "python3"
  },
  "language_info": {
   "codemirror_mode": {
    "name": "ipython",
    "version": 3
   },
   "file_extension": ".py",
   "mimetype": "text/x-python",
   "name": "python",
   "nbconvert_exporter": "python",
   "pygments_lexer": "ipython3",
   "version": "3.8.8"
  },
  "toc": {
   "base_numbering": 1,
   "nav_menu": {},
   "number_sections": true,
   "sideBar": true,
   "skip_h1_title": false,
   "title_cell": "Table of Contents",
   "title_sidebar": "Contents",
   "toc_cell": false,
   "toc_position": {},
   "toc_section_display": true,
   "toc_window_display": false
  },
  "varInspector": {
   "cols": {
    "lenName": 16,
    "lenType": 16,
    "lenVar": 40
   },
   "kernels_config": {
    "python": {
     "delete_cmd_postfix": "",
     "delete_cmd_prefix": "del ",
     "library": "var_list.py",
     "varRefreshCmd": "print(var_dic_list())"
    },
    "r": {
     "delete_cmd_postfix": ") ",
     "delete_cmd_prefix": "rm(",
     "library": "var_list.r",
     "varRefreshCmd": "cat(var_dic_list()) "
    }
   },
   "types_to_exclude": [
    "module",
    "function",
    "builtin_function_or_method",
    "instance",
    "_Feature"
   ],
   "window_display": false
  }
 },
 "nbformat": 4,
 "nbformat_minor": 5
}
