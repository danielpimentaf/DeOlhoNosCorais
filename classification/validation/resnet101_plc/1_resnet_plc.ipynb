{
 "cells": [
  {
   "cell_type": "code",
   "execution_count": 1,
   "id": "9aa8b5b2",
   "metadata": {
    "ExecuteTime": {
     "end_time": "2022-03-27T23:59:56.465340Z",
     "start_time": "2022-03-27T23:59:56.460806Z"
    },
    "execution": {
     "iopub.execute_input": "2022-05-11T00:21:47.146423Z",
     "iopub.status.busy": "2022-05-11T00:21:47.145850Z",
     "iopub.status.idle": "2022-05-11T00:21:47.148190Z",
     "shell.execute_reply": "2022-05-11T00:21:47.148600Z"
    },
    "papermill": {
     "duration": 0.024148,
     "end_time": "2022-05-11T00:21:47.148990",
     "exception": false,
     "start_time": "2022-05-11T00:21:47.124842",
     "status": "completed"
    },
    "tags": []
   },
   "outputs": [],
   "source": [
    "import os\n",
    "#os.environ[\"CUDA_VISIBLE_DEVICES\"] = \"0\""
   ]
  },
  {
   "cell_type": "markdown",
   "id": "50b3d870",
   "metadata": {
    "papermill": {
     "duration": 0.010477,
     "end_time": "2022-05-11T00:21:47.169220",
     "exception": false,
     "start_time": "2022-05-11T00:21:47.158743",
     "status": "completed"
    },
    "tags": []
   },
   "source": [
    "# Carregando Pacotes"
   ]
  },
  {
   "cell_type": "code",
   "execution_count": 2,
   "id": "86d6823f",
   "metadata": {
    "ExecuteTime": {
     "end_time": "2022-03-27T23:59:56.594373Z",
     "start_time": "2022-03-27T23:59:56.470012Z"
    },
    "execution": {
     "iopub.execute_input": "2022-05-11T00:21:47.191958Z",
     "iopub.status.busy": "2022-05-11T00:21:47.191449Z",
     "iopub.status.idle": "2022-05-11T00:21:50.453546Z",
     "shell.execute_reply": "2022-05-11T00:21:50.454090Z"
    },
    "papermill": {
     "duration": 3.277327,
     "end_time": "2022-05-11T00:21:50.454494",
     "exception": false,
     "start_time": "2022-05-11T00:21:47.177167",
     "status": "completed"
    },
    "tags": []
   },
   "outputs": [
    {
     "name": "stderr",
     "output_type": "stream",
     "text": [
      "2022-05-10 21:21:48.777689: I tensorflow/stream_executor/platform/default/dso_loader.cc:49] Successfully opened dynamic library libcudart.so.10.1\n"
     ]
    }
   ],
   "source": [
    "import numpy as np\n",
    "import pandas as pd\n",
    "from sklearn.metrics import confusion_matrix, accuracy_score, classification_report\n",
    "from matplotlib import pyplot as plt\n",
    "import tensorflow as tf\n",
    "import tensorflow.keras as keras\n",
    "from tensorflow.keras.layers import GlobalAveragePooling2D, Dense, Dropout\n",
    "from tensorflow.keras.models import Model\n",
    "from tensorflow.keras.callbacks import ModelCheckpoint, EarlyStopping\n",
    "from tensorflow.keras.preprocessing import image_dataset_from_directory\n",
    "from tensorflow.keras.applications import ResNet101\n",
    "from tensorflow.keras.applications.resnet import preprocess_input\n",
    "from tensorboard.plugins.hparams import api as hp\n",
    "from pathlib import Path\n",
    "import sklearn.metrics\n",
    "import sklearn\n",
    "import itertools\n",
    "import io\n",
    "import tensorflow_addons as tfa"
   ]
  },
  {
   "cell_type": "code",
   "execution_count": 3,
   "id": "52bd4cf7",
   "metadata": {
    "ExecuteTime": {
     "end_time": "2022-03-27T23:59:56.696260Z",
     "start_time": "2022-03-27T23:59:56.596702Z"
    },
    "execution": {
     "iopub.execute_input": "2022-05-11T00:21:50.481641Z",
     "iopub.status.busy": "2022-05-11T00:21:50.481134Z",
     "iopub.status.idle": "2022-05-11T00:21:50.482923Z",
     "shell.execute_reply": "2022-05-11T00:21:50.483323Z"
    },
    "papermill": {
     "duration": 0.017931,
     "end_time": "2022-05-11T00:21:50.483492",
     "exception": false,
     "start_time": "2022-05-11T00:21:50.465561",
     "status": "completed"
    },
    "tags": []
   },
   "outputs": [
    {
     "name": "stdout",
     "output_type": "stream",
     "text": [
      "2.4.1\n"
     ]
    }
   ],
   "source": [
    "print(tf.__version__)"
   ]
  },
  {
   "cell_type": "markdown",
   "id": "bfe26c66",
   "metadata": {
    "ExecuteTime": {
     "end_time": "2021-10-24T17:27:22.070482Z",
     "start_time": "2021-10-24T17:27:21.797544Z"
    },
    "papermill": {
     "duration": 0.008388,
     "end_time": "2022-05-11T00:21:50.500352",
     "exception": false,
     "start_time": "2022-05-11T00:21:50.491964",
     "status": "completed"
    },
    "tags": []
   },
   "source": [
    "# Paramêtros"
   ]
  },
  {
   "cell_type": "code",
   "execution_count": 4,
   "id": "b220fb47",
   "metadata": {
    "ExecuteTime": {
     "end_time": "2022-03-27T23:59:57.418675Z",
     "start_time": "2022-03-27T23:59:56.698256Z"
    },
    "execution": {
     "iopub.execute_input": "2022-05-11T00:21:52.887791Z",
     "iopub.status.busy": "2022-05-11T00:21:52.887113Z",
     "iopub.status.idle": "2022-05-11T00:21:53.069285Z",
     "shell.execute_reply": "2022-05-11T00:21:53.068698Z"
    },
    "papermill": {
     "duration": 2.560863,
     "end_time": "2022-05-11T00:21:53.069523",
     "exception": false,
     "start_time": "2022-05-11T00:21:50.508660",
     "status": "completed"
    },
    "tags": []
   },
   "outputs": [
    {
     "name": "stdout",
     "output_type": "stream",
     "text": [
      "INFO:tensorflow:Using MirroredStrategy with devices ('/job:localhost/replica:0/task:0/device:GPU:0', '/job:localhost/replica:0/task:0/device:GPU:1')\n",
      "rm: cannot remove './logs/resnet_plc_full_transfer': No such file or directory\n"
     ]
    },
    {
     "name": "stderr",
     "output_type": "stream",
     "text": [
      "2022-05-10 21:21:50.524184: I tensorflow/compiler/jit/xla_cpu_device.cc:41] Not creating XLA devices, tf_xla_enable_xla_devices not set\n",
      "2022-05-10 21:21:50.526594: I tensorflow/stream_executor/platform/default/dso_loader.cc:49] Successfully opened dynamic library libcuda.so.1\n",
      "2022-05-10 21:21:51.613521: I tensorflow/core/common_runtime/gpu/gpu_device.cc:1720] Found device 0 with properties: \n",
      "pciBusID: 0000:3b:00.0 name: NVIDIA GeForce GTX TITAN Black computeCapability: 3.5\n",
      "coreClock: 0.98GHz coreCount: 15 deviceMemorySize: 5.94GiB deviceMemoryBandwidth: 312.92GiB/s\n",
      "2022-05-10 21:21:51.614218: I tensorflow/core/common_runtime/gpu/gpu_device.cc:1720] Found device 1 with properties: \n",
      "pciBusID: 0000:af:00.0 name: NVIDIA GeForce GTX TITAN Black computeCapability: 3.5\n",
      "coreClock: 0.98GHz coreCount: 15 deviceMemorySize: 5.94GiB deviceMemoryBandwidth: 312.92GiB/s\n",
      "2022-05-10 21:21:51.614283: I tensorflow/stream_executor/platform/default/dso_loader.cc:49] Successfully opened dynamic library libcudart.so.10.1\n",
      "2022-05-10 21:21:51.618383: I tensorflow/stream_executor/platform/default/dso_loader.cc:49] Successfully opened dynamic library libcublas.so.10\n",
      "2022-05-10 21:21:51.618519: I tensorflow/stream_executor/platform/default/dso_loader.cc:49] Successfully opened dynamic library libcublasLt.so.10\n",
      "2022-05-10 21:21:51.622821: I tensorflow/stream_executor/platform/default/dso_loader.cc:49] Successfully opened dynamic library libcufft.so.10\n",
      "2022-05-10 21:21:51.623407: I tensorflow/stream_executor/platform/default/dso_loader.cc:49] Successfully opened dynamic library libcurand.so.10\n",
      "2022-05-10 21:21:51.627531: I tensorflow/stream_executor/platform/default/dso_loader.cc:49] Successfully opened dynamic library libcusolver.so.10\n",
      "2022-05-10 21:21:51.629652: I tensorflow/stream_executor/platform/default/dso_loader.cc:49] Successfully opened dynamic library libcusparse.so.10\n",
      "2022-05-10 21:21:51.638233: I tensorflow/stream_executor/platform/default/dso_loader.cc:49] Successfully opened dynamic library libcudnn.so.7\n",
      "2022-05-10 21:21:51.640606: I tensorflow/core/common_runtime/gpu/gpu_device.cc:1862] Adding visible gpu devices: 0, 1\n",
      "2022-05-10 21:21:51.642135: I tensorflow/core/platform/cpu_feature_guard.cc:142] This TensorFlow binary is optimized with oneAPI Deep Neural Network Library (oneDNN) to use the following CPU instructions in performance-critical operations:  SSE4.1 SSE4.2 AVX AVX2 AVX512F FMA\n",
      "To enable them in other operations, rebuild TensorFlow with the appropriate compiler flags.\n",
      "2022-05-10 21:21:51.755463: I tensorflow/core/common_runtime/gpu/gpu_device.cc:1720] Found device 0 with properties: \n",
      "pciBusID: 0000:3b:00.0 name: NVIDIA GeForce GTX TITAN Black computeCapability: 3.5\n",
      "coreClock: 0.98GHz coreCount: 15 deviceMemorySize: 5.94GiB deviceMemoryBandwidth: 312.92GiB/s\n",
      "2022-05-10 21:21:51.756078: I tensorflow/core/common_runtime/gpu/gpu_device.cc:1720] Found device 1 with properties: \n",
      "pciBusID: 0000:af:00.0 name: NVIDIA GeForce GTX TITAN Black computeCapability: 3.5\n",
      "coreClock: 0.98GHz coreCount: 15 deviceMemorySize: 5.94GiB deviceMemoryBandwidth: 312.92GiB/s\n",
      "2022-05-10 21:21:51.756146: I tensorflow/stream_executor/platform/default/dso_loader.cc:49] Successfully opened dynamic library libcudart.so.10.1\n",
      "2022-05-10 21:21:51.756192: I tensorflow/stream_executor/platform/default/dso_loader.cc:49] Successfully opened dynamic library libcublas.so.10\n",
      "2022-05-10 21:21:51.756210: I tensorflow/stream_executor/platform/default/dso_loader.cc:49] Successfully opened dynamic library libcublasLt.so.10\n",
      "2022-05-10 21:21:51.756225: I tensorflow/stream_executor/platform/default/dso_loader.cc:49] Successfully opened dynamic library libcufft.so.10\n",
      "2022-05-10 21:21:51.756243: I tensorflow/stream_executor/platform/default/dso_loader.cc:49] Successfully opened dynamic library libcurand.so.10\n",
      "2022-05-10 21:21:51.756258: I tensorflow/stream_executor/platform/default/dso_loader.cc:49] Successfully opened dynamic library libcusolver.so.10\n",
      "2022-05-10 21:21:51.756285: I tensorflow/stream_executor/platform/default/dso_loader.cc:49] Successfully opened dynamic library libcusparse.so.10\n",
      "2022-05-10 21:21:51.756302: I tensorflow/stream_executor/platform/default/dso_loader.cc:49] Successfully opened dynamic library libcudnn.so.7\n",
      "2022-05-10 21:21:51.757897: I tensorflow/core/common_runtime/gpu/gpu_device.cc:1862] Adding visible gpu devices: 0, 1\n",
      "2022-05-10 21:21:51.757960: I tensorflow/stream_executor/platform/default/dso_loader.cc:49] Successfully opened dynamic library libcudart.so.10.1\n",
      "2022-05-10 21:21:52.876035: I tensorflow/core/common_runtime/gpu/gpu_device.cc:1261] Device interconnect StreamExecutor with strength 1 edge matrix:\n",
      "2022-05-10 21:21:52.876191: I tensorflow/core/common_runtime/gpu/gpu_device.cc:1267]      0 1 \n",
      "2022-05-10 21:21:52.876210: I tensorflow/core/common_runtime/gpu/gpu_device.cc:1280] 0:   N Y \n",
      "2022-05-10 21:21:52.876215: I tensorflow/core/common_runtime/gpu/gpu_device.cc:1280] 1:   Y N \n",
      "2022-05-10 21:21:52.879308: I tensorflow/core/common_runtime/gpu/gpu_device.cc:1406] Created TensorFlow device (/job:localhost/replica:0/task:0/device:GPU:0 with 5581 MB memory) -> physical GPU (device: 0, name: NVIDIA GeForce GTX TITAN Black, pci bus id: 0000:3b:00.0, compute capability: 3.5)\n",
      "2022-05-10 21:21:52.881339: I tensorflow/core/common_runtime/gpu/gpu_device.cc:1406] Created TensorFlow device (/job:localhost/replica:0/task:0/device:GPU:1 with 5581 MB memory) -> physical GPU (device: 1, name: NVIDIA GeForce GTX TITAN Black, pci bus id: 0000:af:00.0, compute capability: 3.5)\n",
      "2022-05-10 21:21:52.881688: I tensorflow/compiler/jit/xla_gpu_device.cc:99] Not creating XLA devices, tf_xla_enable_xla_devices not set\n"
     ]
    }
   ],
   "source": [
    "# Classes\n",
    "num_classes = 7\n",
    "\n",
    "# Epochs\n",
    "n_epochs = 1000\n",
    "n_epochs_ini = 100\n",
    "\n",
    "# Tamanho imagem\n",
    "img_rows, img_cols = 224, 224\n",
    "\n",
    "input_shape = (img_rows, img_cols, 3)\n",
    "\n",
    "#batch_size = 64\n",
    "\n",
    "strategy = tf.distribute.MirroredStrategy()\n",
    "\n",
    "BATCH_SIZE_PER_REPLICA = 16\n",
    "batch_size = BATCH_SIZE_PER_REPLICA * strategy.num_replicas_in_sync\n",
    "\n",
    "options = tf.data.Options()\n",
    "options.experimental_distribute.auto_shard_policy = tf.data.experimental.AutoShardPolicy.DATA\n",
    "\n",
    "\n",
    "# seed\n",
    "seed = 42\n",
    "\n",
    "path_dataset = Path('/scratch/dpfurtado/backup_home/corais/1_classificacao_train_50/dataset/1_train_50')\n",
    "path_train = path_dataset/'train'\n",
    "path_train_dev = path_dataset/'train-dev'\n",
    "\n",
    "nome_modelo = 'resnet_plc_full_transfer'\n",
    "\n",
    "\n",
    "logs_dir = os.path.join('./logs/', nome_modelo)\n",
    "\n",
    "!rm -r {logs_dir}"
   ]
  },
  {
   "cell_type": "markdown",
   "id": "ab258120",
   "metadata": {
    "papermill": {
     "duration": 0.009907,
     "end_time": "2022-05-11T00:21:53.090721",
     "exception": false,
     "start_time": "2022-05-11T00:21:53.080814",
     "status": "completed"
    },
    "tags": []
   },
   "source": [
    "# Carregando Base de Dados"
   ]
  },
  {
   "cell_type": "code",
   "execution_count": 5,
   "id": "dfcf5fac",
   "metadata": {
    "ExecuteTime": {
     "end_time": "2022-03-27T23:59:57.623283Z",
     "start_time": "2022-03-27T23:59:57.424114Z"
    },
    "execution": {
     "iopub.execute_input": "2022-05-11T00:21:53.117936Z",
     "iopub.status.busy": "2022-05-11T00:21:53.117405Z",
     "iopub.status.idle": "2022-05-11T00:21:53.505339Z",
     "shell.execute_reply": "2022-05-11T00:21:53.505770Z"
    },
    "papermill": {
     "duration": 0.406116,
     "end_time": "2022-05-11T00:21:53.506091",
     "exception": false,
     "start_time": "2022-05-11T00:21:53.099975",
     "status": "completed"
    },
    "tags": []
   },
   "outputs": [
    {
     "name": "stdout",
     "output_type": "stream",
     "text": [
      "Found 788 files belonging to 7 classes.\n",
      "Found 106 files belonging to 7 classes.\n"
     ]
    }
   ],
   "source": [
    "train_dataset = image_dataset_from_directory(\n",
    "    path_train,\n",
    "    image_size=(img_rows, img_cols),\n",
    "    color_mode=\"rgb\",\n",
    "    batch_size=batch_size,\n",
    "    shuffle=True)\n",
    "train_dev_dataset = image_dataset_from_directory(\n",
    "    path_train_dev,\n",
    "    image_size=(img_rows, img_cols),\n",
    "    color_mode=\"rgb\",\n",
    "    batch_size=batch_size,\n",
    "    shuffle=False)"
   ]
  },
  {
   "cell_type": "code",
   "execution_count": 6,
   "id": "ea0ec128",
   "metadata": {
    "execution": {
     "iopub.execute_input": "2022-05-11T00:21:53.535364Z",
     "iopub.status.busy": "2022-05-11T00:21:53.534857Z",
     "iopub.status.idle": "2022-05-11T00:21:53.536511Z",
     "shell.execute_reply": "2022-05-11T00:21:53.536894Z"
    },
    "papermill": {
     "duration": 0.019366,
     "end_time": "2022-05-11T00:21:53.537091",
     "exception": false,
     "start_time": "2022-05-11T00:21:53.517725",
     "status": "completed"
    },
    "tags": []
   },
   "outputs": [],
   "source": [
    "class_names =train_dev_dataset.class_names\n",
    "for i in range(len(class_names)):\n",
    "    class_names[i] = class_names[i].replace('_', ' ')"
   ]
  },
  {
   "cell_type": "code",
   "execution_count": 7,
   "id": "fb6d0820",
   "metadata": {
    "execution": {
     "iopub.execute_input": "2022-05-11T00:21:53.563325Z",
     "iopub.status.busy": "2022-05-11T00:21:53.562151Z",
     "iopub.status.idle": "2022-05-11T00:21:55.175434Z",
     "shell.execute_reply": "2022-05-11T00:21:55.174701Z"
    },
    "papermill": {
     "duration": 1.628621,
     "end_time": "2022-05-11T00:21:55.175699",
     "exception": false,
     "start_time": "2022-05-11T00:21:53.547078",
     "status": "completed"
    },
    "tags": []
   },
   "outputs": [
    {
     "name": "stderr",
     "output_type": "stream",
     "text": [
      "2022-05-10 21:21:53.570556: I tensorflow/compiler/mlir/mlir_graph_optimization_pass.cc:116] None of the MLIR optimization passes are enabled (registered 2)\n",
      "2022-05-10 21:21:53.591425: I tensorflow/core/platform/profile_utils/cpu_utils.cc:112] CPU Frequency: 2200000000 Hz\n"
     ]
    }
   ],
   "source": [
    "y_test = np.concatenate([y for x, y in train_dev_dataset], axis=0)"
   ]
  },
  {
   "cell_type": "code",
   "execution_count": 8,
   "id": "999f15eb",
   "metadata": {
    "ExecuteTime": {
     "end_time": "2022-03-27T23:59:57.630925Z",
     "start_time": "2022-03-27T23:59:57.625729Z"
    },
    "execution": {
     "iopub.execute_input": "2022-05-11T00:21:55.206557Z",
     "iopub.status.busy": "2022-05-11T00:21:55.206074Z",
     "iopub.status.idle": "2022-05-11T00:21:55.207859Z",
     "shell.execute_reply": "2022-05-11T00:21:55.207429Z"
    },
    "papermill": {
     "duration": 0.019995,
     "end_time": "2022-05-11T00:21:55.208008",
     "exception": false,
     "start_time": "2022-05-11T00:21:55.188013",
     "status": "completed"
    },
    "tags": []
   },
   "outputs": [],
   "source": [
    "train_dataset = train_dataset.with_options(options)\n",
    "train_dev_dataset = train_dev_dataset.with_options(options)"
   ]
  },
  {
   "cell_type": "code",
   "execution_count": 9,
   "id": "cb599781",
   "metadata": {
    "ExecuteTime": {
     "end_time": "2022-03-28T00:00:00.030580Z",
     "start_time": "2022-03-28T00:00:00.024091Z"
    },
    "execution": {
     "iopub.execute_input": "2022-05-11T00:21:55.234636Z",
     "iopub.status.busy": "2022-05-11T00:21:55.234133Z",
     "iopub.status.idle": "2022-05-11T00:21:55.238467Z",
     "shell.execute_reply": "2022-05-11T00:21:55.238837Z"
    },
    "papermill": {
     "duration": 0.020413,
     "end_time": "2022-05-11T00:21:55.239030",
     "exception": false,
     "start_time": "2022-05-11T00:21:55.218617",
     "status": "completed"
    },
    "tags": []
   },
   "outputs": [],
   "source": [
    "AUTOTUNE = tf.data.AUTOTUNE\n",
    "\n",
    "train_dataset = train_dataset.cache().prefetch(\n",
    "    buffer_size=AUTOTUNE)  # Otimização\n",
    "train_dev_dataset = train_dev_dataset.cache().prefetch(buffer_size=AUTOTUNE)"
   ]
  },
  {
   "cell_type": "code",
   "execution_count": 10,
   "id": "35f8d922",
   "metadata": {
    "ExecuteTime": {
     "end_time": "2022-03-28T00:00:00.153714Z",
     "start_time": "2022-03-28T00:00:00.032724Z"
    },
    "execution": {
     "iopub.execute_input": "2022-05-11T00:21:55.271317Z",
     "iopub.status.busy": "2022-05-11T00:21:55.270769Z",
     "iopub.status.idle": "2022-05-11T00:21:55.271980Z",
     "shell.execute_reply": "2022-05-11T00:21:55.272359Z"
    },
    "papermill": {
     "duration": 0.023064,
     "end_time": "2022-05-11T00:21:55.272506",
     "exception": false,
     "start_time": "2022-05-11T00:21:55.249442",
     "status": "completed"
    },
    "tags": []
   },
   "outputs": [],
   "source": [
    "def plot_confusion_matrix(cm, class_names):\n",
    "    \"\"\"\n",
    "    Returns a matplotlib figure containing the plotted confusion matrix.\n",
    "\n",
    "    Args:\n",
    "      cm (array, shape = [n, n]): a confusion matrix of integer classes\n",
    "      class_names (array, shape = [n]): String names of the integer classes\n",
    "    \"\"\"\n",
    "    figure = plt.figure(figsize=(8, 8))\n",
    "    plt.imshow(cm, interpolation='nearest', cmap=plt.cm.Blues)\n",
    "    plt.title(\"Confusion matrix\")\n",
    "    plt.colorbar()\n",
    "    tick_marks = np.arange(len(class_names))\n",
    "    plt.xticks(tick_marks, class_names, rotation=90)\n",
    "    plt.yticks(tick_marks, class_names)\n",
    "\n",
    "    # Compute the labels from the normalized confusion matrix.\n",
    "    labels = np.around(cm, decimals=2)\n",
    "\n",
    "    # Use white text if squares are dark; otherwise black.\n",
    "    threshold = cm.max() / 2.\n",
    "    for i, j in itertools.product(range(cm.shape[0]), range(cm.shape[1])):\n",
    "        color = \"white\" if cm[i, j] > threshold else \"black\"\n",
    "        plt.text(j, i, labels[i, j], horizontalalignment=\"center\", color=color)\n",
    "\n",
    "    plt.tight_layout()\n",
    "    plt.ylabel('True label')\n",
    "    plt.xlabel('Predicted label')\n",
    "    return figure\n",
    "\n",
    "\n",
    "def plot_to_image(figure):\n",
    "    \"\"\"Converts the matplotlib plot specified by 'figure' to a PNG image and\n",
    "    returns it. The supplied figure is closed and inaccessible after this call.\"\"\"\n",
    "    # Save the plot to a PNG in memory.\n",
    "    buf = io.BytesIO()\n",
    "    plt.savefig(buf, format='png')\n",
    "    # Closing the figure prevents it from being displayed directly inside\n",
    "    # the notebook.\n",
    "    plt.close(figure)\n",
    "    buf.seek(0)\n",
    "    # Convert PNG buffer to TF image\n",
    "    image = tf.image.decode_png(buf.getvalue(), channels=4)\n",
    "    # Add the batch dimension\n",
    "    image = tf.expand_dims(image, 0)\n",
    "    return image\n"
   ]
  },
  {
   "cell_type": "code",
   "execution_count": 11,
   "id": "886dce52",
   "metadata": {
    "ExecuteTime": {
     "end_time": "2022-03-28T00:22:23.573937Z",
     "start_time": "2022-03-28T00:00:57.241781Z"
    },
    "execution": {
     "iopub.execute_input": "2022-05-11T00:21:55.312361Z",
     "iopub.status.busy": "2022-05-11T00:21:55.311742Z",
     "iopub.status.idle": "2022-05-11T01:40:32.696041Z",
     "shell.execute_reply": "2022-05-11T01:40:32.696859Z"
    },
    "papermill": {
     "duration": 4717.414974,
     "end_time": "2022-05-11T01:40:32.697890",
     "exception": false,
     "start_time": "2022-05-11T00:21:55.282916",
     "status": "completed"
    },
    "scrolled": true,
    "tags": []
   },
   "outputs": [
    {
     "name": "stdout",
     "output_type": "stream",
     "text": [
      "INFO:tensorflow:Reduce to /job:localhost/replica:0/task:0/device:CPU:0 then broadcast to ('/job:localhost/replica:0/task:0/device:CPU:0',).\n",
      "INFO:tensorflow:Reduce to /job:localhost/replica:0/task:0/device:CPU:0 then broadcast to ('/job:localhost/replica:0/task:0/device:CPU:0',).\n",
      "INFO:tensorflow:Reduce to /job:localhost/replica:0/task:0/device:CPU:0 then broadcast to ('/job:localhost/replica:0/task:0/device:CPU:0',).\n",
      "INFO:tensorflow:Reduce to /job:localhost/replica:0/task:0/device:CPU:0 then broadcast to ('/job:localhost/replica:0/task:0/device:CPU:0',).\n",
      "INFO:tensorflow:Reduce to /job:localhost/replica:0/task:0/device:CPU:0 then broadcast to ('/job:localhost/replica:0/task:0/device:CPU:0',).\n",
      "INFO:tensorflow:Reduce to /job:localhost/replica:0/task:0/device:CPU:0 then broadcast to ('/job:localhost/replica:0/task:0/device:CPU:0',).\n",
      "INFO:tensorflow:Reduce to /job:localhost/replica:0/task:0/device:CPU:0 then broadcast to ('/job:localhost/replica:0/task:0/device:CPU:0',).\n",
      "INFO:tensorflow:Reduce to /job:localhost/replica:0/task:0/device:CPU:0 then broadcast to ('/job:localhost/replica:0/task:0/device:CPU:0',).\n",
      "INFO:tensorflow:Reduce to /job:localhost/replica:0/task:0/device:CPU:0 then broadcast to ('/job:localhost/replica:0/task:0/device:CPU:0',).\n",
      "INFO:tensorflow:Reduce to /job:localhost/replica:0/task:0/device:CPU:0 then broadcast to ('/job:localhost/replica:0/task:0/device:CPU:0',).\n",
      "INFO:tensorflow:batch_all_reduce: 2 all-reduces with algorithm = nccl, num_packs = 1\n",
      "INFO:tensorflow:batch_all_reduce: 2 all-reduces with algorithm = nccl, num_packs = 1\n"
     ]
    },
    {
     "name": "stderr",
     "output_type": "stream",
     "text": [
      "2022-05-10 21:22:43.556717: I tensorflow/stream_executor/platform/default/dso_loader.cc:49] Successfully opened dynamic library libcublas.so.10\n",
      "2022-05-10 21:22:53.821233: I tensorflow/core/kernels/data/shuffle_dataset_op.cc:177] Filling up shuffle buffer (this may take a while): 113 of 256\n",
      "2022-05-10 21:23:03.700685: I tensorflow/core/kernels/data/shuffle_dataset_op.cc:230] Shuffle buffer filled.\n",
      "2022-05-10 21:23:05.850602: I tensorflow/stream_executor/platform/default/dso_loader.cc:49] Successfully opened dynamic library libcudnn.so.7\n"
     ]
    },
    {
     "name": "stdout",
     "output_type": "stream",
     "text": [
      "INFO:tensorflow:batch_all_reduce: 418 all-reduces with algorithm = nccl, num_packs = 1\n",
      "INFO:tensorflow:batch_all_reduce: 418 all-reduces with algorithm = nccl, num_packs = 1\n"
     ]
    },
    {
     "name": "stderr",
     "output_type": "stream",
     "text": [
      "2022-05-10 21:36:12.169462: W tensorflow/python/util/util.cc:348] Sets are not currently considered sequences, but this may change in the future, so consider avoiding using them.\n"
     ]
    },
    {
     "name": "stdout",
     "output_type": "stream",
     "text": [
      "INFO:tensorflow:Assets written to: ./model/resnet_plc_full_transfer/assets\n",
      "INFO:tensorflow:Assets written to: ./model/resnet_plc_full_transfer/assets\n",
      "INFO:tensorflow:Assets written to: ./model/resnet_plc_full_transfer/assets\n",
      "INFO:tensorflow:Assets written to: ./model/resnet_plc_full_transfer/assets\n",
      "INFO:tensorflow:Assets written to: ./model/resnet_plc_full_transfer/assets\n",
      "INFO:tensorflow:Assets written to: ./model/resnet_plc_full_transfer/assets\n",
      "INFO:tensorflow:Assets written to: ./model/resnet_plc_full_transfer/assets\n",
      "INFO:tensorflow:Assets written to: ./model/resnet_plc_full_transfer/assets\n",
      "INFO:tensorflow:Assets written to: ./model/resnet_plc_full_transfer/assets\n",
      "INFO:tensorflow:Assets written to: ./model/resnet_plc_full_transfer/assets\n",
      "INFO:tensorflow:Assets written to: ./model/resnet_plc_full_transfer/assets\n",
      "INFO:tensorflow:Assets written to: ./model/resnet_plc_full_transfer/assets\n",
      "INFO:tensorflow:Assets written to: ./model/resnet_plc_full_transfer/assets\n",
      "INFO:tensorflow:Assets written to: ./model/resnet_plc_full_transfer/assets\n",
      "INFO:tensorflow:Assets written to: ./model/resnet_plc_full_transfer/assets\n",
      "INFO:tensorflow:Assets written to: ./model/resnet_plc_full_transfer/assets\n",
      "INFO:tensorflow:Assets written to: ./model/resnet_plc_full_transfer/assets\n",
      "INFO:tensorflow:Assets written to: ./model/resnet_plc_full_transfer/assets\n",
      "INFO:tensorflow:Assets written to: ./model/resnet_plc_full_transfer/assets\n",
      "INFO:tensorflow:Assets written to: ./model/resnet_plc_full_transfer/assets\n",
      "INFO:tensorflow:Assets written to: ./model/resnet_plc_full_transfer/assets\n",
      "INFO:tensorflow:Assets written to: ./model/resnet_plc_full_transfer/assets\n",
      "INFO:tensorflow:Assets written to: ./model/resnet_plc_full_transfer/assets\n",
      "INFO:tensorflow:Assets written to: ./model/resnet_plc_full_transfer/assets\n",
      "INFO:tensorflow:Assets written to: ./model/resnet_plc_full_transfer/assets\n",
      "INFO:tensorflow:Assets written to: ./model/resnet_plc_full_transfer/assets\n",
      "INFO:tensorflow:Assets written to: ./model/resnet_plc_full_transfer/assets\n",
      "INFO:tensorflow:Assets written to: ./model/resnet_plc_full_transfer/assets\n",
      "INFO:tensorflow:Assets written to: ./model/resnet_plc_full_transfer/assets\n",
      "INFO:tensorflow:Assets written to: ./model/resnet_plc_full_transfer/assets\n"
     ]
    }
   ],
   "source": [
    "run_dir = logs_dir\n",
    "\n",
    "file_writer_cm = tf.summary.create_file_writer(run_dir + '/cm')\n",
    "\n",
    "\n",
    "def log_confusion_matrix(epoch, logs):\n",
    "    # Use the model to predict the values from the validation dataset.\n",
    "    test_pred_raw = model.predict(train_dev_dataset)\n",
    "    test_pred = np.argmax(test_pred_raw, axis=1)\n",
    "\n",
    "    # Calculate the confusion matrix.\n",
    "    cm = sklearn.metrics.confusion_matrix(\n",
    "        y_test, test_pred, normalize='true')\n",
    "    # Log the confusion matrix as an image summary.\n",
    "    figure = plot_confusion_matrix(cm, class_names=class_names)\n",
    "    cm_image = plot_to_image(figure)\n",
    "\n",
    "    # Log the confusion matrix as an image summary.\n",
    "    with file_writer_cm.as_default():\n",
    "        tf.summary.image(\"Confusion Matrix\", cm_image, step=epoch)\n",
    "\n",
    "\n",
    "# Define the per-epoch callback.\n",
    "cm_callback = keras.callbacks.LambdaCallback(\n",
    "    on_epoch_end=log_confusion_matrix)\n",
    "with strategy.scope():\n",
    "    # loss\n",
    "    loss = tf.keras.losses.SparseCategoricalCrossentropy(from_logits=True)\n",
    "    # métricas\n",
    "    metrics = [tf.keras.metrics.SparseCategoricalAccuracy(name='accuracy')]\n",
    "    data_augmentation = tf.keras.Sequential(\n",
    "        [tf.keras.layers.experimental.preprocessing.RandomFlip('horizontal_and_vertical')])\n",
    "    # Keras sequential model with Hyperparameters passed from the argument\n",
    "    model_pre = tf.keras.models.load_model('model_base/resnet101_plc_full/')\n",
    "    cnn = Model(model_pre.input, model_pre.layers[-3].output)\n",
    "    # Para o primeiro treinamento as camadas convolucionais não serão treinadas\n",
    "    cnn.trainable = False\n",
    "    # Camadas de Batch Normalization em inference mode\n",
    "    inputs = keras.Input(shape=input_shape)\n",
    "    x = cnn(inputs, training=False)\n",
    "    x = keras.layers.Dropout(0.2)(x)\n",
    "    predictions = Dense(num_classes)(x)\n",
    "    model = Model(inputs, predictions)\n",
    "    lr_denso = 5e-5\n",
    "    model.compile(optimizer=keras.optimizers.SGD(\n",
    "        learning_rate=lr_denso, momentum=0.9), loss=loss, metrics=metrics)\n",
    "\n",
    "\n",
    "def scheduler_denso(epoch, lr):\n",
    "    lr_0 = lr_denso\n",
    "    epoch_ini_lr = 20\n",
    "    if epoch < epoch_ini_lr:\n",
    "        learning_rate = lr\n",
    "        with tf.summary.create_file_writer(run_dir + '/metric').as_default():\n",
    "            tf.summary.scalar(\n",
    "                'learning rate', data=learning_rate, step=epoch)\n",
    "        return learning_rate\n",
    "    else:\n",
    "        learning_rate = lr_0 * \\\n",
    "            tf.math.exp(-0.005*(epoch-epoch_ini_lr)).numpy()\n",
    "        with tf.summary.create_file_writer(run_dir + '/metric').as_default():\n",
    "            tf.summary.scalar(\n",
    "                'learning rate', data=learning_rate, step=epoch)\n",
    "        return learning_rate\n",
    "\n",
    "\n",
    "callbacks_dense = [tf.keras.callbacks.TensorBoard(run_dir, profile_batch=0, write_graph=False),\n",
    "                   tf.keras.callbacks.LearningRateScheduler(\n",
    "    scheduler_denso, verbose=0),\n",
    "    cm_callback,\n",
    "    EarlyStopping(patience=15)]\n",
    "# Training the network\n",
    "history_dense = model.fit(train_dataset, epochs=n_epochs_ini, verbose=0,\n",
    "                          validation_data=train_dev_dataset, callbacks=callbacks_dense)\n",
    "\n",
    "treinamento_denso = len(history_dense.history['loss'])\n",
    "with strategy.scope():\n",
    "    cnn.trainable = True\n",
    "    # loss\n",
    "    loss = tf.keras.losses.SparseCategoricalCrossentropy(from_logits=True)\n",
    "    # métricas\n",
    "    metrics = [tf.keras.metrics.SparseCategoricalAccuracy(name='accuracy')]\n",
    "    lr_full = 5e-6\n",
    "    model.compile(\n",
    "        optimizer=keras.optimizers.SGD(\n",
    "            learning_rate=lr_full, momentum=0.9),\n",
    "        loss=loss,\n",
    "        metrics=metrics\n",
    "    )\n",
    "\n",
    "\n",
    "def scheduler_cnn(epoch, lr):\n",
    "    lr_0 = lr_full\n",
    "    learning_rate = lr_0 * \\\n",
    "        tf.math.exp(-0.02*(epoch-treinamento_denso)).numpy()\n",
    "    with tf.summary.create_file_writer(run_dir + '/metric').as_default():\n",
    "        tf.summary.scalar(\n",
    "            'learning rate', data=learning_rate, step=epoch)\n",
    "    return learning_rate\n",
    "\n",
    "nome_save_model = nome_modelo\n",
    "\n",
    "model_dir = os.path.join('./model/', nome_save_model)\n",
    "\n",
    "callbacks_cnn = [tf.keras.callbacks.TensorBoard(run_dir, profile_batch=0, write_graph=False),\n",
    "                 tf.keras.callbacks.LearningRateScheduler(\n",
    "                 scheduler_cnn, verbose=0),\n",
    "                 cm_callback,\n",
    "                 EarlyStopping(patience=30),\n",
    "                ModelCheckpoint(filepath=model_dir,monitor=\"val_loss\",save_best_only=True)]\n",
    "\n",
    "history_cnn = model.fit(train_dataset, epochs=n_epochs, initial_epoch=treinamento_denso, verbose=0,\n",
    "                        validation_data=train_dev_dataset, callbacks=callbacks_cnn)\n",
    "\n",
    "treinamento_cnn = len(history_cnn.history['loss'])\n"
   ]
  },
  {
   "cell_type": "code",
   "execution_count": 12,
   "id": "8ddd615c",
   "metadata": {
    "ExecuteTime": {
     "end_time": "2022-03-28T00:22:23.746394Z",
     "start_time": "2022-03-28T00:22:23.741894Z"
    },
    "execution": {
     "iopub.execute_input": "2022-05-11T01:40:32.756230Z",
     "iopub.status.busy": "2022-05-11T01:40:32.755654Z",
     "iopub.status.idle": "2022-05-11T01:40:32.758198Z",
     "shell.execute_reply": "2022-05-11T01:40:32.757660Z"
    },
    "papermill": {
     "duration": 0.034204,
     "end_time": "2022-05-11T01:40:32.758359",
     "exception": false,
     "start_time": "2022-05-11T01:40:32.724155",
     "status": "completed"
    },
    "tags": []
   },
   "outputs": [
    {
     "name": "stdout",
     "output_type": "stream",
     "text": [
      "100\n",
      "78\n"
     ]
    }
   ],
   "source": [
    "print(treinamento_denso)\n",
    "print(treinamento_cnn)"
   ]
  }
 ],
 "metadata": {
  "hide_input": false,
  "kernelspec": {
   "display_name": "Python 3 (ipykernel)",
   "language": "python",
   "name": "python3"
  },
  "language_info": {
   "codemirror_mode": {
    "name": "ipython",
    "version": 3
   },
   "file_extension": ".py",
   "mimetype": "text/x-python",
   "name": "python",
   "nbconvert_exporter": "python",
   "pygments_lexer": "ipython3",
   "version": "3.8.8"
  },
  "papermill": {
   "default_parameters": {},
   "duration": 4730.995648,
   "end_time": "2022-05-11T01:40:36.913969",
   "environment_variables": {},
   "exception": null,
   "input_path": "resnet_plc_full_transfer.ipynb",
   "output_path": "resnet_plc_full_transfer_output.ipynb",
   "parameters": {},
   "start_time": "2022-05-11T00:21:45.918321",
   "version": "2.3.3"
  },
  "toc": {
   "base_numbering": 1,
   "nav_menu": {},
   "number_sections": true,
   "sideBar": true,
   "skip_h1_title": false,
   "title_cell": "Table of Contents",
   "title_sidebar": "Contents",
   "toc_cell": false,
   "toc_position": {},
   "toc_section_display": true,
   "toc_window_display": false
  },
  "varInspector": {
   "cols": {
    "lenName": 16,
    "lenType": 16,
    "lenVar": 40
   },
   "kernels_config": {
    "python": {
     "delete_cmd_postfix": "",
     "delete_cmd_prefix": "del ",
     "library": "var_list.py",
     "varRefreshCmd": "print(var_dic_list())"
    },
    "r": {
     "delete_cmd_postfix": ") ",
     "delete_cmd_prefix": "rm(",
     "library": "var_list.r",
     "varRefreshCmd": "cat(var_dic_list()) "
    }
   },
   "types_to_exclude": [
    "module",
    "function",
    "builtin_function_or_method",
    "instance",
    "_Feature"
   ],
   "window_display": false
  }
 },
 "nbformat": 4,
 "nbformat_minor": 5
}
