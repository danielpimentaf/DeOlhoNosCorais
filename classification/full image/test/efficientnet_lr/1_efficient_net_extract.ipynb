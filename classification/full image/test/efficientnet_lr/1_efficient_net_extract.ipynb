{
 "cells": [
  {
   "cell_type": "code",
   "execution_count": 1,
   "id": "7a3d57e4",
   "metadata": {
    "ExecuteTime": {
     "end_time": "2022-05-31T22:07:29.402709Z",
     "start_time": "2022-05-31T22:07:29.399696Z"
    }
   },
   "outputs": [],
   "source": [
    "import os"
   ]
  },
  {
   "cell_type": "markdown",
   "id": "e88c9d32",
   "metadata": {},
   "source": [
    "# Pacotes"
   ]
  },
  {
   "cell_type": "code",
   "execution_count": 2,
   "id": "7f7e42a6",
   "metadata": {
    "ExecuteTime": {
     "end_time": "2022-05-31T22:07:40.625262Z",
     "start_time": "2022-05-31T22:07:29.404086Z"
    }
   },
   "outputs": [
    {
     "name": "stderr",
     "output_type": "stream",
     "text": [
      "2022-05-31 19:07:31.415207: I tensorflow/stream_executor/platform/default/dso_loader.cc:49] Successfully opened dynamic library libcudart.so.10.1\n"
     ]
    }
   ],
   "source": [
    "import numpy as np\n",
    "import tensorflow as tf\n",
    "import tensorflow.keras as keras\n",
    "from tensorflow.keras.layers import GlobalAveragePooling2D\n",
    "from tensorflow.keras.models import Model\n",
    "from tensorflow.keras.preprocessing import image_dataset_from_directory\n",
    "from tensorflow.keras.applications import EfficientNetB7\n",
    "from tensorflow.keras.applications.efficientnet import preprocess_input\n",
    "from pathlib import Path"
   ]
  },
  {
   "cell_type": "code",
   "execution_count": 3,
   "id": "bd051440",
   "metadata": {
    "ExecuteTime": {
     "end_time": "2022-05-31T22:07:40.635945Z",
     "start_time": "2022-05-31T22:07:40.629626Z"
    }
   },
   "outputs": [],
   "source": [
    "# Tamanho imagem\n",
    "img_rows, img_cols = 600, 600\n",
    "\n",
    "input_shape = (img_rows, img_cols, 3)\n",
    "\n",
    "# Batch size\n",
    "\n",
    "batch_size = 32\n",
    "\n",
    "# seed\n",
    "seed = 42\n",
    "\n",
    "path_dataset = Path('/scratch/dpfurtado/backup_home/corais/1_classificacao_train_50/dataset/1_train_50')\n",
    "path_train = path_dataset/'train'\n",
    "path_train_dev = path_dataset/'train-dev'\n",
    "path_test = path_dataset/'test_1_2'\n",
    "\n",
    "#Arquivos npy\n",
    "path_dir_dataset = './dataset'\n",
    "npz = path_dir_dataset + '/extracao_efficientnetb7' "
   ]
  },
  {
   "cell_type": "code",
   "execution_count": 4,
   "id": "09cc7843",
   "metadata": {
    "ExecuteTime": {
     "end_time": "2022-05-31T22:07:49.715244Z",
     "start_time": "2022-05-31T22:07:40.637678Z"
    },
    "scrolled": true
   },
   "outputs": [
    {
     "name": "stdout",
     "output_type": "stream",
     "text": [
      "Found 788 files belonging to 7 classes.\n"
     ]
    },
    {
     "name": "stderr",
     "output_type": "stream",
     "text": [
      "2022-05-31 19:07:40.988745: I tensorflow/compiler/jit/xla_cpu_device.cc:41] Not creating XLA devices, tf_xla_enable_xla_devices not set\n",
      "2022-05-31 19:07:40.991029: I tensorflow/stream_executor/platform/default/dso_loader.cc:49] Successfully opened dynamic library libcuda.so.1\n",
      "2022-05-31 19:07:41.964349: I tensorflow/core/common_runtime/gpu/gpu_device.cc:1720] Found device 0 with properties: \n",
      "pciBusID: 0000:3b:00.0 name: NVIDIA GeForce GTX TITAN Black computeCapability: 3.5\n",
      "coreClock: 0.98GHz coreCount: 15 deviceMemorySize: 5.94GiB deviceMemoryBandwidth: 312.92GiB/s\n",
      "2022-05-31 19:07:41.965138: I tensorflow/core/common_runtime/gpu/gpu_device.cc:1720] Found device 1 with properties: \n",
      "pciBusID: 0000:af:00.0 name: NVIDIA GeForce GTX TITAN Black computeCapability: 3.5\n",
      "coreClock: 0.98GHz coreCount: 15 deviceMemorySize: 5.94GiB deviceMemoryBandwidth: 312.92GiB/s\n",
      "2022-05-31 19:07:41.965178: I tensorflow/stream_executor/platform/default/dso_loader.cc:49] Successfully opened dynamic library libcudart.so.10.1\n",
      "2022-05-31 19:07:43.142384: I tensorflow/stream_executor/platform/default/dso_loader.cc:49] Successfully opened dynamic library libcublas.so.10\n",
      "2022-05-31 19:07:43.142537: I tensorflow/stream_executor/platform/default/dso_loader.cc:49] Successfully opened dynamic library libcublasLt.so.10\n",
      "2022-05-31 19:07:43.255278: I tensorflow/stream_executor/platform/default/dso_loader.cc:49] Successfully opened dynamic library libcufft.so.10\n",
      "2022-05-31 19:07:43.327790: I tensorflow/stream_executor/platform/default/dso_loader.cc:49] Successfully opened dynamic library libcurand.so.10\n",
      "2022-05-31 19:07:43.960796: I tensorflow/stream_executor/platform/default/dso_loader.cc:49] Successfully opened dynamic library libcusolver.so.10\n",
      "2022-05-31 19:07:44.043229: I tensorflow/stream_executor/platform/default/dso_loader.cc:49] Successfully opened dynamic library libcusparse.so.10\n",
      "2022-05-31 19:07:45.089629: I tensorflow/stream_executor/platform/default/dso_loader.cc:49] Successfully opened dynamic library libcudnn.so.7\n",
      "2022-05-31 19:07:45.091854: I tensorflow/core/common_runtime/gpu/gpu_device.cc:1862] Adding visible gpu devices: 0, 1\n",
      "2022-05-31 19:07:45.104074: I tensorflow/core/platform/cpu_feature_guard.cc:142] This TensorFlow binary is optimized with oneAPI Deep Neural Network Library (oneDNN) to use the following CPU instructions in performance-critical operations:  SSE4.1 SSE4.2 AVX AVX2 AVX512F FMA\n",
      "To enable them in other operations, rebuild TensorFlow with the appropriate compiler flags.\n",
      "2022-05-31 19:07:45.243262: I tensorflow/core/common_runtime/gpu/gpu_device.cc:1720] Found device 0 with properties: \n",
      "pciBusID: 0000:3b:00.0 name: NVIDIA GeForce GTX TITAN Black computeCapability: 3.5\n",
      "coreClock: 0.98GHz coreCount: 15 deviceMemorySize: 5.94GiB deviceMemoryBandwidth: 312.92GiB/s\n",
      "2022-05-31 19:07:45.243895: I tensorflow/core/common_runtime/gpu/gpu_device.cc:1720] Found device 1 with properties: \n",
      "pciBusID: 0000:af:00.0 name: NVIDIA GeForce GTX TITAN Black computeCapability: 3.5\n",
      "coreClock: 0.98GHz coreCount: 15 deviceMemorySize: 5.94GiB deviceMemoryBandwidth: 312.92GiB/s\n",
      "2022-05-31 19:07:45.244010: I tensorflow/stream_executor/platform/default/dso_loader.cc:49] Successfully opened dynamic library libcudart.so.10.1\n",
      "2022-05-31 19:07:45.244067: I tensorflow/stream_executor/platform/default/dso_loader.cc:49] Successfully opened dynamic library libcublas.so.10\n",
      "2022-05-31 19:07:45.244086: I tensorflow/stream_executor/platform/default/dso_loader.cc:49] Successfully opened dynamic library libcublasLt.so.10\n",
      "2022-05-31 19:07:45.244101: I tensorflow/stream_executor/platform/default/dso_loader.cc:49] Successfully opened dynamic library libcufft.so.10\n",
      "2022-05-31 19:07:45.244118: I tensorflow/stream_executor/platform/default/dso_loader.cc:49] Successfully opened dynamic library libcurand.so.10\n",
      "2022-05-31 19:07:45.244130: I tensorflow/stream_executor/platform/default/dso_loader.cc:49] Successfully opened dynamic library libcusolver.so.10\n",
      "2022-05-31 19:07:45.244143: I tensorflow/stream_executor/platform/default/dso_loader.cc:49] Successfully opened dynamic library libcusparse.so.10\n",
      "2022-05-31 19:07:45.244160: I tensorflow/stream_executor/platform/default/dso_loader.cc:49] Successfully opened dynamic library libcudnn.so.7\n",
      "2022-05-31 19:07:45.245888: I tensorflow/core/common_runtime/gpu/gpu_device.cc:1862] Adding visible gpu devices: 0, 1\n",
      "2022-05-31 19:07:45.252642: I tensorflow/stream_executor/platform/default/dso_loader.cc:49] Successfully opened dynamic library libcudart.so.10.1\n",
      "2022-05-31 19:07:49.399894: I tensorflow/core/common_runtime/gpu/gpu_device.cc:1261] Device interconnect StreamExecutor with strength 1 edge matrix:\n",
      "2022-05-31 19:07:49.400031: I tensorflow/core/common_runtime/gpu/gpu_device.cc:1267]      0 1 \n",
      "2022-05-31 19:07:49.400040: I tensorflow/core/common_runtime/gpu/gpu_device.cc:1280] 0:   N Y \n",
      "2022-05-31 19:07:49.400045: I tensorflow/core/common_runtime/gpu/gpu_device.cc:1280] 1:   Y N \n",
      "2022-05-31 19:07:49.410399: I tensorflow/core/common_runtime/gpu/gpu_device.cc:1406] Created TensorFlow device (/job:localhost/replica:0/task:0/device:GPU:0 with 5581 MB memory) -> physical GPU (device: 0, name: NVIDIA GeForce GTX TITAN Black, pci bus id: 0000:3b:00.0, compute capability: 3.5)\n",
      "2022-05-31 19:07:49.432620: I tensorflow/core/common_runtime/gpu/gpu_device.cc:1406] Created TensorFlow device (/job:localhost/replica:0/task:0/device:GPU:1 with 5581 MB memory) -> physical GPU (device: 1, name: NVIDIA GeForce GTX TITAN Black, pci bus id: 0000:af:00.0, compute capability: 3.5)\n",
      "2022-05-31 19:07:49.433082: I tensorflow/compiler/jit/xla_gpu_device.cc:99] Not creating XLA devices, tf_xla_enable_xla_devices not set\n"
     ]
    },
    {
     "name": "stdout",
     "output_type": "stream",
     "text": [
      "Found 106 files belonging to 7 classes.\n",
      "Found 168 files belonging to 7 classes.\n"
     ]
    }
   ],
   "source": [
    "train_dataset = image_dataset_from_directory(\n",
    "        path_train,\n",
    "        image_size=(img_rows, img_cols),\n",
    "        color_mode=\"rgb\",\n",
    "        batch_size=batch_size,\n",
    "        shuffle=False) # Manter Shuffle = False, pois não haverá treinamento\n",
    "train_dev_dataset_concat = image_dataset_from_directory(\n",
    "        path_train_dev,\n",
    "        image_size=(img_rows, img_cols),\n",
    "        color_mode=\"rgb\",\n",
    "        batch_size=batch_size,\n",
    "        shuffle=False)\n",
    "test_dataset = image_dataset_from_directory(\n",
    "        path_test,\n",
    "        image_size=(img_rows, img_cols),\n",
    "        color_mode=\"rgb\",\n",
    "        batch_size=batch_size,\n",
    "        shuffle=False)"
   ]
  },
  {
   "cell_type": "code",
   "execution_count": 5,
   "id": "0fd1cdbe",
   "metadata": {
    "ExecuteTime": {
     "end_time": "2022-05-31T22:07:49.724345Z",
     "start_time": "2022-05-31T22:07:49.718623Z"
    }
   },
   "outputs": [],
   "source": [
    "train_dataset = train_dataset.concatenate(train_dev_dataset_concat)"
   ]
  },
  {
   "cell_type": "code",
   "execution_count": 6,
   "id": "95442cdd",
   "metadata": {
    "ExecuteTime": {
     "end_time": "2022-05-31T22:07:49.901796Z",
     "start_time": "2022-05-31T22:07:49.725894Z"
    }
   },
   "outputs": [],
   "source": [
    "AUTOTUNE = tf.data.AUTOTUNE\n",
    "\n",
    "train_dataset = train_dataset.prefetch(buffer_size=AUTOTUNE) \n",
    "test_dataset = test_dataset.prefetch(buffer_size=AUTOTUNE)"
   ]
  },
  {
   "cell_type": "code",
   "execution_count": 7,
   "id": "911e437e",
   "metadata": {
    "ExecuteTime": {
     "end_time": "2022-05-31T22:07:59.061483Z",
     "start_time": "2022-05-31T22:07:49.903007Z"
    }
   },
   "outputs": [
    {
     "name": "stdout",
     "output_type": "stream",
     "text": [
      "Model: \"model\"\n",
      "_________________________________________________________________\n",
      "Layer (type)                 Output Shape              Param #   \n",
      "=================================================================\n",
      "input_2 (InputLayer)         [(None, 600, 600, 3)]     0         \n",
      "_________________________________________________________________\n",
      "efficientnetb7 (Functional)  (None, 19, 19, 2560)      64097687  \n",
      "_________________________________________________________________\n",
      "global_average_pooling2d (Gl (None, 2560)              0         \n",
      "=================================================================\n",
      "Total params: 64,097,687\n",
      "Trainable params: 63,786,960\n",
      "Non-trainable params: 310,727\n",
      "_________________________________________________________________\n"
     ]
    }
   ],
   "source": [
    "cnn = EfficientNetB7(weights='imagenet', include_top=False, input_shape=input_shape)\n",
    "inputs = keras.Input(shape=input_shape)\n",
    "x = preprocess_input(inputs)\n",
    "x = cnn(x)\n",
    "output = GlobalAveragePooling2D()(x)\n",
    "model = Model(inputs, output)\n",
    "model.summary()"
   ]
  },
  {
   "cell_type": "code",
   "execution_count": 8,
   "id": "134b7712",
   "metadata": {
    "ExecuteTime": {
     "end_time": "2022-05-31T22:09:46.879430Z",
     "start_time": "2022-05-31T22:07:59.063319Z"
    }
   },
   "outputs": [
    {
     "name": "stderr",
     "output_type": "stream",
     "text": [
      "2022-05-31 19:08:40.333940: W tensorflow/python/util/util.cc:348] Sets are not currently considered sequences, but this may change in the future, so consider avoiding using them.\n"
     ]
    },
    {
     "name": "stdout",
     "output_type": "stream",
     "text": [
      "INFO:tensorflow:Assets written to: ./model/extrator_cnn/assets\n"
     ]
    }
   ],
   "source": [
    "model.save('./model/extrator_cnn/')"
   ]
  },
  {
   "cell_type": "code",
   "execution_count": 9,
   "id": "d47f7a70",
   "metadata": {
    "ExecuteTime": {
     "end_time": "2022-05-31T22:12:24.497008Z",
     "start_time": "2022-05-31T22:09:46.919437Z"
    }
   },
   "outputs": [
    {
     "name": "stderr",
     "output_type": "stream",
     "text": [
      "2022-05-31 19:09:47.312221: I tensorflow/compiler/mlir/mlir_graph_optimization_pass.cc:116] None of the MLIR optimization passes are enabled (registered 2)\n",
      "2022-05-31 19:09:47.341030: I tensorflow/core/platform/profile_utils/cpu_utils.cc:112] CPU Frequency: 2200000000 Hz\n",
      "2022-05-31 19:10:01.084403: I tensorflow/stream_executor/platform/default/dso_loader.cc:49] Successfully opened dynamic library libcudnn.so.7\n",
      "2022-05-31 19:10:05.117660: I tensorflow/stream_executor/platform/default/dso_loader.cc:49] Successfully opened dynamic library libcublas.so.10\n",
      "2022-05-31 19:11:42.047416: W tensorflow/core/common_runtime/bfc_allocator.cc:248] Allocator (GPU_0_bfc) ran out of memory trying to allocate 2.60GiB with freed_by_count=0. The caller indicates that this is not a failure, but may mean that there could be performance gains if more memory were available.\n"
     ]
    }
   ],
   "source": [
    "X_train = model.predict(train_dataset)\n",
    "X_test = model.predict(test_dataset)"
   ]
  },
  {
   "cell_type": "code",
   "execution_count": 10,
   "id": "d405b1b9",
   "metadata": {
    "ExecuteTime": {
     "end_time": "2022-05-31T22:12:24.509150Z",
     "start_time": "2022-05-31T22:12:24.501804Z"
    }
   },
   "outputs": [
    {
     "name": "stdout",
     "output_type": "stream",
     "text": [
      "(894, 2560)\n",
      "(168, 2560)\n"
     ]
    }
   ],
   "source": [
    "print(X_train.shape)\n",
    "print(X_test.shape)"
   ]
  },
  {
   "cell_type": "code",
   "execution_count": 11,
   "id": "bc2807f3",
   "metadata": {
    "ExecuteTime": {
     "end_time": "2022-05-31T22:13:25.316530Z",
     "start_time": "2022-05-31T22:12:24.512661Z"
    }
   },
   "outputs": [],
   "source": [
    "y_train = np.concatenate([y for x, y in train_dataset], axis=0)\n",
    "y_test = np.concatenate([y for x, y in test_dataset], axis=0)"
   ]
  },
  {
   "cell_type": "code",
   "execution_count": 12,
   "id": "78b1b1e8",
   "metadata": {
    "ExecuteTime": {
     "end_time": "2022-05-31T22:13:25.327255Z",
     "start_time": "2022-05-31T22:13:25.321380Z"
    }
   },
   "outputs": [
    {
     "name": "stdout",
     "output_type": "stream",
     "text": [
      "(894,)\n",
      "(168,)\n"
     ]
    }
   ],
   "source": [
    "print(y_train.shape)\n",
    "print(y_test.shape)"
   ]
  },
  {
   "cell_type": "code",
   "execution_count": 13,
   "id": "c7b850c9",
   "metadata": {
    "ExecuteTime": {
     "end_time": "2022-05-31T22:13:26.072939Z",
     "start_time": "2022-05-31T22:13:25.329142Z"
    }
   },
   "outputs": [],
   "source": [
    "np.savez_compressed(npz, X_train=X_train, y_train=y_train, X_test=X_test, y_test=y_test)"
   ]
  }
 ],
 "metadata": {
  "hide_input": false,
  "kernelspec": {
   "display_name": "Python 3 (ipykernel)",
   "language": "python",
   "name": "python3"
  },
  "language_info": {
   "codemirror_mode": {
    "name": "ipython",
    "version": 3
   },
   "file_extension": ".py",
   "mimetype": "text/x-python",
   "name": "python",
   "nbconvert_exporter": "python",
   "pygments_lexer": "ipython3",
   "version": "3.8.8"
  },
  "toc": {
   "base_numbering": 1,
   "nav_menu": {},
   "number_sections": true,
   "sideBar": true,
   "skip_h1_title": false,
   "title_cell": "Table of Contents",
   "title_sidebar": "Contents",
   "toc_cell": false,
   "toc_position": {},
   "toc_section_display": true,
   "toc_window_display": false
  },
  "varInspector": {
   "cols": {
    "lenName": 16,
    "lenType": 16,
    "lenVar": 40
   },
   "kernels_config": {
    "python": {
     "delete_cmd_postfix": "",
     "delete_cmd_prefix": "del ",
     "library": "var_list.py",
     "varRefreshCmd": "print(var_dic_list())"
    },
    "r": {
     "delete_cmd_postfix": ") ",
     "delete_cmd_prefix": "rm(",
     "library": "var_list.r",
     "varRefreshCmd": "cat(var_dic_list()) "
    }
   },
   "types_to_exclude": [
    "module",
    "function",
    "builtin_function_or_method",
    "instance",
    "_Feature"
   ],
   "window_display": false
  }
 },
 "nbformat": 4,
 "nbformat_minor": 5
}
