{
 "cells": [
  {
   "cell_type": "code",
   "execution_count": 1,
   "id": "9aa8b5b2",
   "metadata": {
    "ExecuteTime": {
     "end_time": "2022-03-27T23:59:56.465340Z",
     "start_time": "2022-03-27T23:59:56.460806Z"
    },
    "execution": {
     "iopub.execute_input": "2022-05-13T12:38:10.090037Z",
     "iopub.status.busy": "2022-05-13T12:38:10.089532Z",
     "iopub.status.idle": "2022-05-13T12:38:10.092191Z",
     "shell.execute_reply": "2022-05-13T12:38:10.092574Z"
    },
    "papermill": {
     "duration": 0.022025,
     "end_time": "2022-05-13T12:38:10.092944",
     "exception": false,
     "start_time": "2022-05-13T12:38:10.070919",
     "status": "completed"
    },
    "tags": []
   },
   "outputs": [],
   "source": [
    "import os\n",
    "#os.environ[\"CUDA_VISIBLE_DEVICES\"] = \"0\""
   ]
  },
  {
   "cell_type": "markdown",
   "id": "50b3d870",
   "metadata": {
    "papermill": {
     "duration": 0.007478,
     "end_time": "2022-05-13T12:38:10.109512",
     "exception": false,
     "start_time": "2022-05-13T12:38:10.102034",
     "status": "completed"
    },
    "tags": []
   },
   "source": [
    "# Carregando Pacotes"
   ]
  },
  {
   "cell_type": "code",
   "execution_count": 2,
   "id": "86d6823f",
   "metadata": {
    "ExecuteTime": {
     "end_time": "2022-03-27T23:59:56.594373Z",
     "start_time": "2022-03-27T23:59:56.470012Z"
    },
    "execution": {
     "iopub.execute_input": "2022-05-13T12:38:10.129676Z",
     "iopub.status.busy": "2022-05-13T12:38:10.129199Z",
     "iopub.status.idle": "2022-05-13T12:38:13.186337Z",
     "shell.execute_reply": "2022-05-13T12:38:13.187044Z"
    },
    "papermill": {
     "duration": 3.070884,
     "end_time": "2022-05-13T12:38:13.187533",
     "exception": false,
     "start_time": "2022-05-13T12:38:10.116649",
     "status": "completed"
    },
    "tags": []
   },
   "outputs": [
    {
     "name": "stderr",
     "output_type": "stream",
     "text": [
      "2022-05-13 09:38:11.701566: I tensorflow/stream_executor/platform/default/dso_loader.cc:49] Successfully opened dynamic library libcudart.so.10.1\n"
     ]
    }
   ],
   "source": [
    "import numpy as np\n",
    "import pandas as pd\n",
    "from sklearn.metrics import confusion_matrix, accuracy_score, classification_report\n",
    "from matplotlib import pyplot as plt\n",
    "import tensorflow as tf\n",
    "import tensorflow.keras as keras\n",
    "from tensorflow.keras.layers import GlobalAveragePooling2D, Dense, Dropout\n",
    "from tensorflow.keras.models import Model\n",
    "from tensorflow.keras.callbacks import ModelCheckpoint, EarlyStopping\n",
    "from tensorflow.keras.preprocessing import image_dataset_from_directory\n",
    "from tensorflow.keras.applications import ResNet101\n",
    "from tensorflow.keras.applications.resnet import preprocess_input\n",
    "from tensorboard.plugins.hparams import api as hp\n",
    "from pathlib import Path\n",
    "import sklearn.metrics\n",
    "import sklearn\n",
    "import itertools\n",
    "import io\n",
    "import tensorflow_addons as tfa"
   ]
  },
  {
   "cell_type": "code",
   "execution_count": 3,
   "id": "52bd4cf7",
   "metadata": {
    "ExecuteTime": {
     "end_time": "2022-03-27T23:59:56.696260Z",
     "start_time": "2022-03-27T23:59:56.596702Z"
    },
    "execution": {
     "iopub.execute_input": "2022-05-13T12:38:13.213060Z",
     "iopub.status.busy": "2022-05-13T12:38:13.212559Z",
     "iopub.status.idle": "2022-05-13T12:38:13.215294Z",
     "shell.execute_reply": "2022-05-13T12:38:13.215659Z"
    },
    "papermill": {
     "duration": 0.01765,
     "end_time": "2022-05-13T12:38:13.215880",
     "exception": false,
     "start_time": "2022-05-13T12:38:13.198230",
     "status": "completed"
    },
    "tags": []
   },
   "outputs": [
    {
     "name": "stdout",
     "output_type": "stream",
     "text": [
      "2.4.1\n"
     ]
    }
   ],
   "source": [
    "print(tf.__version__)"
   ]
  },
  {
   "cell_type": "markdown",
   "id": "bfe26c66",
   "metadata": {
    "ExecuteTime": {
     "end_time": "2021-10-24T17:27:22.070482Z",
     "start_time": "2021-10-24T17:27:21.797544Z"
    },
    "papermill": {
     "duration": 0.007535,
     "end_time": "2022-05-13T12:38:13.231076",
     "exception": false,
     "start_time": "2022-05-13T12:38:13.223541",
     "status": "completed"
    },
    "tags": []
   },
   "source": [
    "# Paramêtros"
   ]
  },
  {
   "cell_type": "code",
   "execution_count": 4,
   "id": "b220fb47",
   "metadata": {
    "ExecuteTime": {
     "end_time": "2022-03-27T23:59:57.418675Z",
     "start_time": "2022-03-27T23:59:56.698256Z"
    },
    "execution": {
     "iopub.execute_input": "2022-05-13T12:38:15.521071Z",
     "iopub.status.busy": "2022-05-13T12:38:15.520305Z",
     "iopub.status.idle": "2022-05-13T12:38:15.726002Z",
     "shell.execute_reply": "2022-05-13T12:38:15.726428Z"
    },
    "papermill": {
     "duration": 2.488359,
     "end_time": "2022-05-13T12:38:15.726906",
     "exception": false,
     "start_time": "2022-05-13T12:38:13.238547",
     "status": "completed"
    },
    "tags": []
   },
   "outputs": [
    {
     "name": "stdout",
     "output_type": "stream",
     "text": [
      "INFO:tensorflow:Using MirroredStrategy with devices ('/job:localhost/replica:0/task:0/device:GPU:0', '/job:localhost/replica:0/task:0/device:GPU:1')\n"
     ]
    },
    {
     "name": "stderr",
     "output_type": "stream",
     "text": [
      "2022-05-13 09:38:13.261209: I tensorflow/compiler/jit/xla_cpu_device.cc:41] Not creating XLA devices, tf_xla_enable_xla_devices not set\n",
      "2022-05-13 09:38:13.263753: I tensorflow/stream_executor/platform/default/dso_loader.cc:49] Successfully opened dynamic library libcuda.so.1\n",
      "2022-05-13 09:38:14.169030: I tensorflow/core/common_runtime/gpu/gpu_device.cc:1720] Found device 0 with properties: \n",
      "pciBusID: 0000:3b:00.0 name: NVIDIA GeForce GTX TITAN Black computeCapability: 3.5\n",
      "coreClock: 0.98GHz coreCount: 15 deviceMemorySize: 5.94GiB deviceMemoryBandwidth: 312.92GiB/s\n",
      "2022-05-13 09:38:14.169558: I tensorflow/core/common_runtime/gpu/gpu_device.cc:1720] Found device 1 with properties: \n",
      "pciBusID: 0000:af:00.0 name: NVIDIA GeForce GTX TITAN Black computeCapability: 3.5\n",
      "coreClock: 0.98GHz coreCount: 15 deviceMemorySize: 5.94GiB deviceMemoryBandwidth: 312.92GiB/s\n",
      "2022-05-13 09:38:14.169613: I tensorflow/stream_executor/platform/default/dso_loader.cc:49] Successfully opened dynamic library libcudart.so.10.1\n",
      "2022-05-13 09:38:14.173971: I tensorflow/stream_executor/platform/default/dso_loader.cc:49] Successfully opened dynamic library libcublas.so.10\n",
      "2022-05-13 09:38:14.174083: I tensorflow/stream_executor/platform/default/dso_loader.cc:49] Successfully opened dynamic library libcublasLt.so.10\n",
      "2022-05-13 09:38:14.177952: I tensorflow/stream_executor/platform/default/dso_loader.cc:49] Successfully opened dynamic library libcufft.so.10\n",
      "2022-05-13 09:38:14.178494: I tensorflow/stream_executor/platform/default/dso_loader.cc:49] Successfully opened dynamic library libcurand.so.10\n",
      "2022-05-13 09:38:14.182670: I tensorflow/stream_executor/platform/default/dso_loader.cc:49] Successfully opened dynamic library libcusolver.so.10\n",
      "2022-05-13 09:38:14.184499: I tensorflow/stream_executor/platform/default/dso_loader.cc:49] Successfully opened dynamic library libcusparse.so.10\n",
      "2022-05-13 09:38:14.192803: I tensorflow/stream_executor/platform/default/dso_loader.cc:49] Successfully opened dynamic library libcudnn.so.7\n",
      "2022-05-13 09:38:14.194828: I tensorflow/core/common_runtime/gpu/gpu_device.cc:1862] Adding visible gpu devices: 0, 1\n",
      "2022-05-13 09:38:14.196837: I tensorflow/core/platform/cpu_feature_guard.cc:142] This TensorFlow binary is optimized with oneAPI Deep Neural Network Library (oneDNN) to use the following CPU instructions in performance-critical operations:  SSE4.1 SSE4.2 AVX AVX2 AVX512F FMA\n",
      "To enable them in other operations, rebuild TensorFlow with the appropriate compiler flags.\n",
      "2022-05-13 09:38:14.331949: I tensorflow/core/common_runtime/gpu/gpu_device.cc:1720] Found device 0 with properties: \n",
      "pciBusID: 0000:3b:00.0 name: NVIDIA GeForce GTX TITAN Black computeCapability: 3.5\n",
      "coreClock: 0.98GHz coreCount: 15 deviceMemorySize: 5.94GiB deviceMemoryBandwidth: 312.92GiB/s\n",
      "2022-05-13 09:38:14.332677: I tensorflow/core/common_runtime/gpu/gpu_device.cc:1720] Found device 1 with properties: \n",
      "pciBusID: 0000:af:00.0 name: NVIDIA GeForce GTX TITAN Black computeCapability: 3.5\n",
      "coreClock: 0.98GHz coreCount: 15 deviceMemorySize: 5.94GiB deviceMemoryBandwidth: 312.92GiB/s\n",
      "2022-05-13 09:38:14.332768: I tensorflow/stream_executor/platform/default/dso_loader.cc:49] Successfully opened dynamic library libcudart.so.10.1\n",
      "2022-05-13 09:38:14.332801: I tensorflow/stream_executor/platform/default/dso_loader.cc:49] Successfully opened dynamic library libcublas.so.10\n",
      "2022-05-13 09:38:14.332820: I tensorflow/stream_executor/platform/default/dso_loader.cc:49] Successfully opened dynamic library libcublasLt.so.10\n",
      "2022-05-13 09:38:14.332837: I tensorflow/stream_executor/platform/default/dso_loader.cc:49] Successfully opened dynamic library libcufft.so.10\n",
      "2022-05-13 09:38:14.332857: I tensorflow/stream_executor/platform/default/dso_loader.cc:49] Successfully opened dynamic library libcurand.so.10\n",
      "2022-05-13 09:38:14.332875: I tensorflow/stream_executor/platform/default/dso_loader.cc:49] Successfully opened dynamic library libcusolver.so.10\n",
      "2022-05-13 09:38:14.332893: I tensorflow/stream_executor/platform/default/dso_loader.cc:49] Successfully opened dynamic library libcusparse.so.10\n",
      "2022-05-13 09:38:14.332912: I tensorflow/stream_executor/platform/default/dso_loader.cc:49] Successfully opened dynamic library libcudnn.so.7\n",
      "2022-05-13 09:38:14.334485: I tensorflow/core/common_runtime/gpu/gpu_device.cc:1862] Adding visible gpu devices: 0, 1\n",
      "2022-05-13 09:38:14.334611: I tensorflow/stream_executor/platform/default/dso_loader.cc:49] Successfully opened dynamic library libcudart.so.10.1\n",
      "2022-05-13 09:38:15.506531: I tensorflow/core/common_runtime/gpu/gpu_device.cc:1261] Device interconnect StreamExecutor with strength 1 edge matrix:\n",
      "2022-05-13 09:38:15.506670: I tensorflow/core/common_runtime/gpu/gpu_device.cc:1267]      0 1 \n",
      "2022-05-13 09:38:15.506690: I tensorflow/core/common_runtime/gpu/gpu_device.cc:1280] 0:   N Y \n",
      "2022-05-13 09:38:15.506696: I tensorflow/core/common_runtime/gpu/gpu_device.cc:1280] 1:   Y N \n",
      "2022-05-13 09:38:15.509671: I tensorflow/core/common_runtime/gpu/gpu_device.cc:1406] Created TensorFlow device (/job:localhost/replica:0/task:0/device:GPU:0 with 5581 MB memory) -> physical GPU (device: 0, name: NVIDIA GeForce GTX TITAN Black, pci bus id: 0000:3b:00.0, compute capability: 3.5)\n",
      "2022-05-13 09:38:15.511865: I tensorflow/core/common_runtime/gpu/gpu_device.cc:1406] Created TensorFlow device (/job:localhost/replica:0/task:0/device:GPU:1 with 5581 MB memory) -> physical GPU (device: 1, name: NVIDIA GeForce GTX TITAN Black, pci bus id: 0000:af:00.0, compute capability: 3.5)\n",
      "2022-05-13 09:38:15.512361: I tensorflow/compiler/jit/xla_gpu_device.cc:99] Not creating XLA devices, tf_xla_enable_xla_devices not set\n"
     ]
    }
   ],
   "source": [
    "# Classes\n",
    "num_classes = 7\n",
    "\n",
    "# Epochs\n",
    "n_epochs = 148\n",
    "n_epochs_ini = 100\n",
    "\n",
    "# Tamanho imagem\n",
    "img_rows, img_cols = 224, 224\n",
    "\n",
    "input_shape = (img_rows, img_cols, 3)\n",
    "\n",
    "#batch_size = 64\n",
    "\n",
    "strategy = tf.distribute.MirroredStrategy()\n",
    "\n",
    "BATCH_SIZE_PER_REPLICA = 16\n",
    "batch_size = BATCH_SIZE_PER_REPLICA * strategy.num_replicas_in_sync\n",
    "\n",
    "options = tf.data.Options()\n",
    "options.experimental_distribute.auto_shard_policy = tf.data.experimental.AutoShardPolicy.DATA\n",
    "\n",
    "\n",
    "# seed\n",
    "seed = 42\n",
    "\n",
    "path_dataset = Path('/scratch/dpfurtado/backup_home/corais/1_classificacao_train_50/dataset/1_train_50')\n",
    "path_train = path_dataset/'train'\n",
    "path_train_dev = path_dataset/'train-dev'\n",
    "\n",
    "nome_modelo = 'resnet_plc_full_transfer'\n",
    "\n",
    "\n",
    "logs_dir = os.path.join('./logs/', nome_modelo)\n",
    "\n",
    "!rm -r {logs_dir}"
   ]
  },
  {
   "cell_type": "markdown",
   "id": "ab258120",
   "metadata": {
    "papermill": {
     "duration": 0.009692,
     "end_time": "2022-05-13T12:38:15.747639",
     "exception": false,
     "start_time": "2022-05-13T12:38:15.737947",
     "status": "completed"
    },
    "tags": []
   },
   "source": [
    "# Carregando Base de Dados"
   ]
  },
  {
   "cell_type": "code",
   "execution_count": 5,
   "id": "dfcf5fac",
   "metadata": {
    "ExecuteTime": {
     "end_time": "2022-03-27T23:59:57.623283Z",
     "start_time": "2022-03-27T23:59:57.424114Z"
    },
    "execution": {
     "iopub.execute_input": "2022-05-13T12:38:15.782056Z",
     "iopub.status.busy": "2022-05-13T12:38:15.778468Z",
     "iopub.status.idle": "2022-05-13T12:38:16.101249Z",
     "shell.execute_reply": "2022-05-13T12:38:16.101638Z"
    },
    "papermill": {
     "duration": 0.337252,
     "end_time": "2022-05-13T12:38:16.101891",
     "exception": false,
     "start_time": "2022-05-13T12:38:15.764639",
     "status": "completed"
    },
    "tags": []
   },
   "outputs": [
    {
     "name": "stdout",
     "output_type": "stream",
     "text": [
      "Found 788 files belonging to 7 classes."
     ]
    },
    {
     "name": "stdout",
     "output_type": "stream",
     "text": [
      "\n"
     ]
    },
    {
     "name": "stdout",
     "output_type": "stream",
     "text": [
      "Found 106 files belonging to 7 classes.\n"
     ]
    }
   ],
   "source": [
    "train_dataset = image_dataset_from_directory(\n",
    "    path_train,\n",
    "    image_size=(img_rows, img_cols),\n",
    "    color_mode=\"rgb\",\n",
    "    batch_size=batch_size,\n",
    "    shuffle=True)\n",
    "train_dev_concat_dataset = image_dataset_from_directory(\n",
    "    path_train_dev,\n",
    "    image_size=(img_rows, img_cols),\n",
    "    color_mode=\"rgb\",\n",
    "    batch_size=batch_size,\n",
    "    shuffle=True)"
   ]
  },
  {
   "cell_type": "code",
   "execution_count": 6,
   "id": "ea0ec128",
   "metadata": {
    "execution": {
     "iopub.execute_input": "2022-05-13T12:38:16.128626Z",
     "iopub.status.busy": "2022-05-13T12:38:16.128132Z",
     "iopub.status.idle": "2022-05-13T12:38:16.129615Z",
     "shell.execute_reply": "2022-05-13T12:38:16.129991Z"
    },
    "papermill": {
     "duration": 0.017666,
     "end_time": "2022-05-13T12:38:16.130183",
     "exception": false,
     "start_time": "2022-05-13T12:38:16.112517",
     "status": "completed"
    },
    "tags": []
   },
   "outputs": [],
   "source": [
    "class_names =train_dataset.class_names\n",
    "for i in range(len(class_names)):\n",
    "    class_names[i] = class_names[i].replace('_', ' ')"
   ]
  },
  {
   "cell_type": "code",
   "execution_count": 7,
   "id": "7efce4a5",
   "metadata": {
    "execution": {
     "iopub.execute_input": "2022-05-13T12:38:16.155711Z",
     "iopub.status.busy": "2022-05-13T12:38:16.155231Z",
     "iopub.status.idle": "2022-05-13T12:38:16.156634Z",
     "shell.execute_reply": "2022-05-13T12:38:16.157002Z"
    },
    "papermill": {
     "duration": 0.017527,
     "end_time": "2022-05-13T12:38:16.157141",
     "exception": false,
     "start_time": "2022-05-13T12:38:16.139614",
     "status": "completed"
    },
    "tags": []
   },
   "outputs": [],
   "source": [
    "train_dataset = train_dataset.concatenate(train_dev_concat_dataset)"
   ]
  },
  {
   "cell_type": "code",
   "execution_count": 8,
   "id": "999f15eb",
   "metadata": {
    "ExecuteTime": {
     "end_time": "2022-03-27T23:59:57.630925Z",
     "start_time": "2022-03-27T23:59:57.625729Z"
    },
    "execution": {
     "iopub.execute_input": "2022-05-13T12:38:16.180106Z",
     "iopub.status.busy": "2022-05-13T12:38:16.179635Z",
     "iopub.status.idle": "2022-05-13T12:38:16.181081Z",
     "shell.execute_reply": "2022-05-13T12:38:16.181447Z"
    },
    "papermill": {
     "duration": 0.014701,
     "end_time": "2022-05-13T12:38:16.181570",
     "exception": false,
     "start_time": "2022-05-13T12:38:16.166869",
     "status": "completed"
    },
    "tags": []
   },
   "outputs": [],
   "source": [
    "train_dataset = train_dataset.with_options(options)"
   ]
  },
  {
   "cell_type": "code",
   "execution_count": 9,
   "id": "cb599781",
   "metadata": {
    "ExecuteTime": {
     "end_time": "2022-03-28T00:00:00.030580Z",
     "start_time": "2022-03-28T00:00:00.024091Z"
    },
    "execution": {
     "iopub.execute_input": "2022-05-13T12:38:16.204287Z",
     "iopub.status.busy": "2022-05-13T12:38:16.203812Z",
     "iopub.status.idle": "2022-05-13T12:38:16.206782Z",
     "shell.execute_reply": "2022-05-13T12:38:16.207145Z"
    },
    "papermill": {
     "duration": 0.016443,
     "end_time": "2022-05-13T12:38:16.207291",
     "exception": false,
     "start_time": "2022-05-13T12:38:16.190848",
     "status": "completed"
    },
    "tags": []
   },
   "outputs": [],
   "source": [
    "AUTOTUNE = tf.data.AUTOTUNE\n",
    "\n",
    "train_dataset = train_dataset.cache().prefetch(\n",
    "    buffer_size=AUTOTUNE)  # Otimização"
   ]
  },
  {
   "cell_type": "code",
   "execution_count": 10,
   "id": "886dce52",
   "metadata": {
    "ExecuteTime": {
     "end_time": "2022-03-28T00:22:23.573937Z",
     "start_time": "2022-03-28T00:00:57.241781Z"
    },
    "execution": {
     "iopub.execute_input": "2022-05-13T12:38:16.242638Z",
     "iopub.status.busy": "2022-05-13T12:38:16.242116Z",
     "iopub.status.idle": "2022-05-13T13:01:51.490321Z",
     "shell.execute_reply": "2022-05-13T13:01:51.490953Z"
    },
    "papermill": {
     "duration": 1415.274446,
     "end_time": "2022-05-13T13:01:51.491565",
     "exception": false,
     "start_time": "2022-05-13T12:38:16.217119",
     "status": "completed"
    },
    "scrolled": true,
    "tags": []
   },
   "outputs": [
    {
     "name": "stdout",
     "output_type": "stream",
     "text": [
      "INFO:tensorflow:Reduce to /job:localhost/replica:0/task:0/device:CPU:0 then broadcast to ('/job:localhost/replica:0/task:0/device:CPU:0',).\n"
     ]
    },
    {
     "name": "stdout",
     "output_type": "stream",
     "text": [
      "INFO:tensorflow:Reduce to /job:localhost/replica:0/task:0/device:CPU:0 then broadcast to ('/job:localhost/replica:0/task:0/device:CPU:0',).\n"
     ]
    },
    {
     "name": "stdout",
     "output_type": "stream",
     "text": [
      "INFO:tensorflow:Reduce to /job:localhost/replica:0/task:0/device:CPU:0 then broadcast to ('/job:localhost/replica:0/task:0/device:CPU:0',).\n"
     ]
    },
    {
     "name": "stdout",
     "output_type": "stream",
     "text": [
      "INFO:tensorflow:Reduce to /job:localhost/replica:0/task:0/device:CPU:0 then broadcast to ('/job:localhost/replica:0/task:0/device:CPU:0',).\n"
     ]
    },
    {
     "name": "stdout",
     "output_type": "stream",
     "text": [
      "INFO:tensorflow:Reduce to /job:localhost/replica:0/task:0/device:CPU:0 then broadcast to ('/job:localhost/replica:0/task:0/device:CPU:0',).\n"
     ]
    },
    {
     "name": "stdout",
     "output_type": "stream",
     "text": [
      "INFO:tensorflow:Reduce to /job:localhost/replica:0/task:0/device:CPU:0 then broadcast to ('/job:localhost/replica:0/task:0/device:CPU:0',).\n"
     ]
    },
    {
     "name": "stdout",
     "output_type": "stream",
     "text": [
      "INFO:tensorflow:Reduce to /job:localhost/replica:0/task:0/device:CPU:0 then broadcast to ('/job:localhost/replica:0/task:0/device:CPU:0',).\n"
     ]
    },
    {
     "name": "stdout",
     "output_type": "stream",
     "text": [
      "INFO:tensorflow:Reduce to /job:localhost/replica:0/task:0/device:CPU:0 then broadcast to ('/job:localhost/replica:0/task:0/device:CPU:0',).\n"
     ]
    },
    {
     "name": "stdout",
     "output_type": "stream",
     "text": [
      "INFO:tensorflow:Reduce to /job:localhost/replica:0/task:0/device:CPU:0 then broadcast to ('/job:localhost/replica:0/task:0/device:CPU:0',).\n"
     ]
    },
    {
     "name": "stdout",
     "output_type": "stream",
     "text": [
      "INFO:tensorflow:Reduce to /job:localhost/replica:0/task:0/device:CPU:0 then broadcast to ('/job:localhost/replica:0/task:0/device:CPU:0',).\n"
     ]
    },
    {
     "name": "stderr",
     "output_type": "stream",
     "text": [
      "2022-05-13 09:38:45.546393: I tensorflow/compiler/mlir/mlir_graph_optimization_pass.cc:116] None of the MLIR optimization passes are enabled (registered 2)\n",
      "2022-05-13 09:38:45.567462: I tensorflow/core/platform/profile_utils/cpu_utils.cc:112] CPU Frequency: 2200000000 Hz\n"
     ]
    },
    {
     "name": "stdout",
     "output_type": "stream",
     "text": [
      "INFO:tensorflow:batch_all_reduce: 2 all-reduces with algorithm = nccl, num_packs = 1\n"
     ]
    },
    {
     "name": "stdout",
     "output_type": "stream",
     "text": [
      "INFO:tensorflow:batch_all_reduce: 2 all-reduces with algorithm = nccl, num_packs = 1\n"
     ]
    },
    {
     "name": "stderr",
     "output_type": "stream",
     "text": [
      "2022-05-13 09:39:03.494824: I tensorflow/stream_executor/platform/default/dso_loader.cc:49] Successfully opened dynamic library libcublas.so.10\n"
     ]
    },
    {
     "name": "stderr",
     "output_type": "stream",
     "text": [
      "2022-05-13 09:39:13.754916: I tensorflow/core/kernels/data/shuffle_dataset_op.cc:177] Filling up shuffle buffer (this may take a while): 159 of 256\n"
     ]
    },
    {
     "name": "stderr",
     "output_type": "stream",
     "text": [
      "2022-05-13 09:39:21.778983: I tensorflow/core/kernels/data/shuffle_dataset_op.cc:230] Shuffle buffer filled.\n"
     ]
    },
    {
     "name": "stderr",
     "output_type": "stream",
     "text": [
      "2022-05-13 09:39:23.854123: I tensorflow/stream_executor/platform/default/dso_loader.cc:49] Successfully opened dynamic library libcudnn.so.7\n"
     ]
    },
    {
     "name": "stdout",
     "output_type": "stream",
     "text": [
      "INFO:tensorflow:batch_all_reduce: 418 all-reduces with algorithm = nccl, num_packs = 1\n"
     ]
    },
    {
     "name": "stdout",
     "output_type": "stream",
     "text": [
      "INFO:tensorflow:batch_all_reduce: 418 all-reduces with algorithm = nccl, num_packs = 1\n"
     ]
    }
   ],
   "source": [
    "run_dir = logs_dir\n",
    "\n",
    "\n",
    "with strategy.scope():\n",
    "    # loss\n",
    "    loss = tf.keras.losses.SparseCategoricalCrossentropy(from_logits=True)\n",
    "    # métricas\n",
    "    metrics = [tf.keras.metrics.SparseCategoricalAccuracy(name='accuracy')]\n",
    "    data_augmentation = tf.keras.Sequential(\n",
    "        [tf.keras.layers.experimental.preprocessing.RandomFlip('horizontal_and_vertical')])\n",
    "    # Keras sequential model with Hyperparameters passed from the argument\n",
    "    model_pre = tf.keras.models.load_model('model_base/resnet101_plc_full/')\n",
    "    cnn = Model(model_pre.input, model_pre.layers[-3].output)\n",
    "    # Para o primeiro treinamento as camadas convolucionais não serão treinadas\n",
    "    cnn.trainable = False\n",
    "    # Camadas de Batch Normalization em inference mode\n",
    "    inputs = keras.Input(shape=input_shape)\n",
    "    x = cnn(inputs, training=False)\n",
    "    x = keras.layers.Dropout(0.2)(x)\n",
    "    predictions = Dense(num_classes)(x)\n",
    "    model = Model(inputs, predictions)\n",
    "    lr_denso = 5e-5\n",
    "    model.compile(optimizer=keras.optimizers.SGD(\n",
    "        learning_rate=lr_denso, momentum=0.9), loss=loss, metrics=metrics)\n",
    "\n",
    "\n",
    "def scheduler_denso(epoch, lr):\n",
    "    lr_0 = lr_denso\n",
    "    epoch_ini_lr = 20\n",
    "    if epoch < epoch_ini_lr:\n",
    "        learning_rate = lr\n",
    "        with tf.summary.create_file_writer(run_dir + '/metric').as_default():\n",
    "            tf.summary.scalar(\n",
    "                'learning rate', data=learning_rate, step=epoch)\n",
    "        return learning_rate\n",
    "    else:\n",
    "        learning_rate = lr_0 * \\\n",
    "            tf.math.exp(-0.005*(epoch-epoch_ini_lr)).numpy()\n",
    "        with tf.summary.create_file_writer(run_dir + '/metric').as_default():\n",
    "            tf.summary.scalar(\n",
    "                'learning rate', data=learning_rate, step=epoch)\n",
    "        return learning_rate\n",
    "\n",
    "\n",
    "callbacks_dense = [tf.keras.callbacks.TensorBoard(run_dir, profile_batch=0, write_graph=False),\n",
    "                   tf.keras.callbacks.LearningRateScheduler(\n",
    "    scheduler_denso, verbose=0)]\n",
    "# Training the network\n",
    "history_dense = model.fit(train_dataset, epochs=n_epochs_ini, verbose=0, callbacks=callbacks_dense)\n",
    "\n",
    "treinamento_denso = len(history_dense.history['loss'])\n",
    "with strategy.scope():\n",
    "    cnn.trainable = True\n",
    "    # loss\n",
    "    loss = tf.keras.losses.SparseCategoricalCrossentropy(from_logits=True)\n",
    "    # métricas\n",
    "    metrics = [tf.keras.metrics.SparseCategoricalAccuracy(name='accuracy')]\n",
    "    lr_full = 5e-6\n",
    "    model.compile(\n",
    "        optimizer=keras.optimizers.SGD(\n",
    "            learning_rate=lr_full, momentum=0.9),\n",
    "        loss=loss,\n",
    "        metrics=metrics\n",
    "    )\n",
    "\n",
    "\n",
    "def scheduler_cnn(epoch, lr):\n",
    "    lr_0 = lr_full\n",
    "    learning_rate = lr_0 * \\\n",
    "        tf.math.exp(-0.02*(epoch-treinamento_denso)).numpy()\n",
    "    with tf.summary.create_file_writer(run_dir + '/metric').as_default():\n",
    "        tf.summary.scalar(\n",
    "            'learning rate', data=learning_rate, step=epoch)\n",
    "    return learning_rate\n",
    "\n",
    "nome_save_model = nome_modelo\n",
    "\n",
    "model_dir = os.path.join('./model/', nome_save_model)\n",
    "\n",
    "callbacks_cnn = [tf.keras.callbacks.TensorBoard(run_dir, profile_batch=0, write_graph=False),\n",
    "                 tf.keras.callbacks.LearningRateScheduler(\n",
    "                 scheduler_cnn, verbose=0)]\n",
    "\n",
    "history_cnn = model.fit(train_dataset, epochs=n_epochs, initial_epoch=treinamento_denso, verbose=0, \n",
    "                        callbacks=callbacks_cnn)\n",
    "\n",
    "treinamento_cnn = len(history_cnn.history['loss'])\n"
   ]
  },
  {
   "cell_type": "code",
   "execution_count": 11,
   "id": "8ddd615c",
   "metadata": {
    "ExecuteTime": {
     "end_time": "2022-03-28T00:22:23.746394Z",
     "start_time": "2022-03-28T00:22:23.741894Z"
    },
    "execution": {
     "iopub.execute_input": "2022-05-13T13:01:51.530510Z",
     "iopub.status.busy": "2022-05-13T13:01:51.530014Z",
     "iopub.status.idle": "2022-05-13T13:01:51.533025Z",
     "shell.execute_reply": "2022-05-13T13:01:51.532610Z"
    },
    "papermill": {
     "duration": 0.025164,
     "end_time": "2022-05-13T13:01:51.533136",
     "exception": false,
     "start_time": "2022-05-13T13:01:51.507972",
     "status": "completed"
    },
    "tags": []
   },
   "outputs": [
    {
     "name": "stdout",
     "output_type": "stream",
     "text": [
      "100\n",
      "48\n"
     ]
    }
   ],
   "source": [
    "print(treinamento_denso)\n",
    "print(treinamento_cnn)"
   ]
  },
  {
   "cell_type": "code",
   "execution_count": 12,
   "id": "24196253",
   "metadata": {
    "execution": {
     "iopub.execute_input": "2022-05-13T13:01:51.585149Z",
     "iopub.status.busy": "2022-05-13T13:01:51.584682Z",
     "iopub.status.idle": "2022-05-13T13:02:54.741088Z",
     "shell.execute_reply": "2022-05-13T13:02:54.740422Z"
    },
    "papermill": {
     "duration": 63.195034,
     "end_time": "2022-05-13T13:02:54.741335",
     "exception": false,
     "start_time": "2022-05-13T13:01:51.546301",
     "status": "completed"
    },
    "tags": []
   },
   "outputs": [
    {
     "name": "stderr",
     "output_type": "stream",
     "text": [
      "2022-05-13 10:02:16.891840: W tensorflow/python/util/util.cc:348] Sets are not currently considered sequences, but this may change in the future, so consider avoiding using them.\n"
     ]
    },
    {
     "name": "stdout",
     "output_type": "stream",
     "text": [
      "INFO:tensorflow:Assets written to: ./model/resnet_plc_full_transfer/assets\n"
     ]
    }
   ],
   "source": [
    "model.save(model_dir)"
   ]
  }
 ],
 "metadata": {
  "hide_input": false,
  "kernelspec": {
   "display_name": "Python 3 (ipykernel)",
   "language": "python",
   "name": "python3"
  },
  "language_info": {
   "codemirror_mode": {
    "name": "ipython",
    "version": 3
   },
   "file_extension": ".py",
   "mimetype": "text/x-python",
   "name": "python",
   "nbconvert_exporter": "python",
   "pygments_lexer": "ipython3",
   "version": "3.8.8"
  },
  "papermill": {
   "default_parameters": {},
   "duration": 1490.986094,
   "end_time": "2022-05-13T13:02:59.848573",
   "environment_variables": {},
   "exception": null,
   "input_path": "resnet_plc_full_transfer.ipynb",
   "output_path": "resnet_plc_full_transfer_output.ipynb",
   "parameters": {},
   "start_time": "2022-05-13T12:38:08.862479",
   "version": "2.3.3"
  },
  "toc": {
   "base_numbering": 1,
   "nav_menu": {},
   "number_sections": true,
   "sideBar": true,
   "skip_h1_title": false,
   "title_cell": "Table of Contents",
   "title_sidebar": "Contents",
   "toc_cell": false,
   "toc_position": {},
   "toc_section_display": true,
   "toc_window_display": false
  },
  "varInspector": {
   "cols": {
    "lenName": 16,
    "lenType": 16,
    "lenVar": 40
   },
   "kernels_config": {
    "python": {
     "delete_cmd_postfix": "",
     "delete_cmd_prefix": "del ",
     "library": "var_list.py",
     "varRefreshCmd": "print(var_dic_list())"
    },
    "r": {
     "delete_cmd_postfix": ") ",
     "delete_cmd_prefix": "rm(",
     "library": "var_list.r",
     "varRefreshCmd": "cat(var_dic_list()) "
    }
   },
   "types_to_exclude": [
    "module",
    "function",
    "builtin_function_or_method",
    "instance",
    "_Feature"
   ],
   "window_display": false
  }
 },
 "nbformat": 4,
 "nbformat_minor": 5
}