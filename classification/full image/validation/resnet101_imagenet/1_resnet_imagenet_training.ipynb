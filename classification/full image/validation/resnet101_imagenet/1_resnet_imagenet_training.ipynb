{
 "cells": [
  {
   "cell_type": "code",
   "execution_count": 1,
   "id": "9aa8b5b2",
   "metadata": {
    "ExecuteTime": {
     "end_time": "2022-04-25T23:32:31.252480Z",
     "start_time": "2022-04-25T23:32:31.249893Z"
    },
    "execution": {
     "iopub.execute_input": "2022-05-08T23:02:45.020940Z",
     "iopub.status.busy": "2022-05-08T23:02:45.020443Z",
     "iopub.status.idle": "2022-05-08T23:02:45.023519Z",
     "shell.execute_reply": "2022-05-08T23:02:45.022952Z"
    },
    "papermill": {
     "duration": 0.022644,
     "end_time": "2022-05-08T23:02:45.023689",
     "exception": false,
     "start_time": "2022-05-08T23:02:45.001045",
     "status": "completed"
    },
    "tags": []
   },
   "outputs": [],
   "source": [
    "import os\n",
    "#os.environ[\"CUDA_VISIBLE_DEVICES\"] = \"0\""
   ]
  },
  {
   "cell_type": "markdown",
   "id": "50b3d870",
   "metadata": {
    "papermill": {
     "duration": 0.007251,
     "end_time": "2022-05-08T23:02:45.039586",
     "exception": false,
     "start_time": "2022-05-08T23:02:45.032335",
     "status": "completed"
    },
    "tags": []
   },
   "source": [
    "# Carregando Pacotes"
   ]
  },
  {
   "cell_type": "code",
   "execution_count": 2,
   "id": "86d6823f",
   "metadata": {
    "ExecuteTime": {
     "end_time": "2022-04-25T23:32:34.384301Z",
     "start_time": "2022-04-25T23:32:31.253600Z"
    },
    "execution": {
     "iopub.execute_input": "2022-05-08T23:02:45.059674Z",
     "iopub.status.busy": "2022-05-08T23:02:45.059215Z",
     "iopub.status.idle": "2022-05-08T23:02:48.244764Z",
     "shell.execute_reply": "2022-05-08T23:02:48.245169Z"
    },
    "papermill": {
     "duration": 3.198702,
     "end_time": "2022-05-08T23:02:48.245424",
     "exception": false,
     "start_time": "2022-05-08T23:02:45.046722",
     "status": "completed"
    },
    "tags": []
   },
   "outputs": [
    {
     "name": "stderr",
     "output_type": "stream",
     "text": [
      "2022-05-08 20:02:46.697398: I tensorflow/stream_executor/platform/default/dso_loader.cc:49] Successfully opened dynamic library libcudart.so.10.1\n"
     ]
    }
   ],
   "source": [
    "import numpy as np\n",
    "import pandas as pd\n",
    "from sklearn.metrics import confusion_matrix, accuracy_score, classification_report\n",
    "from matplotlib import pyplot as plt\n",
    "import tensorflow as tf\n",
    "import tensorflow.keras as keras\n",
    "from tensorflow.keras.layers import GlobalAveragePooling2D, Dense, Dropout\n",
    "from tensorflow.keras.models import Model\n",
    "from tensorflow.keras.callbacks import ModelCheckpoint, EarlyStopping\n",
    "from tensorflow.keras.preprocessing import image_dataset_from_directory\n",
    "from tensorflow.keras.applications import ResNet101\n",
    "from tensorflow.keras.applications.resnet import preprocess_input\n",
    "from tensorboard.plugins.hparams import api as hp\n",
    "from pathlib import Path\n",
    "import sklearn.metrics\n",
    "import sklearn\n",
    "import itertools\n",
    "import io\n",
    "import tensorflow_addons as tfa"
   ]
  },
  {
   "cell_type": "code",
   "execution_count": 3,
   "id": "52bd4cf7",
   "metadata": {
    "ExecuteTime": {
     "end_time": "2022-04-25T23:32:34.390995Z",
     "start_time": "2022-04-25T23:32:34.387211Z"
    },
    "execution": {
     "iopub.execute_input": "2022-05-08T23:02:48.268456Z",
     "iopub.status.busy": "2022-05-08T23:02:48.267996Z",
     "iopub.status.idle": "2022-05-08T23:02:48.269982Z",
     "shell.execute_reply": "2022-05-08T23:02:48.270331Z"
    },
    "papermill": {
     "duration": 0.015835,
     "end_time": "2022-05-08T23:02:48.270475",
     "exception": false,
     "start_time": "2022-05-08T23:02:48.254640",
     "status": "completed"
    },
    "tags": []
   },
   "outputs": [
    {
     "name": "stdout",
     "output_type": "stream",
     "text": [
      "2.4.1\n"
     ]
    }
   ],
   "source": [
    "print(tf.__version__)"
   ]
  },
  {
   "cell_type": "markdown",
   "id": "bfe26c66",
   "metadata": {
    "ExecuteTime": {
     "end_time": "2021-10-24T17:27:22.070482Z",
     "start_time": "2021-10-24T17:27:21.797544Z"
    },
    "papermill": {
     "duration": 0.00748,
     "end_time": "2022-05-08T23:02:48.285462",
     "exception": false,
     "start_time": "2022-05-08T23:02:48.277982",
     "status": "completed"
    },
    "tags": []
   },
   "source": [
    "# Paramêtros"
   ]
  },
  {
   "cell_type": "code",
   "execution_count": 4,
   "id": "b220fb47",
   "metadata": {
    "ExecuteTime": {
     "end_time": "2022-04-25T23:32:36.719086Z",
     "start_time": "2022-04-25T23:32:34.392363Z"
    },
    "execution": {
     "iopub.execute_input": "2022-05-08T23:02:50.598885Z",
     "iopub.status.busy": "2022-05-08T23:02:50.598330Z",
     "iopub.status.idle": "2022-05-08T23:02:50.815640Z",
     "shell.execute_reply": "2022-05-08T23:02:50.816080Z"
    },
    "papermill": {
     "duration": 2.523542,
     "end_time": "2022-05-08T23:02:50.816530",
     "exception": false,
     "start_time": "2022-05-08T23:02:48.292988",
     "status": "completed"
    },
    "tags": []
   },
   "outputs": [
    {
     "name": "stdout",
     "output_type": "stream",
     "text": [
      "INFO:tensorflow:Using MirroredStrategy with devices ('/job:localhost/replica:0/task:0/device:GPU:0', '/job:localhost/replica:0/task:0/device:GPU:1')\n"
     ]
    },
    {
     "name": "stderr",
     "output_type": "stream",
     "text": [
      "2022-05-08 20:02:48.506745: I tensorflow/compiler/jit/xla_cpu_device.cc:41] Not creating XLA devices, tf_xla_enable_xla_devices not set\n",
      "2022-05-08 20:02:48.509587: I tensorflow/stream_executor/platform/default/dso_loader.cc:49] Successfully opened dynamic library libcuda.so.1\n",
      "2022-05-08 20:02:49.412985: I tensorflow/core/common_runtime/gpu/gpu_device.cc:1720] Found device 0 with properties: \n",
      "pciBusID: 0000:3b:00.0 name: NVIDIA GeForce GTX TITAN Black computeCapability: 3.5\n",
      "coreClock: 0.98GHz coreCount: 15 deviceMemorySize: 5.94GiB deviceMemoryBandwidth: 312.92GiB/s\n",
      "2022-05-08 20:02:49.413618: I tensorflow/core/common_runtime/gpu/gpu_device.cc:1720] Found device 1 with properties: \n",
      "pciBusID: 0000:af:00.0 name: NVIDIA GeForce GTX TITAN Black computeCapability: 3.5\n",
      "coreClock: 0.98GHz coreCount: 15 deviceMemorySize: 5.94GiB deviceMemoryBandwidth: 312.92GiB/s\n",
      "2022-05-08 20:02:49.413669: I tensorflow/stream_executor/platform/default/dso_loader.cc:49] Successfully opened dynamic library libcudart.so.10.1\n",
      "2022-05-08 20:02:49.418339: I tensorflow/stream_executor/platform/default/dso_loader.cc:49] Successfully opened dynamic library libcublas.so.10\n",
      "2022-05-08 20:02:49.418457: I tensorflow/stream_executor/platform/default/dso_loader.cc:49] Successfully opened dynamic library libcublasLt.so.10\n",
      "2022-05-08 20:02:49.422538: I tensorflow/stream_executor/platform/default/dso_loader.cc:49] Successfully opened dynamic library libcufft.so.10\n",
      "2022-05-08 20:02:49.423079: I tensorflow/stream_executor/platform/default/dso_loader.cc:49] Successfully opened dynamic library libcurand.so.10\n",
      "2022-05-08 20:02:49.427508: I tensorflow/stream_executor/platform/default/dso_loader.cc:49] Successfully opened dynamic library libcusolver.so.10\n",
      "2022-05-08 20:02:49.429410: I tensorflow/stream_executor/platform/default/dso_loader.cc:49] Successfully opened dynamic library libcusparse.so.10\n",
      "2022-05-08 20:02:49.438418: I tensorflow/stream_executor/platform/default/dso_loader.cc:49] Successfully opened dynamic library libcudnn.so.7\n",
      "2022-05-08 20:02:49.440596: I tensorflow/core/common_runtime/gpu/gpu_device.cc:1862] Adding visible gpu devices: 0, 1\n",
      "2022-05-08 20:02:49.442275: I tensorflow/core/platform/cpu_feature_guard.cc:142] This TensorFlow binary is optimized with oneAPI Deep Neural Network Library (oneDNN) to use the following CPU instructions in performance-critical operations:  SSE4.1 SSE4.2 AVX AVX2 AVX512F FMA\n",
      "To enable them in other operations, rebuild TensorFlow with the appropriate compiler flags.\n",
      "2022-05-08 20:02:49.543134: I tensorflow/core/common_runtime/gpu/gpu_device.cc:1720] Found device 0 with properties: \n",
      "pciBusID: 0000:3b:00.0 name: NVIDIA GeForce GTX TITAN Black computeCapability: 3.5\n",
      "coreClock: 0.98GHz coreCount: 15 deviceMemorySize: 5.94GiB deviceMemoryBandwidth: 312.92GiB/s\n",
      "2022-05-08 20:02:49.543870: I tensorflow/core/common_runtime/gpu/gpu_device.cc:1720] Found device 1 with properties: \n",
      "pciBusID: 0000:af:00.0 name: NVIDIA GeForce GTX TITAN Black computeCapability: 3.5\n",
      "coreClock: 0.98GHz coreCount: 15 deviceMemorySize: 5.94GiB deviceMemoryBandwidth: 312.92GiB/s\n",
      "2022-05-08 20:02:49.544000: I tensorflow/stream_executor/platform/default/dso_loader.cc:49] Successfully opened dynamic library libcudart.so.10.1\n",
      "2022-05-08 20:02:49.544032: I tensorflow/stream_executor/platform/default/dso_loader.cc:49] Successfully opened dynamic library libcublas.so.10\n",
      "2022-05-08 20:02:49.544053: I tensorflow/stream_executor/platform/default/dso_loader.cc:49] Successfully opened dynamic library libcublasLt.so.10\n",
      "2022-05-08 20:02:49.544074: I tensorflow/stream_executor/platform/default/dso_loader.cc:49] Successfully opened dynamic library libcufft.so.10\n",
      "2022-05-08 20:02:49.544092: I tensorflow/stream_executor/platform/default/dso_loader.cc:49] Successfully opened dynamic library libcurand.so.10\n",
      "2022-05-08 20:02:49.544113: I tensorflow/stream_executor/platform/default/dso_loader.cc:49] Successfully opened dynamic library libcusolver.so.10\n",
      "2022-05-08 20:02:49.544129: I tensorflow/stream_executor/platform/default/dso_loader.cc:49] Successfully opened dynamic library libcusparse.so.10\n",
      "2022-05-08 20:02:49.544150: I tensorflow/stream_executor/platform/default/dso_loader.cc:49] Successfully opened dynamic library libcudnn.so.7\n",
      "2022-05-08 20:02:49.545753: I tensorflow/core/common_runtime/gpu/gpu_device.cc:1862] Adding visible gpu devices: 0, 1\n",
      "2022-05-08 20:02:49.545887: I tensorflow/stream_executor/platform/default/dso_loader.cc:49] Successfully opened dynamic library libcudart.so.10.1\n",
      "2022-05-08 20:02:50.587792: I tensorflow/core/common_runtime/gpu/gpu_device.cc:1261] Device interconnect StreamExecutor with strength 1 edge matrix:\n",
      "2022-05-08 20:02:50.587875: I tensorflow/core/common_runtime/gpu/gpu_device.cc:1267]      0 1 \n",
      "2022-05-08 20:02:50.587892: I tensorflow/core/common_runtime/gpu/gpu_device.cc:1280] 0:   N Y \n",
      "2022-05-08 20:02:50.587897: I tensorflow/core/common_runtime/gpu/gpu_device.cc:1280] 1:   Y N \n",
      "2022-05-08 20:02:50.590772: I tensorflow/core/common_runtime/gpu/gpu_device.cc:1406] Created TensorFlow device (/job:localhost/replica:0/task:0/device:GPU:0 with 5581 MB memory) -> physical GPU (device: 0, name: NVIDIA GeForce GTX TITAN Black, pci bus id: 0000:3b:00.0, compute capability: 3.5)\n",
      "2022-05-08 20:02:50.592609: I tensorflow/core/common_runtime/gpu/gpu_device.cc:1406] Created TensorFlow device (/job:localhost/replica:0/task:0/device:GPU:1 with 5581 MB memory) -> physical GPU (device: 1, name: NVIDIA GeForce GTX TITAN Black, pci bus id: 0000:af:00.0, compute capability: 3.5)\n",
      "2022-05-08 20:02:50.593080: I tensorflow/compiler/jit/xla_gpu_device.cc:99] Not creating XLA devices, tf_xla_enable_xla_devices not set\n"
     ]
    }
   ],
   "source": [
    "# Classes\n",
    "num_classes = 7\n",
    "\n",
    "# Epochs\n",
    "n_epochs = 1000\n",
    "n_epochs_ini = 100\n",
    "\n",
    "# Tamanho imagem\n",
    "img_rows, img_cols = 224, 224\n",
    "\n",
    "input_shape = (img_rows, img_cols, 3)\n",
    "\n",
    "#batch_size = 64\n",
    "\n",
    "strategy = tf.distribute.MirroredStrategy()\n",
    "\n",
    "BATCH_SIZE_PER_REPLICA = 16\n",
    "batch_size = BATCH_SIZE_PER_REPLICA * strategy.num_replicas_in_sync\n",
    "\n",
    "options = tf.data.Options()\n",
    "options.experimental_distribute.auto_shard_policy = tf.data.experimental.AutoShardPolicy.DATA\n",
    "\n",
    "\n",
    "# seed\n",
    "seed = 42\n",
    "\n",
    "path_dataset = Path('/scratch/dpfurtado/backup_home/corais/1_classificacao_train_50/dataset/1_train_50')\n",
    "path_train = path_dataset/'train'\n",
    "path_train_dev = path_dataset/'train-dev'\n",
    "\n",
    "nome_modelo = 'resnet101_imagenet'\n",
    "\n",
    "\n",
    "logs_dir = os.path.join('./logs/', nome_modelo)\n",
    "\n",
    "!rm -r {logs_dir}"
   ]
  },
  {
   "cell_type": "markdown",
   "id": "ab258120",
   "metadata": {
    "papermill": {
     "duration": 0.009989,
     "end_time": "2022-05-08T23:02:50.837882",
     "exception": false,
     "start_time": "2022-05-08T23:02:50.827893",
     "status": "completed"
    },
    "tags": []
   },
   "source": [
    "# Carregando Base de Dados"
   ]
  },
  {
   "cell_type": "code",
   "execution_count": 5,
   "id": "dfcf5fac",
   "metadata": {
    "ExecuteTime": {
     "end_time": "2022-04-25T23:32:37.000964Z",
     "start_time": "2022-04-25T23:32:36.721621Z"
    },
    "execution": {
     "iopub.execute_input": "2022-05-08T23:02:50.864475Z",
     "iopub.status.busy": "2022-05-08T23:02:50.864003Z",
     "iopub.status.idle": "2022-05-08T23:02:51.175183Z",
     "shell.execute_reply": "2022-05-08T23:02:51.175672Z"
    },
    "papermill": {
     "duration": 0.329341,
     "end_time": "2022-05-08T23:02:51.176135",
     "exception": false,
     "start_time": "2022-05-08T23:02:50.846794",
     "status": "completed"
    },
    "tags": []
   },
   "outputs": [
    {
     "name": "stdout",
     "output_type": "stream",
     "text": [
      "Found 788 files belonging to 7 classes.\n",
      "Found 106 files belonging to 7 classes.\n"
     ]
    }
   ],
   "source": [
    "train_dataset = image_dataset_from_directory(\n",
    "    path_train,\n",
    "    image_size=(img_rows, img_cols),\n",
    "    color_mode=\"rgb\",\n",
    "    batch_size=batch_size,\n",
    "    shuffle=True)\n",
    "train_dev_dataset = image_dataset_from_directory(\n",
    "    path_train_dev,\n",
    "    image_size=(img_rows, img_cols),\n",
    "    color_mode=\"rgb\",\n",
    "    batch_size=batch_size,\n",
    "    shuffle=False)"
   ]
  },
  {
   "cell_type": "code",
   "execution_count": 6,
   "id": "ea0ec128",
   "metadata": {
    "ExecuteTime": {
     "end_time": "2022-04-25T23:32:37.006341Z",
     "start_time": "2022-04-25T23:32:37.002665Z"
    },
    "execution": {
     "iopub.execute_input": "2022-05-08T23:02:51.204812Z",
     "iopub.status.busy": "2022-05-08T23:02:51.204329Z",
     "iopub.status.idle": "2022-05-08T23:02:51.206424Z",
     "shell.execute_reply": "2022-05-08T23:02:51.206016Z"
    },
    "papermill": {
     "duration": 0.018605,
     "end_time": "2022-05-08T23:02:51.206562",
     "exception": false,
     "start_time": "2022-05-08T23:02:51.187957",
     "status": "completed"
    },
    "tags": []
   },
   "outputs": [],
   "source": [
    "class_names =train_dev_dataset.class_names\n",
    "for i in range(len(class_names)):\n",
    "    class_names[i] = class_names[i].replace('_', ' ')"
   ]
  },
  {
   "cell_type": "code",
   "execution_count": 7,
   "id": "fb6d0820",
   "metadata": {
    "ExecuteTime": {
     "end_time": "2022-04-25T23:32:38.546815Z",
     "start_time": "2022-04-25T23:32:37.007791Z"
    },
    "execution": {
     "iopub.execute_input": "2022-05-08T23:02:51.231849Z",
     "iopub.status.busy": "2022-05-08T23:02:51.231378Z",
     "iopub.status.idle": "2022-05-08T23:02:52.693570Z",
     "shell.execute_reply": "2022-05-08T23:02:52.694147Z"
    },
    "papermill": {
     "duration": 1.478579,
     "end_time": "2022-05-08T23:02:52.694636",
     "exception": false,
     "start_time": "2022-05-08T23:02:51.216057",
     "status": "completed"
    },
    "tags": []
   },
   "outputs": [
    {
     "name": "stderr",
     "output_type": "stream",
     "text": [
      "2022-05-08 20:02:51.237562: I tensorflow/compiler/mlir/mlir_graph_optimization_pass.cc:116] None of the MLIR optimization passes are enabled (registered 2)\n",
      "2022-05-08 20:02:51.255509: I tensorflow/core/platform/profile_utils/cpu_utils.cc:112] CPU Frequency: 2200000000 Hz\n"
     ]
    }
   ],
   "source": [
    "y_test = np.concatenate([y for x, y in train_dev_dataset], axis=0)"
   ]
  },
  {
   "cell_type": "code",
   "execution_count": 8,
   "id": "999f15eb",
   "metadata": {
    "ExecuteTime": {
     "end_time": "2022-04-25T23:32:38.552992Z",
     "start_time": "2022-04-25T23:32:38.549279Z"
    },
    "execution": {
     "iopub.execute_input": "2022-05-08T23:02:52.725891Z",
     "iopub.status.busy": "2022-05-08T23:02:52.725400Z",
     "iopub.status.idle": "2022-05-08T23:02:52.727084Z",
     "shell.execute_reply": "2022-05-08T23:02:52.727472Z"
    },
    "papermill": {
     "duration": 0.020093,
     "end_time": "2022-05-08T23:02:52.727671",
     "exception": false,
     "start_time": "2022-05-08T23:02:52.707578",
     "status": "completed"
    },
    "tags": []
   },
   "outputs": [],
   "source": [
    "train_dataset = train_dataset.with_options(options)\n",
    "train_dev_dataset = train_dev_dataset.with_options(options)"
   ]
  },
  {
   "cell_type": "code",
   "execution_count": 9,
   "id": "cb599781",
   "metadata": {
    "ExecuteTime": {
     "end_time": "2022-04-25T23:32:38.671986Z",
     "start_time": "2022-04-25T23:32:38.556130Z"
    },
    "execution": {
     "iopub.execute_input": "2022-05-08T23:02:52.752705Z",
     "iopub.status.busy": "2022-05-08T23:02:52.752232Z",
     "iopub.status.idle": "2022-05-08T23:02:52.754790Z",
     "shell.execute_reply": "2022-05-08T23:02:52.755148Z"
    },
    "papermill": {
     "duration": 0.017946,
     "end_time": "2022-05-08T23:02:52.755347",
     "exception": false,
     "start_time": "2022-05-08T23:02:52.737401",
     "status": "completed"
    },
    "tags": []
   },
   "outputs": [],
   "source": [
    "AUTOTUNE = tf.data.AUTOTUNE\n",
    "\n",
    "train_dataset = train_dataset.cache().prefetch(\n",
    "    buffer_size=AUTOTUNE)  # Otimização\n",
    "train_dev_dataset = train_dev_dataset.cache().prefetch(buffer_size=AUTOTUNE)"
   ]
  },
  {
   "cell_type": "code",
   "execution_count": 10,
   "id": "35f8d922",
   "metadata": {
    "ExecuteTime": {
     "end_time": "2022-04-25T23:32:38.795610Z",
     "start_time": "2022-04-25T23:32:38.673259Z"
    },
    "execution": {
     "iopub.execute_input": "2022-05-08T23:02:52.785211Z",
     "iopub.status.busy": "2022-05-08T23:02:52.784704Z",
     "iopub.status.idle": "2022-05-08T23:02:52.786198Z",
     "shell.execute_reply": "2022-05-08T23:02:52.786556Z"
    },
    "papermill": {
     "duration": 0.021638,
     "end_time": "2022-05-08T23:02:52.786699",
     "exception": false,
     "start_time": "2022-05-08T23:02:52.765061",
     "status": "completed"
    },
    "tags": []
   },
   "outputs": [],
   "source": [
    "def plot_confusion_matrix(cm, class_names):\n",
    "    \"\"\"\n",
    "    Returns a matplotlib figure containing the plotted confusion matrix.\n",
    "\n",
    "    Args:\n",
    "      cm (array, shape = [n, n]): a confusion matrix of integer classes\n",
    "      class_names (array, shape = [n]): String names of the integer classes\n",
    "    \"\"\"\n",
    "    figure = plt.figure(figsize=(8, 8))\n",
    "    plt.imshow(cm, interpolation='nearest', cmap=plt.cm.Blues)\n",
    "    plt.title(\"Confusion matrix\")\n",
    "    plt.colorbar()\n",
    "    tick_marks = np.arange(len(class_names))\n",
    "    plt.xticks(tick_marks, class_names, rotation=90)\n",
    "    plt.yticks(tick_marks, class_names)\n",
    "\n",
    "    # Compute the labels from the normalized confusion matrix.\n",
    "    labels = np.around(cm, decimals=2)\n",
    "\n",
    "    # Use white text if squares are dark; otherwise black.\n",
    "    threshold = cm.max() / 2.\n",
    "    for i, j in itertools.product(range(cm.shape[0]), range(cm.shape[1])):\n",
    "        color = \"white\" if cm[i, j] > threshold else \"black\"\n",
    "        plt.text(j, i, labels[i, j], horizontalalignment=\"center\", color=color)\n",
    "\n",
    "    plt.tight_layout()\n",
    "    plt.ylabel('True label')\n",
    "    plt.xlabel('Predicted label')\n",
    "    return figure\n",
    "\n",
    "\n",
    "def plot_to_image(figure):\n",
    "    \"\"\"Converts the matplotlib plot specified by 'figure' to a PNG image and\n",
    "    returns it. The supplied figure is closed and inaccessible after this call.\"\"\"\n",
    "    # Save the plot to a PNG in memory.\n",
    "    buf = io.BytesIO()\n",
    "    plt.savefig(buf, format='png')\n",
    "    # Closing the figure prevents it from being displayed directly inside\n",
    "    # the notebook.\n",
    "    plt.close(figure)\n",
    "    buf.seek(0)\n",
    "    # Convert PNG buffer to TF image\n",
    "    image = tf.image.decode_png(buf.getvalue(), channels=4)\n",
    "    # Add the batch dimension\n",
    "    image = tf.expand_dims(image, 0)\n",
    "    return image\n"
   ]
  },
  {
   "cell_type": "code",
   "execution_count": 11,
   "id": "886dce52",
   "metadata": {
    "ExecuteTime": {
     "end_time": "2022-04-25T23:37:42.871859Z",
     "start_time": "2022-04-25T23:32:38.797089Z"
    },
    "execution": {
     "iopub.execute_input": "2022-05-08T23:02:52.823155Z",
     "iopub.status.busy": "2022-05-08T23:02:52.822637Z",
     "iopub.status.idle": "2022-05-08T23:50:53.469539Z",
     "shell.execute_reply": "2022-05-08T23:50:53.470138Z"
    },
    "papermill": {
     "duration": 2880.674384,
     "end_time": "2022-05-08T23:50:53.470801",
     "exception": false,
     "start_time": "2022-05-08T23:02:52.796417",
     "status": "completed"
    },
    "scrolled": true,
    "tags": []
   },
   "outputs": [
    {
     "name": "stdout",
     "output_type": "stream",
     "text": [
      "INFO:tensorflow:Reduce to /job:localhost/replica:0/task:0/device:CPU:0 then broadcast to ('/job:localhost/replica:0/task:0/device:CPU:0',).\n",
      "INFO:tensorflow:Reduce to /job:localhost/replica:0/task:0/device:CPU:0 then broadcast to ('/job:localhost/replica:0/task:0/device:CPU:0',).\n",
      "INFO:tensorflow:Reduce to /job:localhost/replica:0/task:0/device:CPU:0 then broadcast to ('/job:localhost/replica:0/task:0/device:CPU:0',).\n",
      "INFO:tensorflow:Reduce to /job:localhost/replica:0/task:0/device:CPU:0 then broadcast to ('/job:localhost/replica:0/task:0/device:CPU:0',).\n",
      "INFO:tensorflow:Reduce to /job:localhost/replica:0/task:0/device:CPU:0 then broadcast to ('/job:localhost/replica:0/task:0/device:CPU:0',).\n",
      "INFO:tensorflow:Reduce to /job:localhost/replica:0/task:0/device:CPU:0 then broadcast to ('/job:localhost/replica:0/task:0/device:CPU:0',).\n",
      "INFO:tensorflow:Reduce to /job:localhost/replica:0/task:0/device:CPU:0 then broadcast to ('/job:localhost/replica:0/task:0/device:CPU:0',).\n",
      "INFO:tensorflow:Reduce to /job:localhost/replica:0/task:0/device:CPU:0 then broadcast to ('/job:localhost/replica:0/task:0/device:CPU:0',).\n",
      "INFO:tensorflow:Reduce to /job:localhost/replica:0/task:0/device:CPU:0 then broadcast to ('/job:localhost/replica:0/task:0/device:CPU:0',).\n",
      "INFO:tensorflow:Reduce to /job:localhost/replica:0/task:0/device:CPU:0 then broadcast to ('/job:localhost/replica:0/task:0/device:CPU:0',).\n",
      "INFO:tensorflow:batch_all_reduce: 2 all-reduces with algorithm = nccl, num_packs = 1\n",
      "INFO:tensorflow:batch_all_reduce: 2 all-reduces with algorithm = nccl, num_packs = 1\n"
     ]
    },
    {
     "name": "stderr",
     "output_type": "stream",
     "text": [
      "2022-05-08 20:03:18.571140: I tensorflow/stream_executor/platform/default/dso_loader.cc:49] Successfully opened dynamic library libcublas.so.10\n",
      "2022-05-08 20:03:28.823838: I tensorflow/core/kernels/data/shuffle_dataset_op.cc:177] Filling up shuffle buffer (this may take a while): 141 of 256\n",
      "2022-05-08 20:03:36.303428: I tensorflow/core/kernels/data/shuffle_dataset_op.cc:230] Shuffle buffer filled.\n",
      "2022-05-08 20:03:38.556643: I tensorflow/stream_executor/platform/default/dso_loader.cc:49] Successfully opened dynamic library libcudnn.so.7\n"
     ]
    },
    {
     "name": "stdout",
     "output_type": "stream",
     "text": [
      "INFO:tensorflow:batch_all_reduce: 418 all-reduces with algorithm = nccl, num_packs = 1\n",
      "INFO:tensorflow:batch_all_reduce: 418 all-reduces with algorithm = nccl, num_packs = 1\n"
     ]
    },
    {
     "name": "stderr",
     "output_type": "stream",
     "text": [
      "2022-05-08 20:16:22.839998: W tensorflow/python/util/util.cc:348] Sets are not currently considered sequences, but this may change in the future, so consider avoiding using them.\n"
     ]
    },
    {
     "name": "stdout",
     "output_type": "stream",
     "text": [
      "INFO:tensorflow:Assets written to: ./model/resnet101_imagenet/assets\n",
      "INFO:tensorflow:Assets written to: ./model/resnet101_imagenet/assets\n",
      "INFO:tensorflow:Assets written to: ./model/resnet101_imagenet/assets\n",
      "INFO:tensorflow:Assets written to: ./model/resnet101_imagenet/assets\n",
      "INFO:tensorflow:Assets written to: ./model/resnet101_imagenet/assets\n",
      "INFO:tensorflow:Assets written to: ./model/resnet101_imagenet/assets\n",
      "INFO:tensorflow:Assets written to: ./model/resnet101_imagenet/assets\n",
      "INFO:tensorflow:Assets written to: ./model/resnet101_imagenet/assets\n",
      "INFO:tensorflow:Assets written to: ./model/resnet101_imagenet/assets\n",
      "INFO:tensorflow:Assets written to: ./model/resnet101_imagenet/assets\n",
      "INFO:tensorflow:Assets written to: ./model/resnet101_imagenet/assets\n",
      "INFO:tensorflow:Assets written to: ./model/resnet101_imagenet/assets\n",
      "INFO:tensorflow:Assets written to: ./model/resnet101_imagenet/assets\n",
      "INFO:tensorflow:Assets written to: ./model/resnet101_imagenet/assets\n",
      "INFO:tensorflow:Assets written to: ./model/resnet101_imagenet/assets\n",
      "INFO:tensorflow:Assets written to: ./model/resnet101_imagenet/assets\n"
     ]
    }
   ],
   "source": [
    "run_dir = logs_dir\n",
    "\n",
    "file_writer_cm = tf.summary.create_file_writer(run_dir + '/cm')\n",
    "\n",
    "\n",
    "def log_confusion_matrix(epoch, logs):\n",
    "    # Use the model to predict the values from the validation dataset.\n",
    "    test_pred_raw = model.predict(train_dev_dataset)\n",
    "    test_pred = np.argmax(test_pred_raw, axis=1)\n",
    "\n",
    "    # Calculate the confusion matrix.\n",
    "    cm = sklearn.metrics.confusion_matrix(\n",
    "        y_test, test_pred, normalize='true')\n",
    "    # Log the confusion matrix as an image summary.\n",
    "    figure = plot_confusion_matrix(cm, class_names=class_names)\n",
    "    cm_image = plot_to_image(figure)\n",
    "\n",
    "    # Log the confusion matrix as an image summary.\n",
    "    with file_writer_cm.as_default():\n",
    "        tf.summary.image(\"Confusion Matrix\", cm_image, step=epoch)\n",
    "\n",
    "\n",
    "# Define the per-epoch callback.\n",
    "cm_callback = keras.callbacks.LambdaCallback(\n",
    "    on_epoch_end=log_confusion_matrix)\n",
    "with strategy.scope():\n",
    "    # loss\n",
    "    loss = tf.keras.losses.SparseCategoricalCrossentropy(from_logits=True)\n",
    "    # métricas\n",
    "    metrics = [tf.keras.metrics.SparseCategoricalAccuracy(name='accuracy')]\n",
    "    data_augmentation = tf.keras.Sequential(\n",
    "        [tf.keras.layers.experimental.preprocessing.RandomFlip('horizontal_and_vertical')])\n",
    "    # Keras sequential model with Hyperparameters passed from the argument\n",
    "    # Keras sequential model with Hyperparameters passed from the argument\n",
    "    cnn = ResNet101(weights='imagenet', include_top=False,\n",
    "                    input_shape=input_shape)\n",
    "    # Para o primeiro treinamento as camadas convolucionais não serão treinadas\n",
    "    cnn.trainable = False\n",
    "    inputs = keras.Input(shape=input_shape)\n",
    "    x = data_augmentation(inputs)\n",
    "    x = preprocess_input(x)\n",
    "    # Camadas de Batch Normalization em inference mode\n",
    "    x = cnn(x, training=False)\n",
    "    x = GlobalAveragePooling2D()(x)\n",
    "    x = keras.layers.Dropout(0.2)(x)\n",
    "    predictions = Dense(num_classes)(x)\n",
    "    model = Model(inputs, predictions)\n",
    "    lr_denso = 1e-4\n",
    "    model.compile(optimizer=keras.optimizers.SGD(\n",
    "        learning_rate=lr_denso, momentum=0.9), loss=loss, metrics=metrics)\n",
    "\n",
    "\n",
    "def scheduler_denso(epoch, lr):\n",
    "    lr_0 = lr_denso\n",
    "    epoch_ini_lr = 20\n",
    "    if epoch < epoch_ini_lr:\n",
    "        learning_rate = lr\n",
    "        with tf.summary.create_file_writer(run_dir + '/metric').as_default():\n",
    "            tf.summary.scalar(\n",
    "                'learning rate', data=learning_rate, step=epoch)\n",
    "        return learning_rate\n",
    "    else:\n",
    "        learning_rate = lr_0 * \\\n",
    "            tf.math.exp(-0.005*(epoch-epoch_ini_lr)).numpy()\n",
    "        with tf.summary.create_file_writer(run_dir + '/metric').as_default():\n",
    "            tf.summary.scalar(\n",
    "                'learning rate', data=learning_rate, step=epoch)\n",
    "        return learning_rate\n",
    "\n",
    "\n",
    "callbacks_dense = [tf.keras.callbacks.TensorBoard(run_dir, profile_batch=0, write_graph=False),\n",
    "                   tf.keras.callbacks.LearningRateScheduler(\n",
    "    scheduler_denso, verbose=0),\n",
    "    cm_callback,\n",
    "    EarlyStopping(patience=15)]\n",
    "# Training the network\n",
    "history_dense = model.fit(train_dataset, epochs=n_epochs_ini, verbose=0,\n",
    "                          validation_data=train_dev_dataset, callbacks=callbacks_dense)\n",
    "\n",
    "treinamento_denso = len(history_dense.history['loss'])\n",
    "with strategy.scope():\n",
    "    cnn.trainable = True\n",
    "    # loss\n",
    "    loss = tf.keras.losses.SparseCategoricalCrossentropy(from_logits=True)\n",
    "    # métricas\n",
    "    metrics = [tf.keras.metrics.SparseCategoricalAccuracy(name='accuracy')]\n",
    "    lr_full = 1e-5\n",
    "    model.compile(\n",
    "        optimizer=keras.optimizers.SGD(\n",
    "            learning_rate=lr_full, momentum=0.9),\n",
    "        loss=loss,\n",
    "        metrics=metrics\n",
    "    )\n",
    "\n",
    "\n",
    "def scheduler_cnn(epoch, lr):\n",
    "    lr_0 = lr_full\n",
    "    learning_rate = lr_0 * \\\n",
    "        tf.math.exp(-0.02*(epoch-treinamento_denso)).numpy()\n",
    "    with tf.summary.create_file_writer(run_dir + '/metric').as_default():\n",
    "        tf.summary.scalar(\n",
    "            'learning rate', data=learning_rate, step=epoch)\n",
    "    return learning_rate\n",
    "\n",
    "nome_save_model = nome_modelo\n",
    "\n",
    "model_dir = os.path.join('./model/', nome_save_model)\n",
    "\n",
    "callbacks_cnn = [tf.keras.callbacks.TensorBoard(run_dir, profile_batch=0, write_graph=False),\n",
    "                 tf.keras.callbacks.LearningRateScheduler(\n",
    "                 scheduler_cnn, verbose=0),\n",
    "                 cm_callback,\n",
    "                 EarlyStopping(patience=30),\n",
    "                ModelCheckpoint(filepath=model_dir,monitor=\"val_loss\",save_best_only=True)]\n",
    "\n",
    "history_cnn = model.fit(train_dataset, epochs=n_epochs, initial_epoch=treinamento_denso, verbose=0,\n",
    "                        validation_data=train_dev_dataset, callbacks=callbacks_cnn)\n",
    "\n",
    "treinamento_cnn = len(history_cnn.history['loss'])\n"
   ]
  },
  {
   "cell_type": "code",
   "execution_count": 12,
   "id": "8ddd615c",
   "metadata": {
    "ExecuteTime": {
     "end_time": "2022-04-25T23:37:42.875940Z",
     "start_time": "2022-04-25T23:37:42.875914Z"
    },
    "execution": {
     "iopub.execute_input": "2022-05-08T23:50:53.515103Z",
     "iopub.status.busy": "2022-05-08T23:50:53.514617Z",
     "iopub.status.idle": "2022-05-08T23:50:53.517773Z",
     "shell.execute_reply": "2022-05-08T23:50:53.518139Z"
    },
    "papermill": {
     "duration": 0.027962,
     "end_time": "2022-05-08T23:50:53.518328",
     "exception": false,
     "start_time": "2022-05-08T23:50:53.490366",
     "status": "completed"
    },
    "tags": []
   },
   "outputs": [
    {
     "name": "stdout",
     "output_type": "stream",
     "text": [
      "100\n",
      "62\n"
     ]
    }
   ],
   "source": [
    "print(treinamento_denso)\n",
    "print(treinamento_cnn)"
   ]
  }
 ],
 "metadata": {
  "hide_input": false,
  "kernelspec": {
   "display_name": "Python 3 (ipykernel)",
   "language": "python",
   "name": "python3"
  },
  "language_info": {
   "codemirror_mode": {
    "name": "ipython",
    "version": 3
   },
   "file_extension": ".py",
   "mimetype": "text/x-python",
   "name": "python",
   "nbconvert_exporter": "python",
   "pygments_lexer": "ipython3",
   "version": "3.8.8"
  },
  "papermill": {
   "default_parameters": {},
   "duration": 2894.056231,
   "end_time": "2022-05-08T23:50:57.856991",
   "environment_variables": {},
   "exception": null,
   "input_path": "resnet.ipynb",
   "output_path": "resnet_output.ipynb",
   "parameters": {},
   "start_time": "2022-05-08T23:02:43.800760",
   "version": "2.3.3"
  },
  "toc": {
   "base_numbering": 1,
   "nav_menu": {},
   "number_sections": true,
   "sideBar": true,
   "skip_h1_title": false,
   "title_cell": "Table of Contents",
   "title_sidebar": "Contents",
   "toc_cell": false,
   "toc_position": {},
   "toc_section_display": true,
   "toc_window_display": false
  },
  "varInspector": {
   "cols": {
    "lenName": 16,
    "lenType": 16,
    "lenVar": 40
   },
   "kernels_config": {
    "python": {
     "delete_cmd_postfix": "",
     "delete_cmd_prefix": "del ",
     "library": "var_list.py",
     "varRefreshCmd": "print(var_dic_list())"
    },
    "r": {
     "delete_cmd_postfix": ") ",
     "delete_cmd_prefix": "rm(",
     "library": "var_list.r",
     "varRefreshCmd": "cat(var_dic_list()) "
    }
   },
   "types_to_exclude": [
    "module",
    "function",
    "builtin_function_or_method",
    "instance",
    "_Feature"
   ],
   "window_display": false
  }
 },
 "nbformat": 4,
 "nbformat_minor": 5
}
