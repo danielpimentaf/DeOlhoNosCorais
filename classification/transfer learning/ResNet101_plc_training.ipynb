{
  "cells": [
    {
      "cell_type": "code",
      "execution_count": null,
      "id": "9aa8b5b2",
      "metadata": {
        "ExecuteTime": {
          "end_time": "2022-03-31T00:23:42.202550Z",
          "start_time": "2022-03-31T00:23:42.198449Z"
        },
        "execution": {
          "iopub.execute_input": "2022-03-31T11:22:42.985210Z",
          "iopub.status.busy": "2022-03-31T11:22:42.984328Z",
          "iopub.status.idle": "2022-03-31T11:22:42.988211Z",
          "shell.execute_reply": "2022-03-31T11:22:42.988860Z"
        },
        "papermill": {
          "duration": 0.041384,
          "end_time": "2022-03-31T11:22:42.989213",
          "exception": false,
          "start_time": "2022-03-31T11:22:42.947829",
          "status": "completed"
        },
        "tags": [],
        "id": "9aa8b5b2"
      },
      "outputs": [],
      "source": [
        "import os\n",
        "#os.environ[\"CUDA_VISIBLE_DEVICES\"] = \"0\""
      ]
    },
    {
      "cell_type": "markdown",
      "id": "50b3d870",
      "metadata": {
        "papermill": {
          "duration": 0.023369,
          "end_time": "2022-03-31T11:22:43.034859",
          "exception": false,
          "start_time": "2022-03-31T11:22:43.011490",
          "status": "completed"
        },
        "tags": [],
        "id": "50b3d870"
      },
      "source": [
        "# Carregando Pacotes"
      ]
    },
    {
      "cell_type": "code",
      "execution_count": null,
      "id": "86d6823f",
      "metadata": {
        "ExecuteTime": {
          "end_time": "2022-03-31T00:23:46.445762Z",
          "start_time": "2022-03-31T00:23:42.204667Z"
        },
        "execution": {
          "iopub.execute_input": "2022-03-31T11:22:43.130680Z",
          "iopub.status.busy": "2022-03-31T11:22:43.129818Z",
          "iopub.status.idle": "2022-03-31T11:22:46.442756Z",
          "shell.execute_reply": "2022-03-31T11:22:46.443633Z"
        },
        "papermill": {
          "duration": 3.348251,
          "end_time": "2022-03-31T11:22:46.443925",
          "exception": false,
          "start_time": "2022-03-31T11:22:43.095674",
          "status": "completed"
        },
        "tags": [],
        "id": "86d6823f",
        "outputId": "daad2dbb-03e8-4f5d-a54b-0483274d8cb0"
      },
      "outputs": [
        {
          "name": "stderr",
          "output_type": "stream",
          "text": [
            "2022-03-31 08:22:44.673035: I tensorflow/stream_executor/platform/default/dso_loader.cc:49] Successfully opened dynamic library libcudart.so.10.1\n"
          ]
        }
      ],
      "source": [
        "import numpy as np\n",
        "import pandas as pd\n",
        "from sklearn.metrics import confusion_matrix, accuracy_score, classification_report\n",
        "from matplotlib import pyplot as plt\n",
        "import tensorflow as tf\n",
        "import tensorflow.keras as keras\n",
        "from tensorflow.keras.layers import GlobalAveragePooling2D, Dense, Dropout\n",
        "from tensorflow.keras.models import Model\n",
        "from tensorflow.keras.callbacks import ModelCheckpoint, EarlyStopping\n",
        "from tensorflow.keras.preprocessing import image_dataset_from_directory\n",
        "from tensorflow.keras.applications import ResNet101\n",
        "from tensorflow.keras.applications.resnet import preprocess_input\n",
        "from tensorboard.plugins.hparams import api as hp\n",
        "from pathlib import Path\n",
        "import sklearn.metrics\n",
        "import sklearn\n",
        "import itertools\n",
        "import io\n",
        "import tensorflow_addons as tfa"
      ]
    },
    {
      "cell_type": "code",
      "execution_count": null,
      "id": "52bd4cf7",
      "metadata": {
        "ExecuteTime": {
          "end_time": "2022-03-31T00:23:46.451744Z",
          "start_time": "2022-03-31T00:23:46.447930Z"
        },
        "execution": {
          "iopub.execute_input": "2022-03-31T11:22:46.500912Z",
          "iopub.status.busy": "2022-03-31T11:22:46.499690Z",
          "iopub.status.idle": "2022-03-31T11:22:46.503769Z",
          "shell.execute_reply": "2022-03-31T11:22:46.504585Z"
        },
        "papermill": {
          "duration": 0.036396,
          "end_time": "2022-03-31T11:22:46.504886",
          "exception": false,
          "start_time": "2022-03-31T11:22:46.468490",
          "status": "completed"
        },
        "tags": [],
        "id": "52bd4cf7",
        "outputId": "89913ec5-9e0c-4e9a-8b4a-f5ef4553afc7"
      },
      "outputs": [
        {
          "name": "stdout",
          "output_type": "stream",
          "text": [
            "2.4.1\n"
          ]
        }
      ],
      "source": [
        "print(tf.__version__)"
      ]
    },
    {
      "cell_type": "markdown",
      "id": "bfe26c66",
      "metadata": {
        "ExecuteTime": {
          "end_time": "2021-10-24T17:27:22.070482Z",
          "start_time": "2021-10-24T17:27:21.797544Z"
        },
        "papermill": {
          "duration": 0.022808,
          "end_time": "2022-03-31T11:22:46.550431",
          "exception": false,
          "start_time": "2022-03-31T11:22:46.527623",
          "status": "completed"
        },
        "tags": [],
        "id": "bfe26c66"
      },
      "source": [
        "# Paramêtros"
      ]
    },
    {
      "cell_type": "code",
      "execution_count": null,
      "id": "b220fb47",
      "metadata": {
        "ExecuteTime": {
          "end_time": "2022-03-31T00:23:49.532531Z",
          "start_time": "2022-03-31T00:23:46.453566Z"
        },
        "execution": {
          "iopub.execute_input": "2022-03-31T11:22:48.838909Z",
          "iopub.status.busy": "2022-03-31T11:22:48.837940Z",
          "iopub.status.idle": "2022-03-31T11:22:49.039381Z",
          "shell.execute_reply": "2022-03-31T11:22:49.040016Z"
        },
        "papermill": {
          "duration": 2.46699,
          "end_time": "2022-03-31T11:22:49.040227",
          "exception": false,
          "start_time": "2022-03-31T11:22:46.573237",
          "status": "completed"
        },
        "tags": [],
        "id": "b220fb47",
        "outputId": "0a732c00-f630-4ae7-eb55-38786fb9aa02"
      },
      "outputs": [
        {
          "name": "stdout",
          "output_type": "stream",
          "text": [
            "INFO:tensorflow:Using MirroredStrategy with devices ('/job:localhost/replica:0/task:0/device:GPU:0', '/job:localhost/replica:0/task:0/device:GPU:1')\n"
          ]
        },
        {
          "name": "stderr",
          "output_type": "stream",
          "text": [
            "2022-03-31 08:22:46.606431: I tensorflow/compiler/jit/xla_cpu_device.cc:41] Not creating XLA devices, tf_xla_enable_xla_devices not set\n",
            "2022-03-31 08:22:46.608751: I tensorflow/stream_executor/platform/default/dso_loader.cc:49] Successfully opened dynamic library libcuda.so.1\n",
            "2022-03-31 08:22:47.654399: I tensorflow/core/common_runtime/gpu/gpu_device.cc:1720] Found device 0 with properties: \n",
            "pciBusID: 0000:3b:00.0 name: NVIDIA GeForce GTX TITAN Black computeCapability: 3.5\n",
            "coreClock: 0.98GHz coreCount: 15 deviceMemorySize: 5.94GiB deviceMemoryBandwidth: 312.92GiB/s\n",
            "2022-03-31 08:22:47.655311: I tensorflow/core/common_runtime/gpu/gpu_device.cc:1720] Found device 1 with properties: \n",
            "pciBusID: 0000:af:00.0 name: NVIDIA GeForce GTX TITAN Black computeCapability: 3.5\n",
            "coreClock: 0.98GHz coreCount: 15 deviceMemorySize: 5.94GiB deviceMemoryBandwidth: 312.92GiB/s\n",
            "2022-03-31 08:22:47.655426: I tensorflow/stream_executor/platform/default/dso_loader.cc:49] Successfully opened dynamic library libcudart.so.10.1\n",
            "2022-03-31 08:22:47.659164: I tensorflow/stream_executor/platform/default/dso_loader.cc:49] Successfully opened dynamic library libcublas.so.10\n",
            "2022-03-31 08:22:47.659316: I tensorflow/stream_executor/platform/default/dso_loader.cc:49] Successfully opened dynamic library libcublasLt.so.10\n",
            "2022-03-31 08:22:47.663130: I tensorflow/stream_executor/platform/default/dso_loader.cc:49] Successfully opened dynamic library libcufft.so.10\n",
            "2022-03-31 08:22:47.663827: I tensorflow/stream_executor/platform/default/dso_loader.cc:49] Successfully opened dynamic library libcurand.so.10\n",
            "2022-03-31 08:22:47.667247: I tensorflow/stream_executor/platform/default/dso_loader.cc:49] Successfully opened dynamic library libcusolver.so.10\n",
            "2022-03-31 08:22:47.669192: I tensorflow/stream_executor/platform/default/dso_loader.cc:49] Successfully opened dynamic library libcusparse.so.10\n",
            "2022-03-31 08:22:47.676818: I tensorflow/stream_executor/platform/default/dso_loader.cc:49] Successfully opened dynamic library libcudnn.so.7\n",
            "2022-03-31 08:22:47.680441: I tensorflow/core/common_runtime/gpu/gpu_device.cc:1862] Adding visible gpu devices: 0, 1\n",
            "2022-03-31 08:22:47.681959: I tensorflow/core/platform/cpu_feature_guard.cc:142] This TensorFlow binary is optimized with oneAPI Deep Neural Network Library (oneDNN) to use the following CPU instructions in performance-critical operations:  SSE4.1 SSE4.2 AVX AVX2 AVX512F FMA\n",
            "To enable them in other operations, rebuild TensorFlow with the appropriate compiler flags.\n",
            "2022-03-31 08:22:47.834219: I tensorflow/core/common_runtime/gpu/gpu_device.cc:1720] Found device 0 with properties: \n",
            "pciBusID: 0000:3b:00.0 name: NVIDIA GeForce GTX TITAN Black computeCapability: 3.5\n",
            "coreClock: 0.98GHz coreCount: 15 deviceMemorySize: 5.94GiB deviceMemoryBandwidth: 312.92GiB/s\n",
            "2022-03-31 08:22:47.835132: I tensorflow/core/common_runtime/gpu/gpu_device.cc:1720] Found device 1 with properties: \n",
            "pciBusID: 0000:af:00.0 name: NVIDIA GeForce GTX TITAN Black computeCapability: 3.5\n",
            "coreClock: 0.98GHz coreCount: 15 deviceMemorySize: 5.94GiB deviceMemoryBandwidth: 312.92GiB/s\n",
            "2022-03-31 08:22:47.835254: I tensorflow/stream_executor/platform/default/dso_loader.cc:49] Successfully opened dynamic library libcudart.so.10.1\n",
            "2022-03-31 08:22:47.835299: I tensorflow/stream_executor/platform/default/dso_loader.cc:49] Successfully opened dynamic library libcublas.so.10\n",
            "2022-03-31 08:22:47.835482: I tensorflow/stream_executor/platform/default/dso_loader.cc:49] Successfully opened dynamic library libcublasLt.so.10\n",
            "2022-03-31 08:22:47.835652: I tensorflow/stream_executor/platform/default/dso_loader.cc:49] Successfully opened dynamic library libcufft.so.10\n",
            "2022-03-31 08:22:47.835814: I tensorflow/stream_executor/platform/default/dso_loader.cc:49] Successfully opened dynamic library libcurand.so.10\n",
            "2022-03-31 08:22:47.836000: I tensorflow/stream_executor/platform/default/dso_loader.cc:49] Successfully opened dynamic library libcusolver.so.10\n",
            "2022-03-31 08:22:47.836197: I tensorflow/stream_executor/platform/default/dso_loader.cc:49] Successfully opened dynamic library libcusparse.so.10\n",
            "2022-03-31 08:22:47.836421: I tensorflow/stream_executor/platform/default/dso_loader.cc:49] Successfully opened dynamic library libcudnn.so.7\n",
            "2022-03-31 08:22:47.839505: I tensorflow/core/common_runtime/gpu/gpu_device.cc:1862] Adding visible gpu devices: 0, 1\n",
            "2022-03-31 08:22:47.839644: I tensorflow/stream_executor/platform/default/dso_loader.cc:49] Successfully opened dynamic library libcudart.so.10.1\n",
            "2022-03-31 08:22:48.829113: I tensorflow/core/common_runtime/gpu/gpu_device.cc:1261] Device interconnect StreamExecutor with strength 1 edge matrix:\n",
            "2022-03-31 08:22:48.829206: I tensorflow/core/common_runtime/gpu/gpu_device.cc:1267]      0 1 \n",
            "2022-03-31 08:22:48.829213: I tensorflow/core/common_runtime/gpu/gpu_device.cc:1280] 0:   N Y \n",
            "2022-03-31 08:22:48.829218: I tensorflow/core/common_runtime/gpu/gpu_device.cc:1280] 1:   Y N \n",
            "2022-03-31 08:22:48.831486: I tensorflow/core/common_runtime/gpu/gpu_device.cc:1406] Created TensorFlow device (/job:localhost/replica:0/task:0/device:GPU:0 with 5581 MB memory) -> physical GPU (device: 0, name: NVIDIA GeForce GTX TITAN Black, pci bus id: 0000:3b:00.0, compute capability: 3.5)\n",
            "2022-03-31 08:22:48.833053: I tensorflow/core/common_runtime/gpu/gpu_device.cc:1406] Created TensorFlow device (/job:localhost/replica:0/task:0/device:GPU:1 with 5581 MB memory) -> physical GPU (device: 1, name: NVIDIA GeForce GTX TITAN Black, pci bus id: 0000:af:00.0, compute capability: 3.5)\n",
            "2022-03-31 08:22:48.833332: I tensorflow/compiler/jit/xla_gpu_device.cc:99] Not creating XLA devices, tf_xla_enable_xla_devices not set\n"
          ]
        }
      ],
      "source": [
        "# Classes\n",
        "num_classes = 12\n",
        "\n",
        "# Epochs\n",
        "n_epochs = 200\n",
        "n_epochs_ini = 100\n",
        "\n",
        "# Tamanho imagem\n",
        "img_rows, img_cols = 224, 224\n",
        "\n",
        "input_shape = (img_rows, img_cols, 3)\n",
        "\n",
        "#batch_size = 64\n",
        "\n",
        "strategy = tf.distribute.MirroredStrategy()\n",
        "\n",
        "BATCH_SIZE_PER_REPLICA = 16\n",
        "batch_size = BATCH_SIZE_PER_REPLICA * strategy.num_replicas_in_sync\n",
        "\n",
        "options = tf.data.Options()\n",
        "options.experimental_distribute.auto_shard_policy = tf.data.experimental.AutoShardPolicy.DATA\n",
        "\n",
        "\n",
        "# seed\n",
        "seed = 42\n",
        "\n",
        "path_dataset = Path('/scratch/dpfurtado/pilheira_new_home/transfer learning/2_train_train_dev_test/224_224/')\n",
        "path_train = path_dataset/'train'\n",
        "path_train_dev = path_dataset/'train-dev'\n",
        "path_test = path_dataset/'test_archived'\n",
        "\n",
        "nome_modelo = 'resnet101_plc_full'\n",
        "\n",
        "\n",
        "logs_dir = os.path.join('./logs/', nome_modelo)\n",
        "\n",
        "!rm -r {logs_dir}"
      ]
    },
    {
      "cell_type": "markdown",
      "id": "ab258120",
      "metadata": {
        "papermill": {
          "duration": 0.024212,
          "end_time": "2022-03-31T11:22:49.087571",
          "exception": false,
          "start_time": "2022-03-31T11:22:49.063359",
          "status": "completed"
        },
        "tags": [],
        "id": "ab258120"
      },
      "source": [
        "# Carregando Base de Dados"
      ]
    },
    {
      "cell_type": "code",
      "execution_count": null,
      "id": "a8676994",
      "metadata": {
        "ExecuteTime": {
          "end_time": "2022-03-31T00:23:50.595668Z",
          "start_time": "2022-03-31T00:23:49.536663Z"
        },
        "execution": {
          "iopub.execute_input": "2022-03-31T11:22:49.150086Z",
          "iopub.status.busy": "2022-03-31T11:22:49.149193Z",
          "iopub.status.idle": "2022-03-31T11:22:49.941616Z",
          "shell.execute_reply": "2022-03-31T11:22:49.942089Z"
        },
        "papermill": {
          "duration": 0.828441,
          "end_time": "2022-03-31T11:22:49.942283",
          "exception": false,
          "start_time": "2022-03-31T11:22:49.113842",
          "status": "completed"
        },
        "tags": [],
        "id": "a8676994"
      },
      "outputs": [],
      "source": [
        "train_ds = tf.data.Dataset.list_files(str(path_train/'*/*'), shuffle=False)\n",
        "train_dev_ds_concat = tf.data.Dataset.list_files(str(path_train_dev/'*/*'), shuffle=False)\n",
        "test_ds = tf.data.Dataset.list_files(str(path_test/'*/*'), shuffle=False)"
      ]
    },
    {
      "cell_type": "code",
      "execution_count": null,
      "id": "99759399",
      "metadata": {
        "ExecuteTime": {
          "end_time": "2022-03-31T00:23:50.601953Z",
          "start_time": "2022-03-31T00:23:50.597880Z"
        },
        "execution": {
          "iopub.execute_input": "2022-03-31T11:22:49.982538Z",
          "iopub.status.busy": "2022-03-31T11:22:49.980120Z",
          "iopub.status.idle": "2022-03-31T11:22:49.984272Z",
          "shell.execute_reply": "2022-03-31T11:22:49.983513Z"
        },
        "papermill": {
          "duration": 0.027446,
          "end_time": "2022-03-31T11:22:49.984471",
          "exception": false,
          "start_time": "2022-03-31T11:22:49.957025",
          "status": "completed"
        },
        "tags": [],
        "id": "99759399"
      },
      "outputs": [],
      "source": [
        "train_ds = train_ds.concatenate(train_dev_ds_concat)"
      ]
    },
    {
      "cell_type": "code",
      "execution_count": null,
      "id": "2c04e88c",
      "metadata": {
        "ExecuteTime": {
          "end_time": "2022-03-31T00:23:50.721657Z",
          "start_time": "2022-03-31T00:23:50.606943Z"
        },
        "execution": {
          "iopub.execute_input": "2022-03-31T11:22:50.036788Z",
          "iopub.status.busy": "2022-03-31T11:22:50.035971Z",
          "iopub.status.idle": "2022-03-31T11:22:50.038639Z",
          "shell.execute_reply": "2022-03-31T11:22:50.039275Z"
        },
        "papermill": {
          "duration": 0.031854,
          "end_time": "2022-03-31T11:22:50.039487",
          "exception": false,
          "start_time": "2022-03-31T11:22:50.007633",
          "status": "completed"
        },
        "tags": [],
        "id": "2c04e88c",
        "outputId": "1eca920d-53d6-4d12-98d0-9f911901c524"
      },
      "outputs": [
        {
          "name": "stdout",
          "output_type": "stream",
          "text": [
            "95993\n"
          ]
        }
      ],
      "source": [
        "len_train = tf.data.experimental.cardinality(train_ds).numpy()\n",
        "print(len_train)"
      ]
    },
    {
      "cell_type": "code",
      "execution_count": null,
      "id": "6c081a24",
      "metadata": {
        "ExecuteTime": {
          "end_time": "2022-03-31T00:23:50.822818Z",
          "start_time": "2022-03-31T00:23:50.724604Z"
        },
        "execution": {
          "iopub.execute_input": "2022-03-31T11:22:50.094428Z",
          "iopub.status.busy": "2022-03-31T11:22:50.093589Z",
          "iopub.status.idle": "2022-03-31T11:22:50.096758Z",
          "shell.execute_reply": "2022-03-31T11:22:50.097348Z"
        },
        "papermill": {
          "duration": 0.033741,
          "end_time": "2022-03-31T11:22:50.097550",
          "exception": false,
          "start_time": "2022-03-31T11:22:50.063809",
          "status": "completed"
        },
        "tags": [],
        "id": "6c081a24",
        "outputId": "cf55fe6e-3ef9-4cec-cf47-c80d468b0171"
      },
      "outputs": [
        {
          "name": "stdout",
          "output_type": "stream",
          "text": [
            "['Acrop' 'Fav' 'Favia' 'HC_other' 'Macro' 'Mille' 'Monti' 'Pavon' 'Plat'\n",
            " 'Pocill' 'Porit' 'Soft']\n"
          ]
        }
      ],
      "source": [
        "class_names = np.array(sorted([item.name for item in path_train.glob('*')]))\n",
        "print(class_names)"
      ]
    },
    {
      "cell_type": "code",
      "execution_count": null,
      "id": "dbabd55a",
      "metadata": {
        "ExecuteTime": {
          "end_time": "2022-03-31T00:23:50.927469Z",
          "start_time": "2022-03-31T00:23:50.825509Z"
        },
        "execution": {
          "iopub.execute_input": "2022-03-31T11:22:50.154779Z",
          "iopub.status.busy": "2022-03-31T11:22:50.153924Z",
          "iopub.status.idle": "2022-03-31T11:22:50.158404Z",
          "shell.execute_reply": "2022-03-31T11:22:50.159007Z"
        },
        "papermill": {
          "duration": 0.037316,
          "end_time": "2022-03-31T11:22:50.159233",
          "exception": false,
          "start_time": "2022-03-31T11:22:50.121917",
          "status": "completed"
        },
        "tags": [],
        "id": "dbabd55a",
        "outputId": "2206ad28-96cf-4cf8-d215-59047e1882db"
      },
      "outputs": [
        {
          "name": "stdout",
          "output_type": "stream",
          "text": [
            "95993\n",
            "3130\n"
          ]
        }
      ],
      "source": [
        "len_train = tf.data.experimental.cardinality(train_ds).numpy()\n",
        "len_test = tf.data.experimental.cardinality(test_ds).numpy()\n",
        "print(len_train)\n",
        "print(len_test)"
      ]
    },
    {
      "cell_type": "code",
      "execution_count": null,
      "id": "125ce3c5",
      "metadata": {
        "ExecuteTime": {
          "end_time": "2022-03-31T00:23:51.024422Z",
          "start_time": "2022-03-31T00:23:50.935205Z"
        },
        "execution": {
          "iopub.execute_input": "2022-03-31T11:22:50.219993Z",
          "iopub.status.busy": "2022-03-31T11:22:50.219094Z",
          "iopub.status.idle": "2022-03-31T11:22:50.221550Z",
          "shell.execute_reply": "2022-03-31T11:22:50.222219Z"
        },
        "papermill": {
          "duration": 0.037178,
          "end_time": "2022-03-31T11:22:50.222441",
          "exception": false,
          "start_time": "2022-03-31T11:22:50.185263",
          "status": "completed"
        },
        "tags": [],
        "id": "125ce3c5"
      },
      "outputs": [],
      "source": [
        "def get_label(file_path):\n",
        "  # Convert the path to a list of path components\n",
        "  parts = tf.strings.split(file_path, os.path.sep)\n",
        "  # The second to last is the class-directory\n",
        "  one_hot = parts[-2] == class_names\n",
        "  # Integer encode the label\n",
        "  return tf.argmax(one_hot)"
      ]
    },
    {
      "cell_type": "code",
      "execution_count": null,
      "id": "b4e5b3e3",
      "metadata": {
        "ExecuteTime": {
          "end_time": "2022-03-31T00:23:51.128044Z",
          "start_time": "2022-03-31T00:23:51.031688Z"
        },
        "execution": {
          "iopub.execute_input": "2022-03-31T11:22:50.323869Z",
          "iopub.status.busy": "2022-03-31T11:22:50.322523Z",
          "iopub.status.idle": "2022-03-31T11:22:50.328080Z",
          "shell.execute_reply": "2022-03-31T11:22:50.327237Z"
        },
        "papermill": {
          "duration": 0.079656,
          "end_time": "2022-03-31T11:22:50.328263",
          "exception": false,
          "start_time": "2022-03-31T11:22:50.248607",
          "status": "completed"
        },
        "tags": [],
        "id": "b4e5b3e3"
      },
      "outputs": [],
      "source": [
        "def decode_img(img):\n",
        "    # Convert the compressed string to a 3D uint8 tensor\n",
        "    img = tf.io.decode_jpeg(img, channels=3)\n",
        "    # Resize the image to the desired size\n",
        "    #return tf.image.resize(img, [img_height, img_width])\n",
        "    return img"
      ]
    },
    {
      "cell_type": "code",
      "execution_count": null,
      "id": "bcc6d00d",
      "metadata": {
        "ExecuteTime": {
          "end_time": "2022-03-31T00:23:51.242230Z",
          "start_time": "2022-03-31T00:23:51.130449Z"
        },
        "execution": {
          "iopub.execute_input": "2022-03-31T11:22:50.387490Z",
          "iopub.status.busy": "2022-03-31T11:22:50.386635Z",
          "iopub.status.idle": "2022-03-31T11:22:50.390020Z",
          "shell.execute_reply": "2022-03-31T11:22:50.389367Z"
        },
        "papermill": {
          "duration": 0.036106,
          "end_time": "2022-03-31T11:22:50.390199",
          "exception": false,
          "start_time": "2022-03-31T11:22:50.354093",
          "status": "completed"
        },
        "tags": [],
        "id": "bcc6d00d"
      },
      "outputs": [],
      "source": [
        "def process_path(file_path):\n",
        "    label = get_label(file_path)\n",
        "    # Load the raw data from the file as a string\n",
        "    img = tf.io.read_file(file_path)\n",
        "    img = decode_img(img)\n",
        "    return img, label"
      ]
    },
    {
      "cell_type": "code",
      "execution_count": null,
      "id": "b99965bc",
      "metadata": {
        "ExecuteTime": {
          "end_time": "2022-03-31T00:23:51.539609Z",
          "start_time": "2022-03-31T00:23:51.244660Z"
        },
        "execution": {
          "iopub.execute_input": "2022-03-31T11:22:50.455084Z",
          "iopub.status.busy": "2022-03-31T11:22:50.454083Z",
          "iopub.status.idle": "2022-03-31T11:22:50.638100Z",
          "shell.execute_reply": "2022-03-31T11:22:50.638950Z"
        },
        "papermill": {
          "duration": 0.223488,
          "end_time": "2022-03-31T11:22:50.639253",
          "exception": false,
          "start_time": "2022-03-31T11:22:50.415765",
          "status": "completed"
        },
        "tags": [],
        "id": "b99965bc"
      },
      "outputs": [],
      "source": [
        "AUTOTUNE = tf.data.AUTOTUNE \n",
        "train_ds = train_ds.map(tf.autograph.experimental.do_not_convert(process_path), num_parallel_calls=AUTOTUNE)\n",
        "test_ds = test_ds.map(tf.autograph.experimental.do_not_convert(process_path), num_parallel_calls=AUTOTUNE)"
      ]
    },
    {
      "cell_type": "code",
      "execution_count": null,
      "id": "7c79aef5",
      "metadata": {
        "ExecuteTime": {
          "end_time": "2022-03-31T00:23:51.552338Z",
          "start_time": "2022-03-31T00:23:51.542307Z"
        },
        "execution": {
          "iopub.execute_input": "2022-03-31T11:22:50.709478Z",
          "iopub.status.busy": "2022-03-31T11:22:50.708392Z",
          "iopub.status.idle": "2022-03-31T11:22:50.718673Z",
          "shell.execute_reply": "2022-03-31T11:22:50.719495Z"
        },
        "papermill": {
          "duration": 0.051326,
          "end_time": "2022-03-31T11:22:50.719759",
          "exception": false,
          "start_time": "2022-03-31T11:22:50.668433",
          "status": "completed"
        },
        "tags": [],
        "id": "7c79aef5"
      },
      "outputs": [],
      "source": [
        "def configure_for_performance_train(ds):\n",
        "    ds = ds.cache()\n",
        "    ds = ds.shuffle(buffer_size=len_train)\n",
        "    ds = ds.batch(batch_size)\n",
        "    ds = ds.prefetch(buffer_size=AUTOTUNE)\n",
        "    return ds\n",
        "def configure_for_performance_test(ds):\n",
        "    ds = ds.cache()\n",
        "    ds = ds.batch(batch_size)\n",
        "    ds = ds.prefetch(buffer_size=AUTOTUNE)\n",
        "    return ds\n",
        "\n",
        "train_dataset = configure_for_performance_train(train_ds)\n",
        "test_dataset = configure_for_performance_test(test_ds)"
      ]
    },
    {
      "cell_type": "code",
      "execution_count": null,
      "id": "999f15eb",
      "metadata": {
        "ExecuteTime": {
          "end_time": "2022-03-31T00:23:51.703858Z",
          "start_time": "2022-03-31T00:23:51.554504Z"
        },
        "execution": {
          "iopub.execute_input": "2022-03-31T11:22:50.794524Z",
          "iopub.status.busy": "2022-03-31T11:22:50.792469Z",
          "iopub.status.idle": "2022-03-31T11:22:50.796423Z",
          "shell.execute_reply": "2022-03-31T11:22:50.797152Z"
        },
        "papermill": {
          "duration": 0.044859,
          "end_time": "2022-03-31T11:22:50.797501",
          "exception": false,
          "start_time": "2022-03-31T11:22:50.752642",
          "status": "completed"
        },
        "tags": [],
        "id": "999f15eb"
      },
      "outputs": [],
      "source": [
        "train_dataset = train_dataset.with_options(options)\n",
        "test_dataset = test_dataset.with_options(options)"
      ]
    },
    {
      "cell_type": "code",
      "execution_count": null,
      "id": "920bf432",
      "metadata": {
        "ExecuteTime": {
          "end_time": "2022-03-31T00:23:52.850837Z",
          "start_time": "2022-03-31T00:23:51.706319Z"
        },
        "execution": {
          "iopub.execute_input": "2022-03-31T11:22:50.876292Z",
          "iopub.status.busy": "2022-03-31T11:22:50.874887Z",
          "iopub.status.idle": "2022-03-31T11:22:52.186092Z",
          "shell.execute_reply": "2022-03-31T11:22:52.186855Z"
        },
        "papermill": {
          "duration": 1.360029,
          "end_time": "2022-03-31T11:22:52.187134",
          "exception": false,
          "start_time": "2022-03-31T11:22:50.827105",
          "status": "completed"
        },
        "tags": [],
        "id": "920bf432",
        "outputId": "f09dda27-4f63-43b8-d3d9-f651c784b35c"
      },
      "outputs": [
        {
          "name": "stderr",
          "output_type": "stream",
          "text": [
            "2022-03-31 08:22:50.909028: I tensorflow/compiler/mlir/mlir_graph_optimization_pass.cc:116] None of the MLIR optimization passes are enabled (registered 2)\n",
            "2022-03-31 08:22:50.931579: I tensorflow/core/platform/profile_utils/cpu_utils.cc:112] CPU Frequency: 2200000000 Hz\n"
          ]
        }
      ],
      "source": [
        "y_test = np.concatenate([y for x, y in test_dataset], axis=0)"
      ]
    },
    {
      "cell_type": "code",
      "execution_count": null,
      "id": "35f8d922",
      "metadata": {
        "ExecuteTime": {
          "end_time": "2022-03-31T00:23:52.863257Z",
          "start_time": "2022-03-31T00:23:52.854837Z"
        },
        "execution": {
          "iopub.execute_input": "2022-03-31T11:22:52.262355Z",
          "iopub.status.busy": "2022-03-31T11:22:52.261309Z",
          "iopub.status.idle": "2022-03-31T11:22:52.268337Z",
          "shell.execute_reply": "2022-03-31T11:22:52.266247Z"
        },
        "papermill": {
          "duration": 0.053257,
          "end_time": "2022-03-31T11:22:52.269083",
          "exception": false,
          "start_time": "2022-03-31T11:22:52.215826",
          "status": "completed"
        },
        "tags": [],
        "id": "35f8d922"
      },
      "outputs": [],
      "source": [
        "def plot_confusion_matrix(cm, class_names):\n",
        "    \"\"\"\n",
        "    Returns a matplotlib figure containing the plotted confusion matrix.\n",
        "\n",
        "    Args:\n",
        "      cm (array, shape = [n, n]): a confusion matrix of integer classes\n",
        "      class_names (array, shape = [n]): String names of the integer classes\n",
        "    \"\"\"\n",
        "    figure = plt.figure(figsize=(8, 8))\n",
        "    plt.imshow(cm, interpolation='nearest', cmap=plt.cm.Blues)\n",
        "    plt.title(\"Confusion matrix\")\n",
        "    plt.colorbar()\n",
        "    tick_marks = np.arange(len(class_names))\n",
        "    plt.xticks(tick_marks, class_names, rotation=90)\n",
        "    plt.yticks(tick_marks, class_names)\n",
        "\n",
        "    # Compute the labels from the normalized confusion matrix.\n",
        "    labels = np.around(cm, decimals=2)\n",
        "\n",
        "    # Use white text if squares are dark; otherwise black.\n",
        "    threshold = cm.max() / 2.\n",
        "    for i, j in itertools.product(range(cm.shape[0]), range(cm.shape[1])):\n",
        "        color = \"white\" if cm[i, j] > threshold else \"black\"\n",
        "        plt.text(j, i, labels[i, j], horizontalalignment=\"center\", color=color)\n",
        "\n",
        "    plt.tight_layout()\n",
        "    plt.ylabel('True label')\n",
        "    plt.xlabel('Predicted label')\n",
        "    return figure\n",
        "\n",
        "\n",
        "def plot_to_image(figure):\n",
        "    \"\"\"Converts the matplotlib plot specified by 'figure' to a PNG image and\n",
        "    returns it. The supplied figure is closed and inaccessible after this call.\"\"\"\n",
        "    # Save the plot to a PNG in memory.\n",
        "    buf = io.BytesIO()\n",
        "    plt.savefig(buf, format='png')\n",
        "    # Closing the figure prevents it from being displayed directly inside\n",
        "    # the notebook.\n",
        "    plt.close(figure)\n",
        "    buf.seek(0)\n",
        "    # Convert PNG buffer to TF image\n",
        "    image = tf.image.decode_png(buf.getvalue(), channels=4)\n",
        "    # Add the batch dimension\n",
        "    image = tf.expand_dims(image, 0)\n",
        "    return image\n"
      ]
    },
    {
      "cell_type": "code",
      "execution_count": null,
      "id": "886dce52",
      "metadata": {
        "ExecuteTime": {
          "end_time": "2022-03-31T00:43:58.637164Z",
          "start_time": "2022-03-31T00:23:52.865271Z"
        },
        "execution": {
          "iopub.execute_input": "2022-03-31T11:22:52.493356Z",
          "iopub.status.busy": "2022-03-31T11:22:52.476848Z",
          "iopub.status.idle": "2022-03-31T18:12:03.815701Z",
          "shell.execute_reply": "2022-03-31T18:12:03.816802Z"
        },
        "papermill": {
          "duration": 24551.456912,
          "end_time": "2022-03-31T18:12:03.817140",
          "exception": false,
          "start_time": "2022-03-31T11:22:52.360228",
          "status": "completed"
        },
        "scrolled": true,
        "tags": [],
        "id": "886dce52"
      },
      "outputs": [],
      "source": [
        "run_dir = logs_dir\n",
        "\n",
        "file_writer_cm = tf.summary.create_file_writer(run_dir + '/cm')\n",
        "\n",
        "\n",
        "def log_confusion_matrix(epoch, logs):\n",
        "    # Use the model to predict the values from the validation dataset.\n",
        "    test_pred_raw = model.predict(test_dataset)\n",
        "    test_pred = np.argmax(test_pred_raw, axis=1)\n",
        "\n",
        "    # Calculate the confusion matrix.\n",
        "    cm = sklearn.metrics.confusion_matrix(\n",
        "        y_test, test_pred, normalize='true')\n",
        "    # Log the confusion matrix as an image summary.\n",
        "    figure = plot_confusion_matrix(cm, class_names=class_names)\n",
        "    cm_image = plot_to_image(figure)\n",
        "\n",
        "    # Log the confusion matrix as an image summary.\n",
        "    with file_writer_cm.as_default():\n",
        "        tf.summary.image(\"Confusion Matrix\", cm_image, step=epoch)\n",
        "\n",
        "\n",
        "# Define the per-epoch callback.\n",
        "cm_callback = keras.callbacks.LambdaCallback(\n",
        "    on_epoch_end=log_confusion_matrix)\n",
        "with strategy.scope():\n",
        "    # loss\n",
        "    loss = tf.keras.losses.SparseCategoricalCrossentropy(from_logits=True)\n",
        "    # métricas\n",
        "    metrics = [tf.keras.metrics.SparseCategoricalAccuracy(name='accuracy')]\n",
        "    data_augmentation = tf.keras.Sequential(\n",
        "        [tf.keras.layers.experimental.preprocessing.RandomFlip('horizontal_and_vertical')])\n",
        "    # Keras sequential model with Hyperparameters passed from the argument\n",
        "    cnn = ResNet101(weights='imagenet', include_top=False,\n",
        "                    input_shape=input_shape)\n",
        "    # Para o primeiro treinamento as camadas convolucionais não serão treinadas\n",
        "    cnn.trainable = False\n",
        "    inputs = keras.Input(shape=input_shape)\n",
        "    x = data_augmentation(inputs)\n",
        "    x = preprocess_input(x)\n",
        "    # Camadas de Batch Normalization em inference mode\n",
        "    x = cnn(x, training=False)\n",
        "    x = GlobalAveragePooling2D()(x)\n",
        "    x = keras.layers.Dropout(0.2)(x)\n",
        "    predictions = Dense(num_classes)(x)\n",
        "    model = Model(inputs, predictions)\n",
        "    model.compile(optimizer=keras.optimizers.SGD(\n",
        "        learning_rate=1e-4, momentum=0.9), loss=loss, metrics=metrics)\n",
        "\n",
        "\n",
        "def scheduler_denso(epoch, lr):\n",
        "    lr_0 = 1e-4\n",
        "    epoch_ini_lr = 20\n",
        "    if epoch < epoch_ini_lr:\n",
        "        learning_rate = lr\n",
        "        with tf.summary.create_file_writer(run_dir + '/metric').as_default():\n",
        "            tf.summary.scalar(\n",
        "                'learning rate', data=learning_rate, step=epoch)\n",
        "        return learning_rate\n",
        "    else:\n",
        "        learning_rate = lr_0 * \\\n",
        "            tf.math.exp(-0.005*(epoch-epoch_ini_lr)).numpy()\n",
        "        with tf.summary.create_file_writer(run_dir + '/metric').as_default():\n",
        "            tf.summary.scalar(\n",
        "                'learning rate', data=learning_rate, step=epoch)\n",
        "        return learning_rate\n",
        "\n",
        "\n",
        "callbacks_dense = [tf.keras.callbacks.TensorBoard(run_dir, profile_batch=0, write_graph=False),\n",
        "                   tf.keras.callbacks.LearningRateScheduler(\n",
        "    scheduler_denso, verbose=0),\n",
        "    cm_callback,\n",
        "    EarlyStopping(patience=10)]\n",
        "# Training the network\n",
        "history_dense = model.fit(train_dataset, epochs=n_epochs_ini, verbose=0,\n",
        "                          validation_data=test_dataset, callbacks=callbacks_dense)\n",
        "\n",
        "treinamento_denso = len(history_dense.history['loss'])"
      ]
    },
    {
      "cell_type": "code",
      "execution_count": null,
      "id": "3678a5bf",
      "metadata": {
        "ExecuteTime": {
          "end_time": "2022-03-31T00:52:38.678950Z",
          "start_time": "2022-03-31T00:43:58.644139Z"
        },
        "execution": {
          "iopub.execute_input": "2022-03-31T18:13:17.173891Z",
          "iopub.status.busy": "2022-03-31T18:13:17.173307Z",
          "iopub.status.idle": "2022-04-02T02:14:40.753594Z",
          "shell.execute_reply": "2022-04-02T02:14:40.754100Z"
        },
        "papermill": {
          "duration": 115316.846921,
          "end_time": "2022-04-02T02:14:40.754292",
          "exception": false,
          "start_time": "2022-03-31T18:12:43.907371",
          "status": "completed"
        },
        "tags": [],
        "id": "3678a5bf"
      },
      "outputs": [],
      "source": [
        "with strategy.scope():\n",
        "    cnn.trainable = True\n",
        "    # loss\n",
        "    loss = tf.keras.losses.SparseCategoricalCrossentropy(from_logits=True)\n",
        "    # métricas\n",
        "    metrics = [tf.keras.metrics.SparseCategoricalAccuracy(name='accuracy')]\n",
        "    model.compile(\n",
        "        optimizer=keras.optimizers.SGD(\n",
        "            learning_rate=1e-5, momentum=0.9),\n",
        "        loss=loss,\n",
        "        metrics=metrics\n",
        "    )\n",
        "\n",
        "\n",
        "def scheduler_cnn(epoch, lr):\n",
        "    lr_0 = 1e-5\n",
        "    learning_rate = lr_0 * \\\n",
        "        tf.math.exp(-0.02*(epoch-treinamento_denso)).numpy()\n",
        "    with tf.summary.create_file_writer(run_dir + '/metric').as_default():\n",
        "        tf.summary.scalar(\n",
        "            'learning rate', data=learning_rate, step=epoch)\n",
        "    return learning_rate\n",
        "\n",
        "\n",
        "nome_save_model = nome_modelo\n",
        "\n",
        "model_dir = os.path.join('./model/', nome_save_model)\n",
        "\n",
        "callbacks_cnn = [tf.keras.callbacks.TensorBoard(run_dir, profile_batch=0, write_graph=False),\n",
        "                 tf.keras.callbacks.LearningRateScheduler(\n",
        "                 scheduler_cnn, verbose=0),\n",
        "                 cm_callback,\n",
        "                 EarlyStopping(patience=20),\n",
        "                 ModelCheckpoint(filepath=model_dir, monitor=\"val_loss\", save_best_only=True)]\n",
        "\n",
        "history_cnn = model.fit(train_dataset, epochs=n_epochs, initial_epoch=treinamento_denso, verbose=0,\n",
        "                        validation_data=test_dataset, callbacks=callbacks_cnn)\n",
        "\n",
        "treinamento_cnn = len(history_cnn.history['loss'])"
      ]
    },
    {
      "cell_type": "code",
      "execution_count": null,
      "id": "8ddd615c",
      "metadata": {
        "ExecuteTime": {
          "end_time": "2022-03-31T00:52:38.682895Z",
          "start_time": "2022-03-31T00:52:38.682855Z"
        },
        "execution": {
          "iopub.execute_input": "2022-04-02T02:17:34.239264Z",
          "iopub.status.busy": "2022-04-02T02:17:34.238368Z",
          "iopub.status.idle": "2022-04-02T02:17:34.241169Z",
          "shell.execute_reply": "2022-04-02T02:17:34.241771Z"
        },
        "papermill": {
          "duration": 85.398213,
          "end_time": "2022-04-02T02:17:34.241995",
          "exception": false,
          "start_time": "2022-04-02T02:16:08.843782",
          "status": "completed"
        },
        "tags": [],
        "id": "8ddd615c",
        "outputId": "7d1f56b7-bc46-4c4d-9db3-630f4e510a39"
      },
      "outputs": [
        {
          "name": "stdout",
          "output_type": "stream",
          "text": [
            "43\n",
            "59\n"
          ]
        }
      ],
      "source": [
        "print(treinamento_denso)\n",
        "print(treinamento_cnn)"
      ]
    }
  ],
  "metadata": {
    "hide_input": false,
    "kernelspec": {
      "display_name": "Python 3 (ipykernel)",
      "language": "python",
      "name": "python3"
    },
    "language_info": {
      "codemirror_mode": {
        "name": "ipython",
        "version": 3
      },
      "file_extension": ".py",
      "mimetype": "text/x-python",
      "name": "python",
      "nbconvert_exporter": "python",
      "pygments_lexer": "ipython3",
      "version": "3.8.8"
    },
    "papermill": {
      "default_parameters": {},
      "duration": 140182.663274,
      "end_time": "2022-04-02T02:19:04.364516",
      "environment_variables": {},
      "exception": null,
      "input_path": "5_ResNet101_plc_full.ipynb",
      "output_path": "5_ResNet101_plc_full_output.ipynb",
      "parameters": {},
      "start_time": "2022-03-31T11:22:41.701242",
      "version": "2.3.3"
    },
    "toc": {
      "base_numbering": 1,
      "nav_menu": {},
      "number_sections": true,
      "sideBar": true,
      "skip_h1_title": false,
      "title_cell": "Table of Contents",
      "title_sidebar": "Contents",
      "toc_cell": false,
      "toc_position": {},
      "toc_section_display": true,
      "toc_window_display": false
    },
    "varInspector": {
      "cols": {
        "lenName": 16,
        "lenType": 16,
        "lenVar": 40
      },
      "kernels_config": {
        "python": {
          "delete_cmd_postfix": "",
          "delete_cmd_prefix": "del ",
          "library": "var_list.py",
          "varRefreshCmd": "print(var_dic_list())"
        },
        "r": {
          "delete_cmd_postfix": ") ",
          "delete_cmd_prefix": "rm(",
          "library": "var_list.r",
          "varRefreshCmd": "cat(var_dic_list()) "
        }
      },
      "types_to_exclude": [
        "module",
        "function",
        "builtin_function_or_method",
        "instance",
        "_Feature"
      ],
      "window_display": false
    },
    "colab": {
      "provenance": []
    }
  },
  "nbformat": 4,
  "nbformat_minor": 5
}