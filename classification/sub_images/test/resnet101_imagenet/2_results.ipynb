{
 "cells": [
  {
   "cell_type": "code",
   "execution_count": 1,
   "id": "f67559e1",
   "metadata": {
    "ExecuteTime": {
     "end_time": "2022-05-31T22:28:02.893562Z",
     "start_time": "2022-05-31T22:27:59.963045Z"
    }
   },
   "outputs": [
    {
     "name": "stderr",
     "output_type": "stream",
     "text": [
      "2022-05-31 19:28:00.321156: I tensorflow/stream_executor/platform/default/dso_loader.cc:49] Successfully opened dynamic library libcudart.so.10.1\n"
     ]
    }
   ],
   "source": [
    "import numpy as np\n",
    "import tensorflow as tf\n",
    "import tensorflow.keras as keras\n",
    "from tensorflow.keras.preprocessing import image_dataset_from_directory\n",
    "from sklearn.metrics import accuracy_score\n",
    "from sklearn.metrics import confusion_matrix\n",
    "from sklearn.metrics import classification_report\n",
    "from sklearn.utils import shuffle\n",
    "from matplotlib import pyplot as plt\n",
    "import itertools\n",
    "from pathlib import Path\n",
    "import os"
   ]
  },
  {
   "cell_type": "code",
   "execution_count": 2,
   "id": "d2e7dd09",
   "metadata": {
    "ExecuteTime": {
     "end_time": "2022-05-31T22:28:02.900812Z",
     "start_time": "2022-05-31T22:28:02.896129Z"
    }
   },
   "outputs": [],
   "source": [
    "# Tamanho imagem\n",
    "img_rows, img_cols = 224, 224\n",
    "\n",
    "input_shape = (img_rows, img_cols, 3)\n",
    "\n",
    "# Batch size\n",
    "\n",
    "batch_size = 32\n",
    "\n",
    "# seed\n",
    "seed = 42\n",
    "\n",
    "path_dataset = Path('/scratch/dpfurtado/backup_home/corais/5_subimage_224_224/dataset/1_train_50/')\n",
    "path_test = path_dataset/'test_1_2'\n",
    "\n",
    "path_modelo = './model/resnet101_imagenet/'"
   ]
  },
  {
   "cell_type": "code",
   "execution_count": 3,
   "id": "93721a5b",
   "metadata": {
    "ExecuteTime": {
     "end_time": "2022-05-31T22:28:05.126951Z",
     "start_time": "2022-05-31T22:28:02.902503Z"
    }
   },
   "outputs": [
    {
     "name": "stdout",
     "output_type": "stream",
     "text": [
      "Found 247 files belonging to 8 classes.\n"
     ]
    },
    {
     "name": "stderr",
     "output_type": "stream",
     "text": [
      "2022-05-31 19:28:03.073825: I tensorflow/compiler/jit/xla_cpu_device.cc:41] Not creating XLA devices, tf_xla_enable_xla_devices not set\n",
      "2022-05-31 19:28:03.076021: I tensorflow/stream_executor/platform/default/dso_loader.cc:49] Successfully opened dynamic library libcuda.so.1\n",
      "2022-05-31 19:28:03.969131: I tensorflow/core/common_runtime/gpu/gpu_device.cc:1720] Found device 0 with properties: \n",
      "pciBusID: 0000:3b:00.0 name: NVIDIA GeForce GTX TITAN Black computeCapability: 3.5\n",
      "coreClock: 0.98GHz coreCount: 15 deviceMemorySize: 5.94GiB deviceMemoryBandwidth: 312.92GiB/s\n",
      "2022-05-31 19:28:03.969817: I tensorflow/core/common_runtime/gpu/gpu_device.cc:1720] Found device 1 with properties: \n",
      "pciBusID: 0000:af:00.0 name: NVIDIA GeForce GTX TITAN Black computeCapability: 3.5\n",
      "coreClock: 0.98GHz coreCount: 15 deviceMemorySize: 5.94GiB deviceMemoryBandwidth: 312.92GiB/s\n",
      "2022-05-31 19:28:03.969890: I tensorflow/stream_executor/platform/default/dso_loader.cc:49] Successfully opened dynamic library libcudart.so.10.1\n",
      "2022-05-31 19:28:03.974577: I tensorflow/stream_executor/platform/default/dso_loader.cc:49] Successfully opened dynamic library libcublas.so.10\n",
      "2022-05-31 19:28:03.974756: I tensorflow/stream_executor/platform/default/dso_loader.cc:49] Successfully opened dynamic library libcublasLt.so.10\n",
      "2022-05-31 19:28:03.978105: I tensorflow/stream_executor/platform/default/dso_loader.cc:49] Successfully opened dynamic library libcufft.so.10\n",
      "2022-05-31 19:28:03.978672: I tensorflow/stream_executor/platform/default/dso_loader.cc:49] Successfully opened dynamic library libcurand.so.10\n",
      "2022-05-31 19:28:03.982286: I tensorflow/stream_executor/platform/default/dso_loader.cc:49] Successfully opened dynamic library libcusolver.so.10\n",
      "2022-05-31 19:28:03.983986: I tensorflow/stream_executor/platform/default/dso_loader.cc:49] Successfully opened dynamic library libcusparse.so.10\n",
      "2022-05-31 19:28:03.991556: I tensorflow/stream_executor/platform/default/dso_loader.cc:49] Successfully opened dynamic library libcudnn.so.7\n",
      "2022-05-31 19:28:03.993768: I tensorflow/core/common_runtime/gpu/gpu_device.cc:1862] Adding visible gpu devices: 0, 1\n",
      "2022-05-31 19:28:03.996108: I tensorflow/core/platform/cpu_feature_guard.cc:142] This TensorFlow binary is optimized with oneAPI Deep Neural Network Library (oneDNN) to use the following CPU instructions in performance-critical operations:  SSE4.1 SSE4.2 AVX AVX2 AVX512F FMA\n",
      "To enable them in other operations, rebuild TensorFlow with the appropriate compiler flags.\n",
      "2022-05-31 19:28:04.091859: I tensorflow/core/common_runtime/gpu/gpu_device.cc:1720] Found device 0 with properties: \n",
      "pciBusID: 0000:3b:00.0 name: NVIDIA GeForce GTX TITAN Black computeCapability: 3.5\n",
      "coreClock: 0.98GHz coreCount: 15 deviceMemorySize: 5.94GiB deviceMemoryBandwidth: 312.92GiB/s\n",
      "2022-05-31 19:28:04.092490: I tensorflow/core/common_runtime/gpu/gpu_device.cc:1720] Found device 1 with properties: \n",
      "pciBusID: 0000:af:00.0 name: NVIDIA GeForce GTX TITAN Black computeCapability: 3.5\n",
      "coreClock: 0.98GHz coreCount: 15 deviceMemorySize: 5.94GiB deviceMemoryBandwidth: 312.92GiB/s\n",
      "2022-05-31 19:28:04.092611: I tensorflow/stream_executor/platform/default/dso_loader.cc:49] Successfully opened dynamic library libcudart.so.10.1\n",
      "2022-05-31 19:28:04.092670: I tensorflow/stream_executor/platform/default/dso_loader.cc:49] Successfully opened dynamic library libcublas.so.10\n",
      "2022-05-31 19:28:04.092689: I tensorflow/stream_executor/platform/default/dso_loader.cc:49] Successfully opened dynamic library libcublasLt.so.10\n",
      "2022-05-31 19:28:04.092705: I tensorflow/stream_executor/platform/default/dso_loader.cc:49] Successfully opened dynamic library libcufft.so.10\n",
      "2022-05-31 19:28:04.092725: I tensorflow/stream_executor/platform/default/dso_loader.cc:49] Successfully opened dynamic library libcurand.so.10\n",
      "2022-05-31 19:28:04.092741: I tensorflow/stream_executor/platform/default/dso_loader.cc:49] Successfully opened dynamic library libcusolver.so.10\n",
      "2022-05-31 19:28:04.092756: I tensorflow/stream_executor/platform/default/dso_loader.cc:49] Successfully opened dynamic library libcusparse.so.10\n",
      "2022-05-31 19:28:04.092776: I tensorflow/stream_executor/platform/default/dso_loader.cc:49] Successfully opened dynamic library libcudnn.so.7\n",
      "2022-05-31 19:28:04.094339: I tensorflow/core/common_runtime/gpu/gpu_device.cc:1862] Adding visible gpu devices: 0, 1\n",
      "2022-05-31 19:28:04.094410: I tensorflow/stream_executor/platform/default/dso_loader.cc:49] Successfully opened dynamic library libcudart.so.10.1\n",
      "2022-05-31 19:28:05.062843: I tensorflow/core/common_runtime/gpu/gpu_device.cc:1261] Device interconnect StreamExecutor with strength 1 edge matrix:\n",
      "2022-05-31 19:28:05.063009: I tensorflow/core/common_runtime/gpu/gpu_device.cc:1267]      0 1 \n",
      "2022-05-31 19:28:05.063031: I tensorflow/core/common_runtime/gpu/gpu_device.cc:1280] 0:   N Y \n",
      "2022-05-31 19:28:05.063036: I tensorflow/core/common_runtime/gpu/gpu_device.cc:1280] 1:   Y N \n",
      "2022-05-31 19:28:05.066291: I tensorflow/core/common_runtime/gpu/gpu_device.cc:1406] Created TensorFlow device (/job:localhost/replica:0/task:0/device:GPU:0 with 5581 MB memory) -> physical GPU (device: 0, name: NVIDIA GeForce GTX TITAN Black, pci bus id: 0000:3b:00.0, compute capability: 3.5)\n",
      "2022-05-31 19:28:05.068438: I tensorflow/core/common_runtime/gpu/gpu_device.cc:1406] Created TensorFlow device (/job:localhost/replica:0/task:0/device:GPU:1 with 5581 MB memory) -> physical GPU (device: 1, name: NVIDIA GeForce GTX TITAN Black, pci bus id: 0000:af:00.0, compute capability: 3.5)\n",
      "2022-05-31 19:28:05.068825: I tensorflow/compiler/jit/xla_gpu_device.cc:99] Not creating XLA devices, tf_xla_enable_xla_devices not set\n"
     ]
    }
   ],
   "source": [
    "test_dataset = image_dataset_from_directory(\n",
    "        path_test,\n",
    "        image_size=(img_rows, img_cols),\n",
    "        color_mode=\"rgb\",\n",
    "        batch_size=batch_size,\n",
    "        shuffle=False)"
   ]
  },
  {
   "cell_type": "code",
   "execution_count": 4,
   "id": "83ea1fe3",
   "metadata": {
    "ExecuteTime": {
     "end_time": "2022-05-31T22:28:05.136393Z",
     "start_time": "2022-05-31T22:28:05.130945Z"
    }
   },
   "outputs": [],
   "source": [
    "AUTOTUNE = tf.data.AUTOTUNE\n",
    "#Otimização\n",
    "test_dataset = test_dataset.prefetch(buffer_size=AUTOTUNE)"
   ]
  },
  {
   "cell_type": "code",
   "execution_count": 5,
   "id": "15163ca3",
   "metadata": {
    "ExecuteTime": {
     "end_time": "2022-05-31T22:28:32.999199Z",
     "start_time": "2022-05-31T22:28:05.138112Z"
    }
   },
   "outputs": [
    {
     "name": "stderr",
     "output_type": "stream",
     "text": [
      "2022-05-31 19:28:26.886711: I tensorflow/compiler/mlir/mlir_graph_optimization_pass.cc:116] None of the MLIR optimization passes are enabled (registered 2)\n",
      "2022-05-31 19:28:26.904743: I tensorflow/core/platform/profile_utils/cpu_utils.cc:112] CPU Frequency: 2200000000 Hz\n",
      "2022-05-31 19:28:28.931832: I tensorflow/stream_executor/platform/default/dso_loader.cc:49] Successfully opened dynamic library libcublas.so.10\n",
      "2022-05-31 19:28:29.109925: I tensorflow/stream_executor/platform/default/dso_loader.cc:49] Successfully opened dynamic library libcudnn.so.7\n"
     ]
    }
   ],
   "source": [
    "model = tf.keras.models.load_model(path_modelo)\n",
    "y_pred_proba = model.predict(test_dataset)\n",
    "y_pred = np.argmax(y_pred_proba, axis=1)"
   ]
  },
  {
   "cell_type": "code",
   "execution_count": 6,
   "id": "de83a3e9",
   "metadata": {
    "ExecuteTime": {
     "end_time": "2022-05-31T22:28:33.943047Z",
     "start_time": "2022-05-31T22:28:33.003338Z"
    }
   },
   "outputs": [],
   "source": [
    "y_test = np.concatenate([y for x, y in test_dataset], axis=0)"
   ]
  },
  {
   "cell_type": "code",
   "execution_count": 7,
   "id": "bfcb2f74",
   "metadata": {
    "ExecuteTime": {
     "end_time": "2022-05-31T22:28:33.962771Z",
     "start_time": "2022-05-31T22:28:33.946842Z"
    }
   },
   "outputs": [
    {
     "data": {
      "text/plain": [
       "0.8731501666229577"
      ]
     },
     "execution_count": 7,
     "metadata": {},
     "output_type": "execute_result"
    }
   ],
   "source": [
    "from sklearn.metrics import log_loss\n",
    "soft_preds=tf.nn.softmax(y_pred_proba).numpy()\n",
    "log_loss(y_test, soft_preds)"
   ]
  },
  {
   "cell_type": "code",
   "execution_count": 8,
   "id": "8981299d",
   "metadata": {
    "ExecuteTime": {
     "end_time": "2022-05-31T22:28:34.079516Z",
     "start_time": "2022-05-31T22:28:33.964481Z"
    }
   },
   "outputs": [],
   "source": [
    "np.save('./resultados/pred_proba_resnet101_imagenet.npy', soft_preds)"
   ]
  },
  {
   "cell_type": "code",
   "execution_count": 9,
   "id": "551c80ab",
   "metadata": {
    "ExecuteTime": {
     "end_time": "2022-05-31T22:28:34.169841Z",
     "start_time": "2022-05-31T22:28:34.080881Z"
    }
   },
   "outputs": [
    {
     "name": "stdout",
     "output_type": "stream",
     "text": [
      "Acurácia: 0.7085\n"
     ]
    }
   ],
   "source": [
    "acc = accuracy_score(y_test, y_pred)\n",
    "print(\"Acurácia: {:.4f}\".format(acc))"
   ]
  },
  {
   "cell_type": "code",
   "execution_count": 10,
   "id": "525e8bfa",
   "metadata": {
    "ExecuteTime": {
     "end_time": "2022-05-31T22:28:34.791447Z",
     "start_time": "2022-05-31T22:28:34.173700Z"
    }
   },
   "outputs": [
    {
     "data": {
      "image/png": "[encoded data removed]",
      "text/plain": [
       "<Figure size 576x576 with 2 Axes>"
      ]
     },
     "metadata": {
      "needs_background": "light"
     },
     "output_type": "display_data"
    }
   ],
   "source": [
    "def plot_confusion_matrix(cm, class_names):\n",
    "    \"\"\"\n",
    "    Returns a matplotlib figure containing the plotted confusion matrix.\n",
    "\n",
    "    Args:\n",
    "      cm (array, shape = [n, n]): a confusion matrix of integer classes\n",
    "      class_names (array, shape = [n]): String names of the integer classes\n",
    "    \"\"\"\n",
    "    figure = plt.figure(figsize=(8, 8))\n",
    "    plt.imshow(cm, interpolation='nearest', cmap=plt.cm.Blues)\n",
    "    plt.title(\"Confusion matrix\")\n",
    "    plt.colorbar()\n",
    "    tick_marks = np.arange(len(class_names))\n",
    "    plt.xticks(tick_marks, class_names, rotation=45)\n",
    "    plt.yticks(tick_marks, class_names)\n",
    "\n",
    "    # Compute the labels from the normalized confusion matrix.\n",
    "    labels = np.around(cm, decimals=2)\n",
    "\n",
    "    # Use white text if squares are dark; otherwise black.\n",
    "    threshold = cm.max() / 2.\n",
    "    for i, j in itertools.product(range(cm.shape[0]), range(cm.shape[1])):\n",
    "        color = \"white\" if cm[i, j] > threshold else \"black\"\n",
    "        plt.text(j, i, labels[i, j], horizontalalignment=\"center\", color=color)\n",
    "\n",
    "    plt.tight_layout()\n",
    "    plt.ylabel('True label')\n",
    "    plt.xlabel('Predicted label')\n",
    "    return figure\n",
    "\n",
    "class_names = ['Agaricia spp', 'Favia gravida', 'Millepora alcicornis', 'Montastraea cavernosa', 'Palythoa caribaeorum', 'Porites astreoides', 'Siderastrea stellata', 'Zoanthus sociatus']\n",
    "\n",
    "# Calculate the confusion matrix.\n",
    "cm = confusion_matrix(y_test, y_pred, normalize='true')\n",
    "# Log the confusion matrix as an image summary.\n",
    "figure = plot_confusion_matrix(cm,class_names)\n"
   ]
  },
  {
   "cell_type": "code",
   "execution_count": 11,
   "id": "1de14c25",
   "metadata": {
    "ExecuteTime": {
     "end_time": "2022-05-31T22:28:34.802196Z",
     "start_time": "2022-05-31T22:28:34.793222Z"
    }
   },
   "outputs": [
    {
     "name": "stdout",
     "output_type": "stream",
     "text": [
      "              precision    recall  f1-score   support\n",
      "\n",
      "           0       0.71      0.56      0.63         9\n",
      "           1       0.80      1.00      0.89         4\n",
      "           2       0.90      0.90      0.90        40\n",
      "           3       0.68      0.51      0.58        51\n",
      "           4       0.68      0.77      0.72        92\n",
      "           5       0.56      0.42      0.48        12\n",
      "           6       0.62      0.75      0.68        24\n",
      "           7       0.71      0.67      0.69        15\n",
      "\n",
      "    accuracy                           0.71       247\n",
      "   macro avg       0.71      0.70      0.70       247\n",
      "weighted avg       0.71      0.71      0.70       247\n",
      "\n"
     ]
    }
   ],
   "source": [
    "print(classification_report(y_test, y_pred))"
   ]
  },
  {
   "cell_type": "code",
   "execution_count": 12,
   "id": "2c65bd58",
   "metadata": {
    "ExecuteTime": {
     "end_time": "2022-05-31T22:28:34.886637Z",
     "start_time": "2022-05-31T22:28:34.804041Z"
    }
   },
   "outputs": [],
   "source": [
    "from sklearn.metrics import f1_score\n",
    "from sklearn.metrics import matthews_corrcoef"
   ]
  },
  {
   "cell_type": "code",
   "execution_count": 13,
   "id": "c9f70009",
   "metadata": {
    "ExecuteTime": {
     "end_time": "2022-05-31T22:28:34.998255Z",
     "start_time": "2022-05-31T22:28:34.887981Z"
    }
   },
   "outputs": [
    {
     "name": "stdout",
     "output_type": "stream",
     "text": [
      "0.6955077082718114\n",
      "0.6219029623964965\n"
     ]
    }
   ],
   "source": [
    "print(f1_score(y_test, y_pred, average='macro'))\n",
    "print(matthews_corrcoef(y_test, y_pred))"
   ]
  }
 ],
 "metadata": {
  "hide_input": false,
  "kernelspec": {
   "display_name": "Python 3 (ipykernel)",
   "language": "python",
   "name": "python3"
  },
  "language_info": {
   "codemirror_mode": {
    "name": "ipython",
    "version": 3
   },
   "file_extension": ".py",
   "mimetype": "text/x-python",
   "name": "python",
   "nbconvert_exporter": "python",
   "pygments_lexer": "ipython3",
   "version": "3.8.8"
  },
  "toc": {
   "base_numbering": 1,
   "nav_menu": {},
   "number_sections": true,
   "sideBar": true,
   "skip_h1_title": false,
   "title_cell": "Table of Contents",
   "title_sidebar": "Contents",
   "toc_cell": false,
   "toc_position": {},
   "toc_section_display": true,
   "toc_window_display": false
  },
  "varInspector": {
   "cols": {
    "lenName": 16,
    "lenType": 16,
    "lenVar": 40
   },
   "kernels_config": {
    "python": {
     "delete_cmd_postfix": "",
     "delete_cmd_prefix": "del ",
     "library": "var_list.py",
     "varRefreshCmd": "print(var_dic_list())"
    },
    "r": {
     "delete_cmd_postfix": ") ",
     "delete_cmd_prefix": "rm(",
     "library": "var_list.r",
     "varRefreshCmd": "cat(var_dic_list()) "
    }
   },
   "types_to_exclude": [
    "module",
    "function",
    "builtin_function_or_method",
    "instance",
    "_Feature"
   ],
   "window_display": false
  }
 },
 "nbformat": 4,
 "nbformat_minor": 5
}
