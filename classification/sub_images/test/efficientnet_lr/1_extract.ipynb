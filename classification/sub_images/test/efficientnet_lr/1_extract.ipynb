{
 "cells": [
  {
   "cell_type": "code",
   "execution_count": 1,
   "id": "7a3d57e4",
   "metadata": {
    "ExecuteTime": {
     "end_time": "2022-05-31T22:24:19.593007Z",
     "start_time": "2022-05-31T22:24:19.586873Z"
    }
   },
   "outputs": [],
   "source": [
    "import os"
   ]
  },
  {
   "cell_type": "markdown",
   "id": "e88c9d32",
   "metadata": {},
   "source": [
    "# Pacotes"
   ]
  },
  {
   "cell_type": "code",
   "execution_count": 2,
   "id": "7f7e42a6",
   "metadata": {
    "ExecuteTime": {
     "end_time": "2022-05-31T22:24:21.684423Z",
     "start_time": "2022-05-31T22:24:19.594420Z"
    }
   },
   "outputs": [
    {
     "name": "stderr",
     "output_type": "stream",
     "text": [
      "2022-05-31 19:24:20.066354: I tensorflow/stream_executor/platform/default/dso_loader.cc:49] Successfully opened dynamic library libcudart.so.10.1\n"
     ]
    }
   ],
   "source": [
    "import numpy as np\n",
    "import tensorflow as tf\n",
    "import tensorflow.keras as keras\n",
    "from tensorflow.keras.layers import GlobalAveragePooling2D\n",
    "from tensorflow.keras.models import Model\n",
    "from tensorflow.keras.preprocessing import image_dataset_from_directory\n",
    "from tensorflow.keras.applications import EfficientNetB0\n",
    "from tensorflow.keras.applications.efficientnet import preprocess_input\n",
    "from pathlib import Path"
   ]
  },
  {
   "cell_type": "code",
   "execution_count": 3,
   "id": "bd051440",
   "metadata": {
    "ExecuteTime": {
     "end_time": "2022-05-31T22:24:21.690262Z",
     "start_time": "2022-05-31T22:24:21.686159Z"
    }
   },
   "outputs": [],
   "source": [
    "# Tamanho imagem\n",
    "img_rows, img_cols = 224, 224\n",
    "\n",
    "input_shape = (img_rows, img_cols, 3)\n",
    "\n",
    "# Batch size\n",
    "\n",
    "batch_size = 32\n",
    "\n",
    "# seed\n",
    "seed = 42\n",
    "\n",
    "path_dataset = Path('/scratch/dpfurtado/backup_home/corais/5_subimage_224_224/dataset/1_train_50/')\n",
    "path_train = path_dataset/'train'\n",
    "path_train_dev = path_dataset/'train-dev'\n",
    "path_test = path_dataset/'test_1_2'\n",
    "\n",
    "#Arquivos npy\n",
    "path_dir_dataset = './dataset'\n",
    "npz = path_dir_dataset + '/extracao_efficientnetb0' "
   ]
  },
  {
   "cell_type": "code",
   "execution_count": 4,
   "id": "09cc7843",
   "metadata": {
    "ExecuteTime": {
     "end_time": "2022-05-31T22:24:24.113657Z",
     "start_time": "2022-05-31T22:24:21.692292Z"
    },
    "scrolled": true
   },
   "outputs": [
    {
     "name": "stdout",
     "output_type": "stream",
     "text": [
      "Found 1394 files belonging to 8 classes.\n",
      "Found 143 files belonging to 8 classes.\n",
      "Found 247 files belonging to 8 classes.\n"
     ]
    },
    {
     "name": "stderr",
     "output_type": "stream",
     "text": [
      "2022-05-31 19:24:21.912405: I tensorflow/compiler/jit/xla_cpu_device.cc:41] Not creating XLA devices, tf_xla_enable_xla_devices not set\n",
      "2022-05-31 19:24:21.914379: I tensorflow/stream_executor/platform/default/dso_loader.cc:49] Successfully opened dynamic library libcuda.so.1\n",
      "2022-05-31 19:24:22.798421: I tensorflow/core/common_runtime/gpu/gpu_device.cc:1720] Found device 0 with properties: \n",
      "pciBusID: 0000:3b:00.0 name: NVIDIA GeForce GTX TITAN Black computeCapability: 3.5\n",
      "coreClock: 0.98GHz coreCount: 15 deviceMemorySize: 5.94GiB deviceMemoryBandwidth: 312.92GiB/s\n",
      "2022-05-31 19:24:22.798979: I tensorflow/core/common_runtime/gpu/gpu_device.cc:1720] Found device 1 with properties: \n",
      "pciBusID: 0000:af:00.0 name: NVIDIA GeForce GTX TITAN Black computeCapability: 3.5\n",
      "coreClock: 0.98GHz coreCount: 15 deviceMemorySize: 5.94GiB deviceMemoryBandwidth: 312.92GiB/s\n",
      "2022-05-31 19:24:22.799007: I tensorflow/stream_executor/platform/default/dso_loader.cc:49] Successfully opened dynamic library libcudart.so.10.1\n",
      "2022-05-31 19:24:22.803121: I tensorflow/stream_executor/platform/default/dso_loader.cc:49] Successfully opened dynamic library libcublas.so.10\n",
      "2022-05-31 19:24:22.803231: I tensorflow/stream_executor/platform/default/dso_loader.cc:49] Successfully opened dynamic library libcublasLt.so.10\n",
      "2022-05-31 19:24:22.806664: I tensorflow/stream_executor/platform/default/dso_loader.cc:49] Successfully opened dynamic library libcufft.so.10\n",
      "2022-05-31 19:24:22.807172: I tensorflow/stream_executor/platform/default/dso_loader.cc:49] Successfully opened dynamic library libcurand.so.10\n",
      "2022-05-31 19:24:22.811016: I tensorflow/stream_executor/platform/default/dso_loader.cc:49] Successfully opened dynamic library libcusolver.so.10\n",
      "2022-05-31 19:24:22.812727: I tensorflow/stream_executor/platform/default/dso_loader.cc:49] Successfully opened dynamic library libcusparse.so.10\n",
      "2022-05-31 19:24:22.820546: I tensorflow/stream_executor/platform/default/dso_loader.cc:49] Successfully opened dynamic library libcudnn.so.7\n",
      "2022-05-31 19:24:22.822620: I tensorflow/core/common_runtime/gpu/gpu_device.cc:1862] Adding visible gpu devices: 0, 1\n",
      "2022-05-31 19:24:22.825298: I tensorflow/core/platform/cpu_feature_guard.cc:142] This TensorFlow binary is optimized with oneAPI Deep Neural Network Library (oneDNN) to use the following CPU instructions in performance-critical operations:  SSE4.1 SSE4.2 AVX AVX2 AVX512F FMA\n",
      "To enable them in other operations, rebuild TensorFlow with the appropriate compiler flags.\n",
      "2022-05-31 19:24:22.923236: I tensorflow/core/common_runtime/gpu/gpu_device.cc:1720] Found device 0 with properties: \n",
      "pciBusID: 0000:3b:00.0 name: NVIDIA GeForce GTX TITAN Black computeCapability: 3.5\n",
      "coreClock: 0.98GHz coreCount: 15 deviceMemorySize: 5.94GiB deviceMemoryBandwidth: 312.92GiB/s\n",
      "2022-05-31 19:24:22.923844: I tensorflow/core/common_runtime/gpu/gpu_device.cc:1720] Found device 1 with properties: \n",
      "pciBusID: 0000:af:00.0 name: NVIDIA GeForce GTX TITAN Black computeCapability: 3.5\n",
      "coreClock: 0.98GHz coreCount: 15 deviceMemorySize: 5.94GiB deviceMemoryBandwidth: 312.92GiB/s\n",
      "2022-05-31 19:24:22.923940: I tensorflow/stream_executor/platform/default/dso_loader.cc:49] Successfully opened dynamic library libcudart.so.10.1\n",
      "2022-05-31 19:24:22.924003: I tensorflow/stream_executor/platform/default/dso_loader.cc:49] Successfully opened dynamic library libcublas.so.10\n",
      "2022-05-31 19:24:22.924021: I tensorflow/stream_executor/platform/default/dso_loader.cc:49] Successfully opened dynamic library libcublasLt.so.10\n",
      "2022-05-31 19:24:22.924039: I tensorflow/stream_executor/platform/default/dso_loader.cc:49] Successfully opened dynamic library libcufft.so.10\n",
      "2022-05-31 19:24:22.924054: I tensorflow/stream_executor/platform/default/dso_loader.cc:49] Successfully opened dynamic library libcurand.so.10\n",
      "2022-05-31 19:24:22.924107: I tensorflow/stream_executor/platform/default/dso_loader.cc:49] Successfully opened dynamic library libcusolver.so.10\n",
      "2022-05-31 19:24:22.924154: I tensorflow/stream_executor/platform/default/dso_loader.cc:49] Successfully opened dynamic library libcusparse.so.10\n",
      "2022-05-31 19:24:22.924196: I tensorflow/stream_executor/platform/default/dso_loader.cc:49] Successfully opened dynamic library libcudnn.so.7\n",
      "2022-05-31 19:24:22.925851: I tensorflow/core/common_runtime/gpu/gpu_device.cc:1862] Adding visible gpu devices: 0, 1\n",
      "2022-05-31 19:24:22.925932: I tensorflow/stream_executor/platform/default/dso_loader.cc:49] Successfully opened dynamic library libcudart.so.10.1\n",
      "2022-05-31 19:24:23.971704: I tensorflow/core/common_runtime/gpu/gpu_device.cc:1261] Device interconnect StreamExecutor with strength 1 edge matrix:\n",
      "2022-05-31 19:24:23.971838: I tensorflow/core/common_runtime/gpu/gpu_device.cc:1267]      0 1 \n",
      "2022-05-31 19:24:23.971860: I tensorflow/core/common_runtime/gpu/gpu_device.cc:1280] 0:   N Y \n",
      "2022-05-31 19:24:23.971865: I tensorflow/core/common_runtime/gpu/gpu_device.cc:1280] 1:   Y N \n",
      "2022-05-31 19:24:23.974824: I tensorflow/core/common_runtime/gpu/gpu_device.cc:1406] Created TensorFlow device (/job:localhost/replica:0/task:0/device:GPU:0 with 5581 MB memory) -> physical GPU (device: 0, name: NVIDIA GeForce GTX TITAN Black, pci bus id: 0000:3b:00.0, compute capability: 3.5)\n",
      "2022-05-31 19:24:23.977114: I tensorflow/core/common_runtime/gpu/gpu_device.cc:1406] Created TensorFlow device (/job:localhost/replica:0/task:0/device:GPU:1 with 5581 MB memory) -> physical GPU (device: 1, name: NVIDIA GeForce GTX TITAN Black, pci bus id: 0000:af:00.0, compute capability: 3.5)\n",
      "2022-05-31 19:24:23.977540: I tensorflow/compiler/jit/xla_gpu_device.cc:99] Not creating XLA devices, tf_xla_enable_xla_devices not set\n"
     ]
    }
   ],
   "source": [
    "train_dataset = image_dataset_from_directory(\n",
    "        path_train,\n",
    "        image_size=(img_rows, img_cols),\n",
    "        color_mode=\"rgb\",\n",
    "        batch_size=batch_size,\n",
    "        shuffle=False) # Manter Shuffle = False, pois não haverá treinamento\n",
    "train_dev_dataset_concat = image_dataset_from_directory(\n",
    "        path_train_dev,\n",
    "        image_size=(img_rows, img_cols),\n",
    "        color_mode=\"rgb\",\n",
    "        batch_size=batch_size,\n",
    "        shuffle=False)\n",
    "test_dataset = image_dataset_from_directory(\n",
    "        path_test,\n",
    "        image_size=(img_rows, img_cols),\n",
    "        color_mode=\"rgb\",\n",
    "        batch_size=batch_size,\n",
    "        shuffle=False)"
   ]
  },
  {
   "cell_type": "code",
   "execution_count": 5,
   "id": "0fd1cdbe",
   "metadata": {
    "ExecuteTime": {
     "end_time": "2022-05-31T22:24:24.120253Z",
     "start_time": "2022-05-31T22:24:24.115773Z"
    }
   },
   "outputs": [],
   "source": [
    "train_dataset = train_dataset.concatenate(train_dev_dataset_concat)"
   ]
  },
  {
   "cell_type": "code",
   "execution_count": 6,
   "id": "95442cdd",
   "metadata": {
    "ExecuteTime": {
     "end_time": "2022-05-31T22:24:24.222425Z",
     "start_time": "2022-05-31T22:24:24.121787Z"
    }
   },
   "outputs": [],
   "source": [
    "AUTOTUNE = tf.data.AUTOTUNE\n",
    "\n",
    "train_dataset = train_dataset.prefetch(buffer_size=AUTOTUNE) \n",
    "test_dataset = test_dataset.prefetch(buffer_size=AUTOTUNE)"
   ]
  },
  {
   "cell_type": "code",
   "execution_count": 7,
   "id": "911e437e",
   "metadata": {
    "ExecuteTime": {
     "end_time": "2022-05-31T22:24:26.694748Z",
     "start_time": "2022-05-31T22:24:24.223711Z"
    }
   },
   "outputs": [
    {
     "name": "stdout",
     "output_type": "stream",
     "text": [
      "Model: \"model\"\n",
      "_________________________________________________________________\n",
      "Layer (type)                 Output Shape              Param #   \n",
      "=================================================================\n",
      "input_2 (InputLayer)         [(None, 224, 224, 3)]     0         \n",
      "_________________________________________________________________\n",
      "efficientnetb0 (Functional)  (None, 7, 7, 1280)        4049571   \n",
      "_________________________________________________________________\n",
      "global_average_pooling2d (Gl (None, 1280)              0         \n",
      "=================================================================\n",
      "Total params: 4,049,571\n",
      "Trainable params: 4,007,548\n",
      "Non-trainable params: 42,023\n",
      "_________________________________________________________________\n"
     ]
    }
   ],
   "source": [
    "cnn = EfficientNetB0(weights='imagenet', include_top=False, input_shape=input_shape)\n",
    "inputs = keras.Input(shape=input_shape)\n",
    "x = preprocess_input(inputs)\n",
    "x = cnn(x)\n",
    "output = GlobalAveragePooling2D()(x)\n",
    "model = Model(inputs, output)\n",
    "model.summary()"
   ]
  },
  {
   "cell_type": "code",
   "execution_count": 8,
   "id": "134b7712",
   "metadata": {
    "ExecuteTime": {
     "end_time": "2022-05-31T22:24:55.756634Z",
     "start_time": "2022-05-31T22:24:26.697111Z"
    }
   },
   "outputs": [
    {
     "name": "stderr",
     "output_type": "stream",
     "text": [
      "2022-05-31 19:24:37.932695: W tensorflow/python/util/util.cc:348] Sets are not currently considered sequences, but this may change in the future, so consider avoiding using them.\n"
     ]
    },
    {
     "name": "stdout",
     "output_type": "stream",
     "text": [
      "INFO:tensorflow:Assets written to: ./model/extrator_cnn/assets\n"
     ]
    }
   ],
   "source": [
    "model.save('./model/extrator_cnn/')"
   ]
  },
  {
   "cell_type": "code",
   "execution_count": 9,
   "id": "d47f7a70",
   "metadata": {
    "ExecuteTime": {
     "end_time": "2022-05-31T22:25:29.687054Z",
     "start_time": "2022-05-31T22:24:55.856855Z"
    }
   },
   "outputs": [
    {
     "name": "stderr",
     "output_type": "stream",
     "text": [
      "2022-05-31 19:24:55.904525: I tensorflow/compiler/mlir/mlir_graph_optimization_pass.cc:116] None of the MLIR optimization passes are enabled (registered 2)\n",
      "2022-05-31 19:24:55.924773: I tensorflow/core/platform/profile_utils/cpu_utils.cc:112] CPU Frequency: 2200000000 Hz\n",
      "2022-05-31 19:24:59.549486: I tensorflow/stream_executor/platform/default/dso_loader.cc:49] Successfully opened dynamic library libcudnn.so.7\n",
      "2022-05-31 19:25:00.476253: I tensorflow/stream_executor/platform/default/dso_loader.cc:49] Successfully opened dynamic library libcublas.so.10\n"
     ]
    }
   ],
   "source": [
    "X_train = model.predict(train_dataset)\n",
    "X_test = model.predict(test_dataset)"
   ]
  },
  {
   "cell_type": "code",
   "execution_count": 10,
   "id": "d405b1b9",
   "metadata": {
    "ExecuteTime": {
     "end_time": "2022-05-31T22:25:29.699059Z",
     "start_time": "2022-05-31T22:25:29.692374Z"
    }
   },
   "outputs": [
    {
     "name": "stdout",
     "output_type": "stream",
     "text": [
      "(1537, 1280)\n",
      "(247, 1280)\n"
     ]
    }
   ],
   "source": [
    "print(X_train.shape)\n",
    "print(X_test.shape)"
   ]
  },
  {
   "cell_type": "code",
   "execution_count": 11,
   "id": "bc2807f3",
   "metadata": {
    "ExecuteTime": {
     "end_time": "2022-05-31T22:25:52.176863Z",
     "start_time": "2022-05-31T22:25:29.701261Z"
    }
   },
   "outputs": [],
   "source": [
    "y_train = np.concatenate([y for x, y in train_dataset], axis=0)\n",
    "y_test = np.concatenate([y for x, y in test_dataset], axis=0)"
   ]
  },
  {
   "cell_type": "code",
   "execution_count": 12,
   "id": "78b1b1e8",
   "metadata": {
    "ExecuteTime": {
     "end_time": "2022-05-31T22:25:52.188997Z",
     "start_time": "2022-05-31T22:25:52.182797Z"
    }
   },
   "outputs": [
    {
     "name": "stdout",
     "output_type": "stream",
     "text": [
      "(1537,)\n",
      "(247,)\n"
     ]
    }
   ],
   "source": [
    "print(y_train.shape)\n",
    "print(y_test.shape)"
   ]
  },
  {
   "cell_type": "code",
   "execution_count": 13,
   "id": "c7b850c9",
   "metadata": {
    "ExecuteTime": {
     "end_time": "2022-05-31T22:25:52.853738Z",
     "start_time": "2022-05-31T22:25:52.190815Z"
    }
   },
   "outputs": [],
   "source": [
    "np.savez_compressed(npz, X_train=X_train, y_train=y_train, X_test=X_test, y_test=y_test)"
   ]
  }
 ],
 "metadata": {
  "hide_input": false,
  "kernelspec": {
   "display_name": "Python 3 (ipykernel)",
   "language": "python",
   "name": "python3"
  },
  "language_info": {
   "codemirror_mode": {
    "name": "ipython",
    "version": 3
   },
   "file_extension": ".py",
   "mimetype": "text/x-python",
   "name": "python",
   "nbconvert_exporter": "python",
   "pygments_lexer": "ipython3",
   "version": "3.8.8"
  },
  "toc": {
   "base_numbering": 1,
   "nav_menu": {},
   "number_sections": true,
   "sideBar": true,
   "skip_h1_title": false,
   "title_cell": "Table of Contents",
   "title_sidebar": "Contents",
   "toc_cell": false,
   "toc_position": {},
   "toc_section_display": true,
   "toc_window_display": false
  },
  "varInspector": {
   "cols": {
    "lenName": 16,
    "lenType": 16,
    "lenVar": 40
   },
   "kernels_config": {
    "python": {
     "delete_cmd_postfix": "",
     "delete_cmd_prefix": "del ",
     "library": "var_list.py",
     "varRefreshCmd": "print(var_dic_list())"
    },
    "r": {
     "delete_cmd_postfix": ") ",
     "delete_cmd_prefix": "rm(",
     "library": "var_list.r",
     "varRefreshCmd": "cat(var_dic_list()) "
    }
   },
   "types_to_exclude": [
    "module",
    "function",
    "builtin_function_or_method",
    "instance",
    "_Feature"
   ],
   "window_display": false
  }
 },
 "nbformat": 4,
 "nbformat_minor": 5
}
