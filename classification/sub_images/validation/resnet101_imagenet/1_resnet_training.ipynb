{
 "cells": [
  {
   "cell_type": "code",
   "execution_count": 1,
   "id": "9aa8b5b2",
   "metadata": {
    "ExecuteTime": {
     "end_time": "2022-05-15T19:23:56.797179Z",
     "start_time": "2022-05-15T19:23:56.791320Z"
    },
    "execution": {
     "iopub.execute_input": "2022-05-15T19:31:35.446507Z",
     "iopub.status.busy": "2022-05-15T19:31:35.445956Z",
     "iopub.status.idle": "2022-05-15T19:31:35.448391Z",
     "shell.execute_reply": "2022-05-15T19:31:35.447834Z"
    },
    "papermill": {
     "duration": 0.025695,
     "end_time": "2022-05-15T19:31:35.448605",
     "exception": false,
     "start_time": "2022-05-15T19:31:35.422910",
     "status": "completed"
    },
    "tags": []
   },
   "outputs": [],
   "source": [
    "import os\n",
    "#os.environ[\"CUDA_VISIBLE_DEVICES\"] = \"0\""
   ]
  },
  {
   "cell_type": "markdown",
   "id": "50b3d870",
   "metadata": {
    "papermill": {
     "duration": 0.008382,
     "end_time": "2022-05-15T19:31:35.466764",
     "exception": false,
     "start_time": "2022-05-15T19:31:35.458382",
     "status": "completed"
    },
    "tags": []
   },
   "source": [
    "# Carregando Pacotes"
   ]
  },
  {
   "cell_type": "code",
   "execution_count": 2,
   "id": "86d6823f",
   "metadata": {
    "ExecuteTime": {
     "end_time": "2022-05-15T19:24:00.798909Z",
     "start_time": "2022-05-15T19:23:56.799100Z"
    },
    "execution": {
     "iopub.execute_input": "2022-05-15T19:31:35.490859Z",
     "iopub.status.busy": "2022-05-15T19:31:35.490364Z",
     "iopub.status.idle": "2022-05-15T19:31:38.473715Z",
     "shell.execute_reply": "2022-05-15T19:31:38.474188Z"
    },
    "papermill": {
     "duration": 2.999647,
     "end_time": "2022-05-15T19:31:38.474624",
     "exception": false,
     "start_time": "2022-05-15T19:31:35.474977",
     "status": "completed"
    },
    "tags": []
   },
   "outputs": [
    {
     "name": "stderr",
     "output_type": "stream",
     "text": [
      "2022-05-15 16:31:37.026873: I tensorflow/stream_executor/platform/default/dso_loader.cc:49] Successfully opened dynamic library libcudart.so.10.1\n"
     ]
    }
   ],
   "source": [
    "import numpy as np\n",
    "import pandas as pd\n",
    "from sklearn.metrics import confusion_matrix, accuracy_score, classification_report\n",
    "from matplotlib import pyplot as plt\n",
    "import tensorflow as tf\n",
    "import tensorflow.keras as keras\n",
    "from tensorflow.keras.layers import GlobalAveragePooling2D, Dense, Dropout\n",
    "from tensorflow.keras.models import Model\n",
    "from tensorflow.keras.callbacks import ModelCheckpoint, EarlyStopping\n",
    "from tensorflow.keras.preprocessing import image_dataset_from_directory\n",
    "from tensorflow.keras.applications import ResNet101\n",
    "from tensorflow.keras.applications.resnet import preprocess_input\n",
    "from tensorboard.plugins.hparams import api as hp\n",
    "from pathlib import Path\n",
    "import sklearn.metrics\n",
    "import sklearn\n",
    "import itertools\n",
    "import io\n",
    "import tensorflow_addons as tfa"
   ]
  },
  {
   "cell_type": "code",
   "execution_count": 3,
   "id": "52bd4cf7",
   "metadata": {
    "ExecuteTime": {
     "end_time": "2022-05-15T19:24:00.805417Z",
     "start_time": "2022-05-15T19:24:00.801245Z"
    },
    "execution": {
     "iopub.execute_input": "2022-05-15T19:31:38.502974Z",
     "iopub.status.busy": "2022-05-15T19:31:38.502388Z",
     "iopub.status.idle": "2022-05-15T19:31:38.504324Z",
     "shell.execute_reply": "2022-05-15T19:31:38.504709Z"
    },
    "papermill": {
     "duration": 0.018711,
     "end_time": "2022-05-15T19:31:38.505014",
     "exception": false,
     "start_time": "2022-05-15T19:31:38.486303",
     "status": "completed"
    },
    "tags": []
   },
   "outputs": [
    {
     "name": "stdout",
     "output_type": "stream",
     "text": [
      "2.4.1\n"
     ]
    }
   ],
   "source": [
    "print(tf.__version__)"
   ]
  },
  {
   "cell_type": "markdown",
   "id": "bfe26c66",
   "metadata": {
    "ExecuteTime": {
     "end_time": "2021-10-24T17:27:22.070482Z",
     "start_time": "2021-10-24T17:27:21.797544Z"
    },
    "papermill": {
     "duration": 0.009312,
     "end_time": "2022-05-15T19:31:38.524501",
     "exception": false,
     "start_time": "2022-05-15T19:31:38.515189",
     "status": "completed"
    },
    "tags": []
   },
   "source": [
    "# Paramêtros"
   ]
  },
  {
   "cell_type": "code",
   "execution_count": 4,
   "id": "b220fb47",
   "metadata": {
    "ExecuteTime": {
     "end_time": "2022-05-15T19:24:03.093456Z",
     "start_time": "2022-05-15T19:24:00.807640Z"
    },
    "execution": {
     "iopub.execute_input": "2022-05-15T19:31:40.545938Z",
     "iopub.status.busy": "2022-05-15T19:31:40.544996Z",
     "iopub.status.idle": "2022-05-15T19:31:40.730828Z",
     "shell.execute_reply": "2022-05-15T19:31:40.731274Z"
    },
    "papermill": {
     "duration": 2.197885,
     "end_time": "2022-05-15T19:31:40.731689",
     "exception": false,
     "start_time": "2022-05-15T19:31:38.533804",
     "status": "completed"
    },
    "tags": []
   },
   "outputs": [
    {
     "name": "stdout",
     "output_type": "stream",
     "text": [
      "INFO:tensorflow:Using MirroredStrategy with devices ('/job:localhost/replica:0/task:0/device:GPU:0', '/job:localhost/replica:0/task:0/device:GPU:1')\n"
     ]
    },
    {
     "name": "stderr",
     "output_type": "stream",
     "text": [
      "2022-05-15 16:31:38.550840: I tensorflow/compiler/jit/xla_cpu_device.cc:41] Not creating XLA devices, tf_xla_enable_xla_devices not set\n",
      "2022-05-15 16:31:38.552833: I tensorflow/stream_executor/platform/default/dso_loader.cc:49] Successfully opened dynamic library libcuda.so.1\n",
      "2022-05-15 16:31:39.515213: I tensorflow/core/common_runtime/gpu/gpu_device.cc:1720] Found device 0 with properties: \n",
      "pciBusID: 0000:3b:00.0 name: NVIDIA GeForce GTX TITAN Black computeCapability: 3.5\n",
      "coreClock: 0.98GHz coreCount: 15 deviceMemorySize: 5.94GiB deviceMemoryBandwidth: 312.92GiB/s\n",
      "2022-05-15 16:31:39.515701: I tensorflow/core/common_runtime/gpu/gpu_device.cc:1720] Found device 1 with properties: \n",
      "pciBusID: 0000:af:00.0 name: NVIDIA GeForce GTX TITAN Black computeCapability: 3.5\n",
      "coreClock: 0.98GHz coreCount: 15 deviceMemorySize: 5.94GiB deviceMemoryBandwidth: 312.92GiB/s\n",
      "2022-05-15 16:31:39.515735: I tensorflow/stream_executor/platform/default/dso_loader.cc:49] Successfully opened dynamic library libcudart.so.10.1\n",
      "2022-05-15 16:31:39.518566: I tensorflow/stream_executor/platform/default/dso_loader.cc:49] Successfully opened dynamic library libcublas.so.10\n",
      "2022-05-15 16:31:39.518640: I tensorflow/stream_executor/platform/default/dso_loader.cc:49] Successfully opened dynamic library libcublasLt.so.10\n",
      "2022-05-15 16:31:39.521626: I tensorflow/stream_executor/platform/default/dso_loader.cc:49] Successfully opened dynamic library libcufft.so.10\n",
      "2022-05-15 16:31:39.522026: I tensorflow/stream_executor/platform/default/dso_loader.cc:49] Successfully opened dynamic library libcurand.so.10\n",
      "2022-05-15 16:31:39.524860: I tensorflow/stream_executor/platform/default/dso_loader.cc:49] Successfully opened dynamic library libcusolver.so.10\n",
      "2022-05-15 16:31:39.526217: I tensorflow/stream_executor/platform/default/dso_loader.cc:49] Successfully opened dynamic library libcusparse.so.10\n",
      "2022-05-15 16:31:39.531854: I tensorflow/stream_executor/platform/default/dso_loader.cc:49] Successfully opened dynamic library libcudnn.so.7\n",
      "2022-05-15 16:31:39.533873: I tensorflow/core/common_runtime/gpu/gpu_device.cc:1862] Adding visible gpu devices: 0, 1\n",
      "2022-05-15 16:31:39.534569: I tensorflow/core/platform/cpu_feature_guard.cc:142] This TensorFlow binary is optimized with oneAPI Deep Neural Network Library (oneDNN) to use the following CPU instructions in performance-critical operations:  SSE4.1 SSE4.2 AVX AVX2 AVX512F FMA\n",
      "To enable them in other operations, rebuild TensorFlow with the appropriate compiler flags.\n",
      "2022-05-15 16:31:39.625624: I tensorflow/core/common_runtime/gpu/gpu_device.cc:1720] Found device 0 with properties: \n",
      "pciBusID: 0000:3b:00.0 name: NVIDIA GeForce GTX TITAN Black computeCapability: 3.5\n",
      "coreClock: 0.98GHz coreCount: 15 deviceMemorySize: 5.94GiB deviceMemoryBandwidth: 312.92GiB/s\n",
      "2022-05-15 16:31:39.626174: I tensorflow/core/common_runtime/gpu/gpu_device.cc:1720] Found device 1 with properties: \n",
      "pciBusID: 0000:af:00.0 name: NVIDIA GeForce GTX TITAN Black computeCapability: 3.5\n",
      "coreClock: 0.98GHz coreCount: 15 deviceMemorySize: 5.94GiB deviceMemoryBandwidth: 312.92GiB/s\n",
      "2022-05-15 16:31:39.626248: I tensorflow/stream_executor/platform/default/dso_loader.cc:49] Successfully opened dynamic library libcudart.so.10.1\n",
      "2022-05-15 16:31:39.626286: I tensorflow/stream_executor/platform/default/dso_loader.cc:49] Successfully opened dynamic library libcublas.so.10\n",
      "2022-05-15 16:31:39.626302: I tensorflow/stream_executor/platform/default/dso_loader.cc:49] Successfully opened dynamic library libcublasLt.so.10\n",
      "2022-05-15 16:31:39.626318: I tensorflow/stream_executor/platform/default/dso_loader.cc:49] Successfully opened dynamic library libcufft.so.10\n",
      "2022-05-15 16:31:39.626331: I tensorflow/stream_executor/platform/default/dso_loader.cc:49] Successfully opened dynamic library libcurand.so.10\n",
      "2022-05-15 16:31:39.626346: I tensorflow/stream_executor/platform/default/dso_loader.cc:49] Successfully opened dynamic library libcusolver.so.10\n",
      "2022-05-15 16:31:39.626359: I tensorflow/stream_executor/platform/default/dso_loader.cc:49] Successfully opened dynamic library libcusparse.so.10\n",
      "2022-05-15 16:31:39.626374: I tensorflow/stream_executor/platform/default/dso_loader.cc:49] Successfully opened dynamic library libcudnn.so.7\n",
      "2022-05-15 16:31:39.628036: I tensorflow/core/common_runtime/gpu/gpu_device.cc:1862] Adding visible gpu devices: 0, 1\n",
      "2022-05-15 16:31:39.628119: I tensorflow/stream_executor/platform/default/dso_loader.cc:49] Successfully opened dynamic library libcudart.so.10.1\n",
      "2022-05-15 16:31:40.535502: I tensorflow/core/common_runtime/gpu/gpu_device.cc:1261] Device interconnect StreamExecutor with strength 1 edge matrix:\n",
      "2022-05-15 16:31:40.535585: I tensorflow/core/common_runtime/gpu/gpu_device.cc:1267]      0 1 \n",
      "2022-05-15 16:31:40.535593: I tensorflow/core/common_runtime/gpu/gpu_device.cc:1280] 0:   N Y \n",
      "2022-05-15 16:31:40.535597: I tensorflow/core/common_runtime/gpu/gpu_device.cc:1280] 1:   Y N \n",
      "2022-05-15 16:31:40.537915: I tensorflow/core/common_runtime/gpu/gpu_device.cc:1406] Created TensorFlow device (/job:localhost/replica:0/task:0/device:GPU:0 with 5581 MB memory) -> physical GPU (device: 0, name: NVIDIA GeForce GTX TITAN Black, pci bus id: 0000:3b:00.0, compute capability: 3.5)\n",
      "2022-05-15 16:31:40.539619: I tensorflow/core/common_runtime/gpu/gpu_device.cc:1406] Created TensorFlow device (/job:localhost/replica:0/task:0/device:GPU:1 with 5581 MB memory) -> physical GPU (device: 1, name: NVIDIA GeForce GTX TITAN Black, pci bus id: 0000:af:00.0, compute capability: 3.5)\n",
      "2022-05-15 16:31:40.540022: I tensorflow/compiler/jit/xla_gpu_device.cc:99] Not creating XLA devices, tf_xla_enable_xla_devices not set\n"
     ]
    }
   ],
   "source": [
    "# Classes\n",
    "num_classes = 8\n",
    "\n",
    "# Epochs\n",
    "n_epochs = 1000\n",
    "n_epochs_ini = 100\n",
    "\n",
    "# Tamanho imagem\n",
    "img_rows, img_cols = 224, 224\n",
    "\n",
    "input_shape = (img_rows, img_cols, 3)\n",
    "\n",
    "#batch_size = 64\n",
    "\n",
    "strategy = tf.distribute.MirroredStrategy()\n",
    "\n",
    "BATCH_SIZE_PER_REPLICA = 16\n",
    "batch_size = BATCH_SIZE_PER_REPLICA * strategy.num_replicas_in_sync\n",
    "\n",
    "options = tf.data.Options()\n",
    "options.experimental_distribute.auto_shard_policy = tf.data.experimental.AutoShardPolicy.DATA\n",
    "\n",
    "\n",
    "# seed\n",
    "seed = 42\n",
    "\n",
    "path_dataset = Path('/scratch/dpfurtado/backup_home/corais/5_subimage_224_224/dataset/1_train_50/')\n",
    "path_train = path_dataset/'train'\n",
    "path_train_dev = path_dataset/'train-dev'\n",
    "\n",
    "nome_modelo = 'resnet101_imagenet'\n",
    "\n",
    "\n",
    "logs_dir = os.path.join('./logs/', nome_modelo)\n",
    "\n",
    "!rm -r {logs_dir}"
   ]
  },
  {
   "cell_type": "markdown",
   "id": "ab258120",
   "metadata": {
    "papermill": {
     "duration": 0.010606,
     "end_time": "2022-05-15T19:31:40.753982",
     "exception": false,
     "start_time": "2022-05-15T19:31:40.743376",
     "status": "completed"
    },
    "tags": []
   },
   "source": [
    "# Carregando Base de Dados"
   ]
  },
  {
   "cell_type": "code",
   "execution_count": 5,
   "id": "dfcf5fac",
   "metadata": {
    "ExecuteTime": {
     "end_time": "2022-05-15T19:24:03.404098Z",
     "start_time": "2022-05-15T19:24:03.096051Z"
    },
    "execution": {
     "iopub.execute_input": "2022-05-15T19:31:40.781950Z",
     "iopub.status.busy": "2022-05-15T19:31:40.781372Z",
     "iopub.status.idle": "2022-05-15T19:31:41.124612Z",
     "shell.execute_reply": "2022-05-15T19:31:41.125025Z"
    },
    "papermill": {
     "duration": 0.361267,
     "end_time": "2022-05-15T19:31:41.125424",
     "exception": false,
     "start_time": "2022-05-15T19:31:40.764157",
     "status": "completed"
    },
    "tags": []
   },
   "outputs": [
    {
     "name": "stdout",
     "output_type": "stream",
     "text": [
      "Found 1394 files belonging to 8 classes.\n"
     ]
    },
    {
     "name": "stdout",
     "output_type": "stream",
     "text": [
      "Found 143 files belonging to 8 classes.\n"
     ]
    }
   ],
   "source": [
    "train_dataset = image_dataset_from_directory(\n",
    "    path_train,\n",
    "    image_size=(img_rows, img_cols),\n",
    "    color_mode=\"rgb\",\n",
    "    batch_size=batch_size,\n",
    "    shuffle=True)\n",
    "train_dev_dataset = image_dataset_from_directory(\n",
    "    path_train_dev,\n",
    "    image_size=(img_rows, img_cols),\n",
    "    color_mode=\"rgb\",\n",
    "    batch_size=batch_size,\n",
    "    shuffle=False)"
   ]
  },
  {
   "cell_type": "code",
   "execution_count": 6,
   "id": "ea0ec128",
   "metadata": {
    "ExecuteTime": {
     "end_time": "2022-05-15T19:24:03.410509Z",
     "start_time": "2022-05-15T19:24:03.406258Z"
    },
    "execution": {
     "iopub.execute_input": "2022-05-15T19:31:41.154513Z",
     "iopub.status.busy": "2022-05-15T19:31:41.154008Z",
     "iopub.status.idle": "2022-05-15T19:31:41.156462Z",
     "shell.execute_reply": "2022-05-15T19:31:41.155957Z"
    },
    "papermill": {
     "duration": 0.019123,
     "end_time": "2022-05-15T19:31:41.156629",
     "exception": false,
     "start_time": "2022-05-15T19:31:41.137506",
     "status": "completed"
    },
    "tags": []
   },
   "outputs": [],
   "source": [
    "class_names =train_dev_dataset.class_names\n",
    "for i in range(len(class_names)):\n",
    "    class_names[i] = class_names[i].replace('_', ' ')"
   ]
  },
  {
   "cell_type": "code",
   "execution_count": 7,
   "id": "4761c9fc",
   "metadata": {
    "ExecuteTime": {
     "end_time": "2022-05-15T19:24:03.495512Z",
     "start_time": "2022-05-15T19:24:03.411963Z"
    },
    "execution": {
     "iopub.execute_input": "2022-05-15T19:31:41.181455Z",
     "iopub.status.busy": "2022-05-15T19:31:41.180965Z",
     "iopub.status.idle": "2022-05-15T19:31:41.184305Z",
     "shell.execute_reply": "2022-05-15T19:31:41.183893Z"
    },
    "papermill": {
     "duration": 0.017893,
     "end_time": "2022-05-15T19:31:41.184458",
     "exception": false,
     "start_time": "2022-05-15T19:31:41.166565",
     "status": "completed"
    },
    "tags": []
   },
   "outputs": [
    {
     "name": "stdout",
     "output_type": "stream",
     "text": [
      "['Agaricia spp', 'Favia gravida', 'Millepora alcicornis', 'Montastraea cavernosa', 'Palythoa caribaeorum', 'Porites astreoides', 'Siderastrea stellata', 'Zoanthus sociatus']\n"
     ]
    }
   ],
   "source": [
    "print(class_names)"
   ]
  },
  {
   "cell_type": "code",
   "execution_count": 8,
   "id": "fb6d0820",
   "metadata": {
    "ExecuteTime": {
     "end_time": "2022-05-15T19:24:04.424859Z",
     "start_time": "2022-05-15T19:24:03.497238Z"
    },
    "execution": {
     "iopub.execute_input": "2022-05-15T19:31:41.211759Z",
     "iopub.status.busy": "2022-05-15T19:31:41.211236Z",
     "iopub.status.idle": "2022-05-15T19:31:41.987498Z",
     "shell.execute_reply": "2022-05-15T19:31:41.988047Z"
    },
    "papermill": {
     "duration": 0.793832,
     "end_time": "2022-05-15T19:31:41.988537",
     "exception": false,
     "start_time": "2022-05-15T19:31:41.194705",
     "status": "completed"
    },
    "tags": []
   },
   "outputs": [
    {
     "name": "stderr",
     "output_type": "stream",
     "text": [
      "2022-05-15 16:31:41.215763: I tensorflow/compiler/mlir/mlir_graph_optimization_pass.cc:116] None of the MLIR optimization passes are enabled (registered 2)\n",
      "2022-05-15 16:31:41.235407: I tensorflow/core/platform/profile_utils/cpu_utils.cc:112] CPU Frequency: 2200000000 Hz\n"
     ]
    }
   ],
   "source": [
    "y_test = np.concatenate([y for x, y in train_dev_dataset], axis=0)"
   ]
  },
  {
   "cell_type": "code",
   "execution_count": 9,
   "id": "999f15eb",
   "metadata": {
    "ExecuteTime": {
     "end_time": "2022-05-15T19:24:04.431767Z",
     "start_time": "2022-05-15T19:24:04.428222Z"
    },
    "execution": {
     "iopub.execute_input": "2022-05-15T19:31:42.020908Z",
     "iopub.status.busy": "2022-05-15T19:31:42.020333Z",
     "iopub.status.idle": "2022-05-15T19:31:42.022499Z",
     "shell.execute_reply": "2022-05-15T19:31:42.021960Z"
    },
    "papermill": {
     "duration": 0.020857,
     "end_time": "2022-05-15T19:31:42.022711",
     "exception": false,
     "start_time": "2022-05-15T19:31:42.001854",
     "status": "completed"
    },
    "tags": []
   },
   "outputs": [],
   "source": [
    "train_dataset = train_dataset.with_options(options)\n",
    "train_dev_dataset = train_dev_dataset.with_options(options)"
   ]
  },
  {
   "cell_type": "code",
   "execution_count": 10,
   "id": "cb599781",
   "metadata": {
    "ExecuteTime": {
     "end_time": "2022-05-15T19:24:04.547604Z",
     "start_time": "2022-05-15T19:24:04.433117Z"
    },
    "execution": {
     "iopub.execute_input": "2022-05-15T19:31:42.062173Z",
     "iopub.status.busy": "2022-05-15T19:31:42.061565Z",
     "iopub.status.idle": "2022-05-15T19:31:42.064047Z",
     "shell.execute_reply": "2022-05-15T19:31:42.063527Z"
    },
    "papermill": {
     "duration": 0.024922,
     "end_time": "2022-05-15T19:31:42.064257",
     "exception": false,
     "start_time": "2022-05-15T19:31:42.039335",
     "status": "completed"
    },
    "tags": []
   },
   "outputs": [],
   "source": [
    "AUTOTUNE = tf.data.AUTOTUNE\n",
    "\n",
    "train_dataset = train_dataset.cache().prefetch(\n",
    "    buffer_size=AUTOTUNE)  # Otimização\n",
    "train_dev_dataset = train_dev_dataset.cache().prefetch(buffer_size=AUTOTUNE)"
   ]
  },
  {
   "cell_type": "code",
   "execution_count": 11,
   "id": "35f8d922",
   "metadata": {
    "ExecuteTime": {
     "end_time": "2022-05-15T19:24:04.663648Z",
     "start_time": "2022-05-15T19:24:04.549717Z"
    },
    "execution": {
     "iopub.execute_input": "2022-05-15T19:31:42.097831Z",
     "iopub.status.busy": "2022-05-15T19:31:42.097248Z",
     "iopub.status.idle": "2022-05-15T19:31:42.099824Z",
     "shell.execute_reply": "2022-05-15T19:31:42.099278Z"
    },
    "papermill": {
     "duration": 0.024283,
     "end_time": "2022-05-15T19:31:42.099977",
     "exception": false,
     "start_time": "2022-05-15T19:31:42.075694",
     "status": "completed"
    },
    "tags": []
   },
   "outputs": [],
   "source": [
    "def plot_confusion_matrix(cm, class_names):\n",
    "    \"\"\"\n",
    "    Returns a matplotlib figure containing the plotted confusion matrix.\n",
    "\n",
    "    Args:\n",
    "      cm (array, shape = [n, n]): a confusion matrix of integer classes\n",
    "      class_names (array, shape = [n]): String names of the integer classes\n",
    "    \"\"\"\n",
    "    figure = plt.figure(figsize=(8, 8))\n",
    "    plt.imshow(cm, interpolation='nearest', cmap=plt.cm.Blues)\n",
    "    plt.title(\"Confusion matrix\")\n",
    "    plt.colorbar()\n",
    "    tick_marks = np.arange(len(class_names))\n",
    "    plt.xticks(tick_marks, class_names, rotation=90)\n",
    "    plt.yticks(tick_marks, class_names)\n",
    "\n",
    "    # Compute the labels from the normalized confusion matrix.\n",
    "    labels = np.around(cm, decimals=2)\n",
    "\n",
    "    # Use white text if squares are dark; otherwise black.\n",
    "    threshold = cm.max() / 2.\n",
    "    for i, j in itertools.product(range(cm.shape[0]), range(cm.shape[1])):\n",
    "        color = \"white\" if cm[i, j] > threshold else \"black\"\n",
    "        plt.text(j, i, labels[i, j], horizontalalignment=\"center\", color=color)\n",
    "\n",
    "    plt.tight_layout()\n",
    "    plt.ylabel('True label')\n",
    "    plt.xlabel('Predicted label')\n",
    "    return figure\n",
    "\n",
    "\n",
    "def plot_to_image(figure):\n",
    "    \"\"\"Converts the matplotlib plot specified by 'figure' to a PNG image and\n",
    "    returns it. The supplied figure is closed and inaccessible after this call.\"\"\"\n",
    "    # Save the plot to a PNG in memory.\n",
    "    buf = io.BytesIO()\n",
    "    plt.savefig(buf, format='png')\n",
    "    # Closing the figure prevents it from being displayed directly inside\n",
    "    # the notebook.\n",
    "    plt.close(figure)\n",
    "    buf.seek(0)\n",
    "    # Convert PNG buffer to TF image\n",
    "    image = tf.image.decode_png(buf.getvalue(), channels=4)\n",
    "    # Add the batch dimension\n",
    "    image = tf.expand_dims(image, 0)\n",
    "    return image\n"
   ]
  },
  {
   "cell_type": "code",
   "execution_count": 12,
   "id": "886dce52",
   "metadata": {
    "ExecuteTime": {
     "end_time": "2022-05-15T19:28:52.057453Z",
     "start_time": "2022-05-15T19:24:04.665995Z"
    },
    "execution": {
     "iopub.execute_input": "2022-05-15T19:31:42.140924Z",
     "iopub.status.busy": "2022-05-15T19:31:42.132549Z",
     "iopub.status.idle": "2022-05-15T20:19:47.127952Z",
     "shell.execute_reply": "2022-05-15T20:19:47.128584Z"
    },
    "papermill": {
     "duration": 2885.016839,
     "end_time": "2022-05-15T20:19:47.129128",
     "exception": false,
     "start_time": "2022-05-15T19:31:42.112289",
     "status": "completed"
    },
    "scrolled": true,
    "tags": []
   },
   "outputs": [
    {
     "name": "stdout",
     "output_type": "stream",
     "text": [
      "INFO:tensorflow:Reduce to /job:localhost/replica:0/task:0/device:CPU:0 then broadcast to ('/job:localhost/replica:0/task:0/device:CPU:0',).\n"
     ]
    },
    {
     "name": "stdout",
     "output_type": "stream",
     "text": [
      "INFO:tensorflow:Reduce to /job:localhost/replica:0/task:0/device:CPU:0 then broadcast to ('/job:localhost/replica:0/task:0/device:CPU:0',).\n"
     ]
    },
    {
     "name": "stdout",
     "output_type": "stream",
     "text": [
      "INFO:tensorflow:Reduce to /job:localhost/replica:0/task:0/device:CPU:0 then broadcast to ('/job:localhost/replica:0/task:0/device:CPU:0',).\n"
     ]
    },
    {
     "name": "stdout",
     "output_type": "stream",
     "text": [
      "INFO:tensorflow:Reduce to /job:localhost/replica:0/task:0/device:CPU:0 then broadcast to ('/job:localhost/replica:0/task:0/device:CPU:0',).\n"
     ]
    },
    {
     "name": "stdout",
     "output_type": "stream",
     "text": [
      "INFO:tensorflow:Reduce to /job:localhost/replica:0/task:0/device:CPU:0 then broadcast to ('/job:localhost/replica:0/task:0/device:CPU:0',).\n"
     ]
    },
    {
     "name": "stdout",
     "output_type": "stream",
     "text": [
      "INFO:tensorflow:Reduce to /job:localhost/replica:0/task:0/device:CPU:0 then broadcast to ('/job:localhost/replica:0/task:0/device:CPU:0',).\n"
     ]
    },
    {
     "name": "stdout",
     "output_type": "stream",
     "text": [
      "INFO:tensorflow:Reduce to /job:localhost/replica:0/task:0/device:CPU:0 then broadcast to ('/job:localhost/replica:0/task:0/device:CPU:0',).\n"
     ]
    },
    {
     "name": "stdout",
     "output_type": "stream",
     "text": [
      "INFO:tensorflow:Reduce to /job:localhost/replica:0/task:0/device:CPU:0 then broadcast to ('/job:localhost/replica:0/task:0/device:CPU:0',).\n"
     ]
    },
    {
     "name": "stdout",
     "output_type": "stream",
     "text": [
      "INFO:tensorflow:Reduce to /job:localhost/replica:0/task:0/device:CPU:0 then broadcast to ('/job:localhost/replica:0/task:0/device:CPU:0',).\n"
     ]
    },
    {
     "name": "stdout",
     "output_type": "stream",
     "text": [
      "INFO:tensorflow:Reduce to /job:localhost/replica:0/task:0/device:CPU:0 then broadcast to ('/job:localhost/replica:0/task:0/device:CPU:0',).\n"
     ]
    },
    {
     "name": "stdout",
     "output_type": "stream",
     "text": [
      "INFO:tensorflow:batch_all_reduce: 2 all-reduces with algorithm = nccl, num_packs = 1\n"
     ]
    },
    {
     "name": "stdout",
     "output_type": "stream",
     "text": [
      "INFO:tensorflow:batch_all_reduce: 2 all-reduces with algorithm = nccl, num_packs = 1\n"
     ]
    },
    {
     "name": "stderr",
     "output_type": "stream",
     "text": [
      "2022-05-15 16:32:04.820570: I tensorflow/stream_executor/platform/default/dso_loader.cc:49] Successfully opened dynamic library libcublas.so.10\n"
     ]
    },
    {
     "name": "stderr",
     "output_type": "stream",
     "text": [
      "2022-05-15 16:32:09.685639: I tensorflow/stream_executor/platform/default/dso_loader.cc:49] Successfully opened dynamic library libcudnn.so.7\n"
     ]
    },
    {
     "name": "stdout",
     "output_type": "stream",
     "text": [
      "INFO:tensorflow:batch_all_reduce: 418 all-reduces with algorithm = nccl, num_packs = 1\n"
     ]
    },
    {
     "name": "stdout",
     "output_type": "stream",
     "text": [
      "INFO:tensorflow:batch_all_reduce: 418 all-reduces with algorithm = nccl, num_packs = 1\n"
     ]
    },
    {
     "name": "stderr",
     "output_type": "stream",
     "text": [
      "2022-05-15 16:50:20.605468: W tensorflow/python/util/util.cc:348] Sets are not currently considered sequences, but this may change in the future, so consider avoiding using them.\n"
     ]
    },
    {
     "name": "stdout",
     "output_type": "stream",
     "text": [
      "INFO:tensorflow:Assets written to: ./model/resnet101_imagenet/assets\n"
     ]
    },
    {
     "name": "stdout",
     "output_type": "stream",
     "text": [
      "INFO:tensorflow:Assets written to: ./model/resnet101_imagenet/assets\n"
     ]
    },
    {
     "name": "stdout",
     "output_type": "stream",
     "text": [
      "INFO:tensorflow:Assets written to: ./model/resnet101_imagenet/assets\n"
     ]
    },
    {
     "name": "stdout",
     "output_type": "stream",
     "text": [
      "INFO:tensorflow:Assets written to: ./model/resnet101_imagenet/assets\n"
     ]
    },
    {
     "name": "stdout",
     "output_type": "stream",
     "text": [
      "INFO:tensorflow:Assets written to: ./model/resnet101_imagenet/assets\n"
     ]
    },
    {
     "name": "stdout",
     "output_type": "stream",
     "text": [
      "INFO:tensorflow:Assets written to: ./model/resnet101_imagenet/assets\n"
     ]
    },
    {
     "name": "stdout",
     "output_type": "stream",
     "text": [
      "INFO:tensorflow:Assets written to: ./model/resnet101_imagenet/assets\n"
     ]
    },
    {
     "name": "stdout",
     "output_type": "stream",
     "text": [
      "INFO:tensorflow:Assets written to: ./model/resnet101_imagenet/assets\n"
     ]
    },
    {
     "name": "stdout",
     "output_type": "stream",
     "text": [
      "INFO:tensorflow:Assets written to: ./model/resnet101_imagenet/assets\n"
     ]
    },
    {
     "name": "stdout",
     "output_type": "stream",
     "text": [
      "INFO:tensorflow:Assets written to: ./model/resnet101_imagenet/assets\n"
     ]
    },
    {
     "name": "stdout",
     "output_type": "stream",
     "text": [
      "INFO:tensorflow:Assets written to: ./model/resnet101_imagenet/assets\n"
     ]
    }
   ],
   "source": [
    "run_dir = logs_dir\n",
    "\n",
    "file_writer_cm = tf.summary.create_file_writer(run_dir + '/cm')\n",
    "\n",
    "\n",
    "def log_confusion_matrix(epoch, logs):\n",
    "    # Use the model to predict the values from the validation dataset.\n",
    "    test_pred_raw = model.predict(train_dev_dataset)\n",
    "    test_pred = np.argmax(test_pred_raw, axis=1)\n",
    "\n",
    "    # Calculate the confusion matrix.\n",
    "    cm = sklearn.metrics.confusion_matrix(\n",
    "        y_test, test_pred, normalize='true')\n",
    "    # Log the confusion matrix as an image summary.\n",
    "    figure = plot_confusion_matrix(cm, class_names=class_names)\n",
    "    cm_image = plot_to_image(figure)\n",
    "\n",
    "    # Log the confusion matrix as an image summary.\n",
    "    with file_writer_cm.as_default():\n",
    "        tf.summary.image(\"Confusion Matrix\", cm_image, step=epoch)\n",
    "\n",
    "\n",
    "# Define the per-epoch callback.\n",
    "cm_callback = keras.callbacks.LambdaCallback(\n",
    "    on_epoch_end=log_confusion_matrix)\n",
    "with strategy.scope():\n",
    "    # loss\n",
    "    loss = tf.keras.losses.SparseCategoricalCrossentropy(from_logits=True)\n",
    "    # métricas\n",
    "    metrics = [tf.keras.metrics.SparseCategoricalAccuracy(name='accuracy')]\n",
    "    data_augmentation = tf.keras.Sequential(\n",
    "        [tf.keras.layers.experimental.preprocessing.RandomFlip('horizontal_and_vertical')])\n",
    "    # Keras sequential model with Hyperparameters passed from the argument\n",
    "    # Keras sequential model with Hyperparameters passed from the argument\n",
    "    cnn = ResNet101(weights='imagenet', include_top=False,\n",
    "                    input_shape=input_shape)\n",
    "    # Para o primeiro treinamento as camadas convolucionais não serão treinadas\n",
    "    cnn.trainable = False\n",
    "    inputs = keras.Input(shape=input_shape)\n",
    "    x = data_augmentation(inputs)\n",
    "    x = preprocess_input(x)\n",
    "    # Camadas de Batch Normalization em inference mode\n",
    "    x = cnn(x, training=False)\n",
    "    x = GlobalAveragePooling2D()(x)\n",
    "    x = keras.layers.Dropout(0.2)(x)\n",
    "    predictions = Dense(num_classes)(x)\n",
    "    model = Model(inputs, predictions)\n",
    "    lr_denso = 1e-4\n",
    "    model.compile(optimizer=keras.optimizers.SGD(\n",
    "        learning_rate=lr_denso, momentum=0.9), loss=loss, metrics=metrics)\n",
    "\n",
    "\n",
    "def scheduler_denso(epoch, lr):\n",
    "    lr_0 = lr_denso\n",
    "    epoch_ini_lr = 20\n",
    "    if epoch < epoch_ini_lr:\n",
    "        learning_rate = lr\n",
    "        with tf.summary.create_file_writer(run_dir + '/metric').as_default():\n",
    "            tf.summary.scalar(\n",
    "                'learning rate', data=learning_rate, step=epoch)\n",
    "        return learning_rate\n",
    "    else:\n",
    "        learning_rate = lr_0 * \\\n",
    "            tf.math.exp(-0.005*(epoch-epoch_ini_lr)).numpy()\n",
    "        with tf.summary.create_file_writer(run_dir + '/metric').as_default():\n",
    "            tf.summary.scalar(\n",
    "                'learning rate', data=learning_rate, step=epoch)\n",
    "        return learning_rate\n",
    "\n",
    "\n",
    "callbacks_dense = [tf.keras.callbacks.TensorBoard(run_dir, profile_batch=0, write_graph=False),\n",
    "                   tf.keras.callbacks.LearningRateScheduler(\n",
    "    scheduler_denso, verbose=0),\n",
    "    cm_callback,\n",
    "    EarlyStopping(patience=15)]\n",
    "# Training the network\n",
    "history_dense = model.fit(train_dataset, epochs=n_epochs_ini, verbose=0,\n",
    "                          validation_data=train_dev_dataset, callbacks=callbacks_dense)\n",
    "\n",
    "treinamento_denso = len(history_dense.history['loss'])\n",
    "with strategy.scope():\n",
    "    cnn.trainable = True\n",
    "    # loss\n",
    "    loss = tf.keras.losses.SparseCategoricalCrossentropy(from_logits=True)\n",
    "    # métricas\n",
    "    metrics = [tf.keras.metrics.SparseCategoricalAccuracy(name='accuracy')]\n",
    "    lr_full = 1e-5\n",
    "    model.compile(\n",
    "        optimizer=keras.optimizers.SGD(\n",
    "            learning_rate=lr_full, momentum=0.9),\n",
    "        loss=loss,\n",
    "        metrics=metrics\n",
    "    )\n",
    "\n",
    "\n",
    "def scheduler_cnn(epoch, lr):\n",
    "    lr_0 = lr_full\n",
    "    learning_rate = lr_0 * \\\n",
    "        tf.math.exp(-0.02*(epoch-treinamento_denso)).numpy()\n",
    "    with tf.summary.create_file_writer(run_dir + '/metric').as_default():\n",
    "        tf.summary.scalar(\n",
    "            'learning rate', data=learning_rate, step=epoch)\n",
    "    return learning_rate\n",
    "\n",
    "nome_save_model = nome_modelo\n",
    "\n",
    "model_dir = os.path.join('./model/', nome_save_model)\n",
    "\n",
    "callbacks_cnn = [tf.keras.callbacks.TensorBoard(run_dir, profile_batch=0, write_graph=False),\n",
    "                 tf.keras.callbacks.LearningRateScheduler(\n",
    "                 scheduler_cnn, verbose=0),\n",
    "                 cm_callback,\n",
    "                 EarlyStopping(patience=30),\n",
    "                ModelCheckpoint(filepath=model_dir,monitor=\"val_loss\",save_best_only=True)]\n",
    "\n",
    "history_cnn = model.fit(train_dataset, epochs=n_epochs, initial_epoch=treinamento_denso, verbose=0,\n",
    "                        validation_data=train_dev_dataset, callbacks=callbacks_cnn)\n",
    "\n",
    "treinamento_cnn = len(history_cnn.history['loss'])\n"
   ]
  },
  {
   "cell_type": "code",
   "execution_count": 13,
   "id": "8ddd615c",
   "metadata": {
    "ExecuteTime": {
     "end_time": "2022-05-15T19:28:52.101872Z",
     "start_time": "2022-05-15T19:28:52.064014Z"
    },
    "execution": {
     "iopub.execute_input": "2022-05-15T20:19:47.175530Z",
     "iopub.status.busy": "2022-05-15T20:19:47.174915Z",
     "iopub.status.idle": "2022-05-15T20:19:47.177044Z",
     "shell.execute_reply": "2022-05-15T20:19:47.177467Z"
    },
    "papermill": {
     "duration": 0.027345,
     "end_time": "2022-05-15T20:19:47.177696",
     "exception": false,
     "start_time": "2022-05-15T20:19:47.150351",
     "status": "completed"
    },
    "tags": []
   },
   "outputs": [
    {
     "name": "stdout",
     "output_type": "stream",
     "text": [
      "100\n",
      "42\n"
     ]
    }
   ],
   "source": [
    "print(treinamento_denso)\n",
    "print(treinamento_cnn)"
   ]
  }
 ],
 "metadata": {
  "hide_input": false,
  "kernelspec": {
   "display_name": "Python 3 (ipykernel)",
   "language": "python",
   "name": "python3"
  },
  "language_info": {
   "codemirror_mode": {
    "name": "ipython",
    "version": 3
   },
   "file_extension": ".py",
   "mimetype": "text/x-python",
   "name": "python",
   "nbconvert_exporter": "python",
   "pygments_lexer": "ipython3",
   "version": "3.8.8"
  },
  "papermill": {
   "default_parameters": {},
   "duration": 2897.015864,
   "end_time": "2022-05-15T20:19:51.223348",
   "environment_variables": {},
   "exception": null,
   "input_path": "resnet.ipynb",
   "output_path": "resnet_output.ipynb",
   "parameters": {},
   "start_time": "2022-05-15T19:31:34.207484",
   "version": "2.3.3"
  },
  "toc": {
   "base_numbering": 1,
   "nav_menu": {},
   "number_sections": true,
   "sideBar": true,
   "skip_h1_title": false,
   "title_cell": "Table of Contents",
   "title_sidebar": "Contents",
   "toc_cell": false,
   "toc_position": {},
   "toc_section_display": true,
   "toc_window_display": false
  },
  "varInspector": {
   "cols": {
    "lenName": 16,
    "lenType": 16,
    "lenVar": 40
   },
   "kernels_config": {
    "python": {
     "delete_cmd_postfix": "",
     "delete_cmd_prefix": "del ",
     "library": "var_list.py",
     "varRefreshCmd": "print(var_dic_list())"
    },
    "r": {
     "delete_cmd_postfix": ") ",
     "delete_cmd_prefix": "rm(",
     "library": "var_list.r",
     "varRefreshCmd": "cat(var_dic_list()) "
    }
   },
   "types_to_exclude": [
    "module",
    "function",
    "builtin_function_or_method",
    "instance",
    "_Feature"
   ],
   "window_display": false
  }
 },
 "nbformat": 4,
 "nbformat_minor": 5
}